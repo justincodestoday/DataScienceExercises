{
 "cells": [
  {
   "cell_type": "markdown",
   "metadata": {},
   "source": [
    "<img src=\"https://i.imgur.com/FoKB5Z5.png\" align=\"left\" width=\"300\" height=\"250\" title=\"source: imgur.com\" /></a>"
   ]
  },
  {
   "cell_type": "markdown",
   "metadata": {},
   "source": [
    "## Program Code: J620-002-4:2020 \n",
    "\n",
    "## Program Name: FRONT-END SOFTWARE DEVELOPMENT\n",
    "\n",
    "## Title :  Basic Text Analytics using NLTK\n",
    "\n",
    "#### Name: \n",
    "\n",
    "#### IC Number:\n",
    "\n",
    "#### Date :\n",
    "\n",
    "#### Introduction : \n",
    "\n",
    "\n",
    "\n",
    "#### Conclusion :\n",
    "\n",
    "\n",
    "\n",
    "\n"
   ]
  },
  {
   "cell_type": "markdown",
   "metadata": {},
   "source": [
    "# NLTK - Basic Text Analytics \n",
    "\n",
    "- Word & Sentence tokenizer\n",
    "\n",
    "- Parts of Speech (POS) tagger\n",
    "\n",
    "- Extracting Entities\n",
    "\n",
    "**Installation**\n",
    "\n",
    "conda install -c conda-forge nltk\n"
   ]
  },
  {
   "cell_type": "code",
   "execution_count": 1,
   "metadata": {},
   "outputs": [
    {
     "name": "stderr",
     "output_type": "stream",
     "text": [
      "[nltk_data] Downloading package punkt to\n",
      "[nltk_data]     C:\\Users\\ACER\\AppData\\Roaming\\nltk_data...\n",
      "[nltk_data]   Unzipping tokenizers\\punkt.zip.\n",
      "[nltk_data] Downloading package stopwords to\n",
      "[nltk_data]     C:\\Users\\ACER\\AppData\\Roaming\\nltk_data...\n",
      "[nltk_data]   Unzipping corpora\\stopwords.zip.\n"
     ]
    },
    {
     "data": {
      "text/plain": [
       "True"
      ]
     },
     "execution_count": 1,
     "metadata": {},
     "output_type": "execute_result"
    }
   ],
   "source": [
    "import nltk\n",
    "\n",
    "nltk.download('punkt')\n",
    "nltk.download('stopwords')"
   ]
  },
  {
   "cell_type": "markdown",
   "metadata": {},
   "source": [
    "## Text Analytics for Beginners using NLTK\n",
    "Learn How to analyze text using NLTK. Analyze people's sentiments and classify movie reviews.\n",
    "\n",
    "In today's area of internet and online services, data is generating at incredible speed and amount. Generally, Data analyst, engineer, and scientists are handling relational or tabular data. These tabular data columns have either numerical or categorical data. Generated data has a variety of structures such as text, image, audio, and video. Online activities such as articles, website text, blog posts, social media posts are generating unstructured textual data. Corporate and business need to analyze textual data to understand customer activities, opinion, and feedback to successfully derive their business. To compete with big textual data, text analytics is evolving at a faster rate than ever before.\n",
    "\n",
    "Text Analytics has lots of applications in today's online world. By analyzing tweets on Twitter, we can find trending news and peoples reaction on a particular event. Amazon can understand user feedback or review on the specific product. BookMyShow can discover people's opinion about the movie. Youtube can also analyze and understand peoples viewpoints on a video.\n",
    "\n",
    "In this tutorial, you are going to cover the following topics:\n",
    "\n",
    "Text Analytics and NLP\n",
    "Compare Text Analytics, NLP and Text Mining\n",
    "Text Analysis Operations using NLTK\n",
    "Tokenization\n",
    "Stopwords\n",
    "Lexicon Normalization such as Stemming and Lemmatization\n",
    "POS Tagging\n",
    "Sentiment Analysis\n",
    "Text Classification\n",
    "Performing Sentiment Analysis using Text Classification"
   ]
  },
  {
   "cell_type": "markdown",
   "metadata": {},
   "source": [
    "## Text Analytics and NLP\n",
    "\n",
    "Text communication is one of the most popular forms of day to day conversion. We chat, message, tweet, share status, email, write blogs, share opinion and feedback in our daily routine. All of these activities are generating text in a significant amount, which is unstructured in nature. I this area of the online marketplace and social media, It is essential to analyze vast quantities of data, to understand peoples opinion.\n",
    "\n",
    "NLP enables the computer to interact with humans in a natural manner. It helps the computer to understand the human language and derive meaning from it. NLP is applicable in several problematic from speech recognition, language translation, classifying documents to information extraction. Analyzing movie review is one of the classic examples to demonstrate a simple NLP Bag-of-words model, on movie reviews."
   ]
  },
  {
   "cell_type": "markdown",
   "metadata": {},
   "source": [
    "## Compare Text Analytics, NLP and Text Mining\n",
    "\n",
    "Text mining also referred to as text analytics. Text mining is a process of exploring sizeable textual data and find patterns. Text Mining process the text itself, while NLP process with the underlying metadata. Finding frequency counts of words, length of the sentence, presence/absence of specific words is known as text mining. Natural language processing is one of the components of text mining. NLP helps identified sentiment, finding entities in the sentence, and category of blog/article. Text mining is preprocessed data for text analytics. In Text Analytics, statistical and machine learning algorithm used to classify information."
   ]
  },
  {
   "cell_type": "markdown",
   "metadata": {},
   "source": [
    "## Text Analysis Operations using NLTK\n",
    "\n",
    "NLTK is a powerful Python package that provides a set of diverse natural languages algorithms. It is free, opensource, easy to use, large community, and well documented. NLTK consists of the most common algorithms such as tokenizing, part-of-speech tagging, stemming, sentiment analysis, topic segmentation, and named entity recognition. NLTK helps the computer to analysis, preprocess, and understand the written text."
   ]
  },
  {
   "cell_type": "markdown",
   "metadata": {},
   "source": [
    "## Tokenization\n",
    "\n",
    "Tokenization is the first step in text analytics. The process of breaking down a text paragraph into smaller chunks such as words or sentence is called Tokenization. Token is a single entity that is building blocks for sentence or paragraph.\n",
    "\n",
    "## Sentence Tokenization\n",
    "Sentence tokenizer breaks text paragraph into sentences."
   ]
  },
  {
   "cell_type": "code",
   "execution_count": 2,
   "metadata": {},
   "outputs": [
    {
     "name": "stdout",
     "output_type": "stream",
     "text": [
      "['Table & Apron – formerly The Kitchen Table Restaurant & Bakery – doesn’t exist to disrupt the scene.', 'From the outside, it barely stretches the boundaries of what is an already saturated restaurant-cum-bakery scene.', 'But none of it matters.', 'Because right from its birth in 2014, Table & Apron has proven to be a restaurant that has in spades a component so elementary yet so rare – heart.', 'Through hard work, dedication and all the boring old-fashioned virtues of an honest operation, owner Marcus Low and his team have carved for us a little treasure in Damansara Kim.', '(Credit must also be given to former co-owner Mei Wan Tan.)', 'The narcissism you’ll find in so many KL']\n"
     ]
    }
   ],
   "source": [
    "import nltk\n",
    "\n",
    "from nltk.tokenize import sent_tokenize, word_tokenize\n",
    "\n",
    "# conda install -c anaconda nltk\n",
    "\n",
    "url = 'https://www.timeout.com/kuala-lumpur/food-and-drink/food-reviews'\n",
    "\n",
    "text = '''Table & Apron – formerly The Kitchen Table Restaurant & Bakery – doesn’t exist to disrupt the scene. From the outside, it barely stretches the boundaries of what is an already saturated restaurant-cum-bakery scene. But none of it matters. Because right from its birth in 2014, Table & Apron has proven to be a restaurant that has in spades a component so elementary yet so rare – heart. Through hard work, dedication and all the boring old-fashioned virtues of an honest operation, owner Marcus Low and his team have carved for us a little treasure in Damansara Kim. (Credit must also be given to former co-owner Mei Wan Tan.) The narcissism you’ll find in so many KL \n",
    "'''\n",
    "\n",
    "sentences = nltk.sent_tokenize(text)\n",
    "\n",
    "print(sentences)"
   ]
  },
  {
   "cell_type": "markdown",
   "metadata": {},
   "source": [
    "Here, the given text is tokenized into sentences.\n",
    "\n",
    "## Word Tokenization\n",
    "Word tokenizer breaks text paragraph into words."
   ]
  },
  {
   "cell_type": "code",
   "execution_count": 3,
   "metadata": {},
   "outputs": [
    {
     "name": "stdout",
     "output_type": "stream",
     "text": [
      "['Table', '&', 'Apron', '–', 'formerly', 'The', 'Kitchen', 'Table', 'Restaurant', '&', 'Bakery', '–', 'doesn', '’', 't', 'exist', 'to', 'disrupt', 'the', 'scene', '.', 'From', 'the', 'outside', ',', 'it', 'barely', 'stretches', 'the', 'boundaries', 'of', 'what', 'is', 'an', 'already', 'saturated', 'restaurant-cum-bakery', 'scene', '.', 'But', 'none', 'of', 'it', 'matters', '.', 'Because', 'right', 'from', 'its', 'birth', 'in', '2014', ',', 'Table', '&', 'Apron', 'has', 'proven', 'to', 'be', 'a', 'restaurant', 'that', 'has', 'in', 'spades', 'a', 'component', 'so', 'elementary', 'yet', 'so', 'rare', '–', 'heart', '.', 'Through', 'hard', 'work', ',', 'dedication', 'and', 'all', 'the', 'boring', 'old-fashioned', 'virtues', 'of', 'an', 'honest', 'operation', ',', 'owner', 'Marcus', 'Low', 'and', 'his', 'team', 'have', 'carved', 'for', 'us', 'a', 'little', 'treasure', 'in', 'Damansara', 'Kim', '.', '(', 'Credit', 'must', 'also', 'be', 'given', 'to', 'former', 'co-owner', 'Mei', 'Wan', 'Tan', '.', ')', 'The', 'narcissism', 'you', '’', 'll', 'find', 'in', 'so', 'many', 'KL']\n"
     ]
    }
   ],
   "source": [
    "words = word_tokenize(text)\n",
    "\n",
    "print(words)"
   ]
  },
  {
   "cell_type": "code",
   "execution_count": 4,
   "metadata": {},
   "outputs": [
    {
     "name": "stdout",
     "output_type": "stream",
     "text": [
      "['Table', '&', 'Apron', '–', 'formerly', 'The', 'Kitchen', 'Table', 'Restaurant', '&', 'Bakery', '–', 'doesn', '’', 't', 'exist', 'to', 'disrupt', 'the', 'scene', '.', 'From', 'the', 'outside', ',', 'it', 'barely', 'stretches', 'the', 'boundaries', 'of', 'what', 'is', 'an', 'already', 'saturated', 'restaurant', '-', 'cum', '-', 'bakery', 'scene', '.', 'But', 'none', 'of', 'it', 'matters', '.', 'Because', 'right', 'from', 'its', 'birth', 'in', '2014', ',', 'Table', '&', 'Apron', 'has', 'proven', 'to', 'be', 'a', 'restaurant', 'that', 'has', 'in', 'spades', 'a', 'component', 'so', 'elementary', 'yet', 'so', 'rare', '–', 'heart', '.', 'Through', 'hard', 'work', ',', 'dedication', 'and', 'all', 'the', 'boring', 'old', '-', 'fashioned', 'virtues', 'of', 'an', 'honest', 'operation', ',', 'owner', 'Marcus', 'Low', 'and', 'his', 'team', 'have', 'carved', 'for', 'us', 'a', 'little', 'treasure', 'in', 'Damansara', 'Kim', '.', '(', 'Credit', 'must', 'also', 'be', 'given', 'to', 'former', 'co', '-', 'owner', 'Mei', 'Wan', 'Tan', '.)', 'The', 'narcissism', 'you', '’', 'll', 'find', 'in', 'so', 'many', 'KL']\n"
     ]
    }
   ],
   "source": [
    "# depending on domain, tokenizer\n",
    "print(nltk.wordpunct_tokenize(text))"
   ]
  },
  {
   "cell_type": "markdown",
   "metadata": {},
   "source": [
    "## Difference between word_tokenize and wordpunct_tokenize\n",
    "\n",
    "Reference: https://stackoverflow.com/questions/50240029/nltk-wordpunct-tokenize-vs-word-tokenize"
   ]
  },
  {
   "cell_type": "markdown",
   "metadata": {},
   "source": [
    "## Frequency Distribution"
   ]
  },
  {
   "cell_type": "code",
   "execution_count": 5,
   "metadata": {},
   "outputs": [
    {
     "name": "stdout",
     "output_type": "stream",
     "text": [
      "<FreqDist with 96 samples and 133 outcomes>\n"
     ]
    }
   ],
   "source": [
    "from nltk.probability import FreqDist\n",
    "\n",
    "fdist= FreqDist(words)\n",
    "\n",
    "print(fdist)\n"
   ]
  },
  {
   "cell_type": "code",
   "execution_count": 6,
   "metadata": {},
   "outputs": [
    {
     "data": {
      "text/plain": [
       "[('.', 6), ('the', 4), (',', 4)]"
      ]
     },
     "execution_count": 6,
     "metadata": {},
     "output_type": "execute_result"
    }
   ],
   "source": [
    "fdist.most_common(3)"
   ]
  },
  {
   "cell_type": "code",
   "execution_count": 7,
   "metadata": {},
   "outputs": [
    {
     "data": {
      "image/png": "[encoded data removed]",
      "text/plain": [
       "<Figure size 640x480 with 1 Axes>"
      ]
     },
     "metadata": {},
     "output_type": "display_data"
    }
   ],
   "source": [
    "# Frequency Distribution Plot\n",
    "import matplotlib.pyplot as plt\n",
    "fdist.plot(30,cumulative=False)\n",
    "\n",
    "plt.show()"
   ]
  },
  {
   "cell_type": "markdown",
   "metadata": {},
   "source": [
    "## Stopwords\n",
    "\n",
    "Stopwords considered as noise in the text. Text may contain stop words such as is, am, are, this, a, an, the, etc.\n",
    "\n",
    "In NLTK for removing stopwords, you need to create a list of stopwords and filter out your list of tokens from these words."
   ]
  },
  {
   "cell_type": "code",
   "execution_count": 10,
   "metadata": {},
   "outputs": [
    {
     "name": "stdout",
     "output_type": "stream",
     "text": [
      "{'my', 'herself', 're', 'our', 'did', 'll', \"mightn't\", 'over', 'as', \"you've\", 'while', 'after', 'up', 'most', 'ours', 'by', 'were', 'she', 'its', 'mustn', \"wasn't\", 'me', 'with', \"she's\", \"wouldn't\", 'above', 'very', 'am', 'here', 'them', 'once', 'how', 'couldn', 'not', 'down', 'didn', 'so', 'some', 'what', 'whom', 'who', 'on', 'isn', 'about', \"you'll\", 'yourself', 'and', 'against', 'him', 'will', \"aren't\", \"weren't\", 'has', 'his', 'their', 'now', 'those', 'or', 'other', 'off', 'then', \"it's\", 'each', \"couldn't\", 'through', 'weren', 'we', 'they', 'yours', 'i', 'during', 'own', \"won't\", 'y', 'myself', 'few', 'same', 'no', \"hadn't\", 'was', 'themselves', 'having', 'wouldn', \"you'd\", 'to', 'hers', 'from', 'below', 'again', 'being', \"don't\", 'hadn', 'you', 'it', 'when', 'where', 'does', 'this', 'can', 'had', 'won', 'doesn', \"doesn't\", \"didn't\", 'more', 'than', 'don', 's', 'which', 'just', \"mustn't\", 'any', 'but', 'under', 'for', 'shan', \"haven't\", 'the', 'before', 'her', 'do', 'ain', 'at', 'aren', 'ma', 'ourselves', 'your', 'he', 'if', 'into', 'o', 'only', 'why', \"hasn't\", 'haven', 'itself', 'been', 'between', \"that'll\", 'mightn', 'needn', 'wasn', 'himself', 'too', 'd', 'out', 'there', 'that', 'such', 'both', 'because', \"should've\", 'nor', 'is', 'shouldn', 'until', 'are', 'further', 'in', 'a', 'these', \"shouldn't\", 'of', \"isn't\", 'have', 'doing', 'an', \"needn't\", 'theirs', 'all', 't', 'should', 've', 'm', \"shan't\", \"you're\", 'hasn', 'be', 'yourselves'}\n"
     ]
    }
   ],
   "source": [
    "from nltk.corpus import stopwords\n",
    "stop_words=set(stopwords.words(\"english\"))\n",
    "print(stop_words)"
   ]
  },
  {
   "cell_type": "markdown",
   "metadata": {},
   "source": [
    "## Removing Stopwords from our paragraphs"
   ]
  },
  {
   "cell_type": "code",
   "execution_count": 12,
   "metadata": {},
   "outputs": [
    {
     "name": "stdout",
     "output_type": "stream",
     "text": [
      "Tokenized Sentence: ['Table', '&', 'Apron', '–', 'formerly', 'The', 'Kitchen', 'Table', 'Restaurant', '&', 'Bakery', '–', 'doesn', '’', 't', 'exist', 'to', 'disrupt', 'the', 'scene', '.', 'From', 'the', 'outside', ',', 'it', 'barely', 'stretches', 'the', 'boundaries', 'of', 'what', 'is', 'an', 'already', 'saturated', 'restaurant-cum-bakery', 'scene', '.', 'But', 'none', 'of', 'it', 'matters', '.', 'Because', 'right', 'from', 'its', 'birth', 'in', '2014', ',', 'Table', '&', 'Apron', 'has', 'proven', 'to', 'be', 'a', 'restaurant', 'that', 'has', 'in', 'spades', 'a', 'component', 'so', 'elementary', 'yet', 'so', 'rare', '–', 'heart', '.', 'Through', 'hard', 'work', ',', 'dedication', 'and', 'all', 'the', 'boring', 'old-fashioned', 'virtues', 'of', 'an', 'honest', 'operation', ',', 'owner', 'Marcus', 'Low', 'and', 'his', 'team', 'have', 'carved', 'for', 'us', 'a', 'little', 'treasure', 'in', 'Damansara', 'Kim', '.', '(', 'Credit', 'must', 'also', 'be', 'given', 'to', 'former', 'co-owner', 'Mei', 'Wan', 'Tan', '.', ')', 'The', 'narcissism', 'you', '’', 'll', 'find', 'in', 'so', 'many', 'KL']\n",
      "\n",
      "Filtered Sentence: ['Table', '&', 'Apron', '–', 'formerly', 'The', 'Kitchen', 'Table', 'Restaurant', '&', 'Bakery', '–', '’', 'exist', 'disrupt', 'scene', '.', 'From', 'outside', ',', 'barely', 'stretches', 'boundaries', 'already', 'saturated', 'restaurant-cum-bakery', 'scene', '.', 'But', 'none', 'matters', '.', 'Because', 'right', 'birth', '2014', ',', 'Table', '&', 'Apron', 'proven', 'restaurant', 'spades', 'component', 'elementary', 'yet', 'rare', '–', 'heart', '.', 'Through', 'hard', 'work', ',', 'dedication', 'boring', 'old-fashioned', 'virtues', 'honest', 'operation', ',', 'owner', 'Marcus', 'Low', 'team', 'carved', 'us', 'little', 'treasure', 'Damansara', 'Kim', '.', '(', 'Credit', 'must', 'also', 'given', 'former', 'co-owner', 'Mei', 'Wan', 'Tan', '.', ')', 'The', 'narcissism', '’', 'find', 'many', 'KL']\n"
     ]
    }
   ],
   "source": [
    "tokenized_sent = words\n",
    "\n",
    "filtered_sent=[]\n",
    "for w in tokenized_sent:\n",
    "    if w not in stop_words:\n",
    "        filtered_sent.append(w)\n",
    "print(\"Tokenized Sentence:\",tokenized_sent)\n",
    "print()\n",
    "print(\"Filtered Sentence:\",filtered_sent)\n"
   ]
  },
  {
   "cell_type": "markdown",
   "metadata": {},
   "source": [
    "## Lexicon Normalization\n",
    "\n",
    "Lexicon normalization considers another type of noise in the text. For example, connection, connected, connecting word reduce to a common word \"connect\". It reduces derivationally related forms of a word to a common root word.\n"
   ]
  },
  {
   "cell_type": "markdown",
   "metadata": {},
   "source": [
    "## Lemmatization\n",
    "\n",
    "Lemmatization reduces words to their base word, which is linguistically correct lemmas. It transforms root word with the use of vocabulary and morphological analysis. Lemmatization is usually more sophisticated than stemming. Stemmer works on an individual word without knowledge of the context. For example, The word \"better\" has \"good\" as its lemma. This thing will miss by stemming because it requires a dictionary look-up."
   ]
  },
  {
   "cell_type": "code",
   "execution_count": 14,
   "metadata": {},
   "outputs": [
    {
     "name": "stderr",
     "output_type": "stream",
     "text": [
      "[nltk_data] Downloading package wordnet to\n",
      "[nltk_data]     C:\\Users\\ACER\\AppData\\Roaming\\nltk_data...\n"
     ]
    },
    {
     "data": {
      "text/plain": [
       "True"
      ]
     },
     "execution_count": 14,
     "metadata": {},
     "output_type": "execute_result"
    }
   ],
   "source": [
    "nltk.download('wordnet')"
   ]
  },
  {
   "cell_type": "code",
   "execution_count": 15,
   "metadata": {},
   "outputs": [
    {
     "name": "stdout",
     "output_type": "stream",
     "text": [
      "Lemmatized Word: fly\n",
      "Stemmed Word: fli\n"
     ]
    }
   ],
   "source": [
    "#Lexicon Normalization\n",
    "#performing stemming and Lemmatization\n",
    "\n",
    "from nltk.stem.wordnet import WordNetLemmatizer\n",
    "lem = WordNetLemmatizer()\n",
    "\n",
    "from nltk.stem.porter import PorterStemmer\n",
    "stem = PorterStemmer()\n",
    "\n",
    "word = \"flying\"\n",
    "print(\"Lemmatized Word:\",lem.lemmatize(word,\"v\"))\n",
    "print(\"Stemmed Word:\",stem.stem(word))"
   ]
  },
  {
   "cell_type": "markdown",
   "metadata": {},
   "source": [
    "## Stemming\n",
    "\n",
    "Stemming is a process of linguistic normalization, which reduces words to their word root word or chops off the derivational affixes. For example, connection, connected, connecting word reduce to a common word \"connect\"."
   ]
  },
  {
   "cell_type": "code",
   "execution_count": 19,
   "metadata": {},
   "outputs": [
    {
     "name": "stdout",
     "output_type": "stream",
     "text": [
      "Filtered Sentence: ['Table', '&', 'Apron', '–', 'formerly', 'The', 'Kitchen', 'Table', 'Restaurant', '&', 'Bakery', '–', '’', 'exist', 'disrupt', 'scene', '.', 'From', 'outside', ',', 'barely', 'stretches', 'boundaries', 'already', 'saturated', 'restaurant-cum-bakery', 'scene', '.', 'But', 'none', 'matters', '.', 'Because', 'right', 'birth', '2014', ',', 'Table', '&', 'Apron', 'proven', 'restaurant', 'spades', 'component', 'elementary', 'yet', 'rare', '–', 'heart', '.', 'Through', 'hard', 'work', ',', 'dedication', 'boring', 'old-fashioned', 'virtues', 'honest', 'operation', ',', 'owner', 'Marcus', 'Low', 'team', 'carved', 'us', 'little', 'treasure', 'Damansara', 'Kim', '.', '(', 'Credit', 'must', 'also', 'given', 'former', 'co-owner', 'Mei', 'Wan', 'Tan', '.', ')', 'The', 'narcissism', '’', 'find', 'many', 'KL']\n",
      "Stemmed Sentence: ['tabl', '&', 'apron', '–', 'formerli', 'the', 'kitchen', 'tabl', 'restaur', '&', 'bakeri', '–', '’', 'exist', 'disrupt', 'scene', '.', 'from', 'outsid', ',', 'bare', 'stretch', 'boundari', 'alreadi', 'satur', 'restaurant-cum-bakeri', 'scene', '.', 'but', 'none', 'matter', '.', 'becaus', 'right', 'birth', '2014', ',', 'tabl', '&', 'apron', 'proven', 'restaur', 'spade', 'compon', 'elementari', 'yet', 'rare', '–', 'heart', '.', 'through', 'hard', 'work', ',', 'dedic', 'bore', 'old-fashion', 'virtu', 'honest', 'oper', ',', 'owner', 'marcu', 'low', 'team', 'carv', 'us', 'littl', 'treasur', 'damansara', 'kim', '.', '(', 'credit', 'must', 'also', 'given', 'former', 'co-own', 'mei', 'wan', 'tan', '.', ')', 'the', 'narciss', '’', 'find', 'mani', 'kl']\n"
     ]
    }
   ],
   "source": [
    "# Stemming\n",
    "from nltk.stem import PorterStemmer\n",
    "from nltk.tokenize import sent_tokenize, word_tokenize\n",
    "\n",
    "ps = PorterStemmer()\n",
    "\n",
    "stemmed_words=[]\n",
    "for w in filtered_sent:\n",
    "    stemmed_words.append(ps.stem(w))\n",
    "\n",
    "print(\"Filtered Sentence:\",filtered_sent)\n",
    "print(\"Stemmed Sentence:\",stemmed_words)"
   ]
  },
  {
   "cell_type": "markdown",
   "metadata": {},
   "source": [
    "## POS Tagging\n",
    "\n",
    "The primary target of Part-of-Speech(POS) tagging is to identify the grammatical group of a given word. Whether it is a NOUN, PRONOUN, ADJECTIVE, VERB, ADVERBS, etc. based on the context. POS Tagging looks for relationships within the sentence and assigns a corresponding tag to the word.\n",
    "\n",
    "Reference: https://pythonspot.com/nltk-speech-tagging/"
   ]
  },
  {
   "cell_type": "code",
   "execution_count": 17,
   "metadata": {},
   "outputs": [
    {
     "name": "stderr",
     "output_type": "stream",
     "text": [
      "[nltk_data] Downloading package averaged_perceptron_tagger to\n",
      "[nltk_data]     C:\\Users\\ACER\\AppData\\Roaming\\nltk_data...\n",
      "[nltk_data]   Unzipping taggers\\averaged_perceptron_tagger.zip.\n"
     ]
    },
    {
     "data": {
      "text/plain": [
       "True"
      ]
     },
     "execution_count": 17,
     "metadata": {},
     "output_type": "execute_result"
    }
   ],
   "source": [
    "nltk.download('averaged_perceptron_tagger')"
   ]
  },
  {
   "cell_type": "code",
   "execution_count": 18,
   "metadata": {},
   "outputs": [
    {
     "name": "stdout",
     "output_type": "stream",
     "text": [
      "[('Table', 'NNP'), ('&', 'CC'), ('Apron', 'NNP'), ('–', 'NNP'), ('formerly', 'RB'), ('The', 'DT'), ('Kitchen', 'NNP'), ('Table', 'NNP'), ('Restaurant', 'NNP'), ('&', 'CC'), ('Bakery', 'NNP'), ('–', 'NNP'), ('doesn', 'NN'), ('’', 'NNP'), ('t', 'VBZ'), ('exist', 'VBP'), ('to', 'TO'), ('disrupt', 'VB'), ('the', 'DT'), ('scene', 'NN'), ('.', '.'), ('From', 'IN'), ('the', 'DT'), ('outside', 'NN'), (',', ','), ('it', 'PRP'), ('barely', 'RB'), ('stretches', 'VBZ'), ('the', 'DT'), ('boundaries', 'NNS'), ('of', 'IN'), ('what', 'WP'), ('is', 'VBZ'), ('an', 'DT'), ('already', 'RB'), ('saturated', 'VBN'), ('restaurant-cum-bakery', 'JJ'), ('scene', 'NN'), ('.', '.'), ('But', 'CC'), ('none', 'NN'), ('of', 'IN'), ('it', 'PRP'), ('matters', 'NNS'), ('.', '.'), ('Because', 'IN'), ('right', 'NN'), ('from', 'IN'), ('its', 'PRP$'), ('birth', 'NN'), ('in', 'IN'), ('2014', 'CD'), (',', ','), ('Table', 'NNP'), ('&', 'CC'), ('Apron', 'NNP'), ('has', 'VBZ'), ('proven', 'VBN'), ('to', 'TO'), ('be', 'VB'), ('a', 'DT'), ('restaurant', 'NN'), ('that', 'WDT'), ('has', 'VBZ'), ('in', 'IN'), ('spades', 'NNS'), ('a', 'DT'), ('component', 'NN'), ('so', 'RB'), ('elementary', 'JJ'), ('yet', 'RB'), ('so', 'RB'), ('rare', 'JJ'), ('–', 'JJ'), ('heart', 'NN'), ('.', '.'), ('Through', 'IN'), ('hard', 'JJ'), ('work', 'NN'), (',', ','), ('dedication', 'NN'), ('and', 'CC'), ('all', 'PDT'), ('the', 'DT'), ('boring', 'JJ'), ('old-fashioned', 'JJ'), ('virtues', 'NNS'), ('of', 'IN'), ('an', 'DT'), ('honest', 'NN'), ('operation', 'NN'), (',', ','), ('owner', 'NN'), ('Marcus', 'NNP'), ('Low', 'NNP'), ('and', 'CC'), ('his', 'PRP$'), ('team', 'NN'), ('have', 'VBP'), ('carved', 'VBN'), ('for', 'IN'), ('us', 'PRP'), ('a', 'DT'), ('little', 'JJ'), ('treasure', 'NN'), ('in', 'IN'), ('Damansara', 'NNP'), ('Kim', 'NNP'), ('.', '.'), ('(', '('), ('Credit', 'NNP'), ('must', 'MD'), ('also', 'RB'), ('be', 'VB'), ('given', 'VBN'), ('to', 'TO'), ('former', 'JJ'), ('co-owner', 'NN'), ('Mei', 'NNP'), ('Wan', 'NNP'), ('Tan', 'NNP'), ('.', '.'), (')', ')'), ('The', 'DT'), ('narcissism', 'NN'), ('you', 'PRP'), ('’', 'VBP'), ('ll', 'JJ'), ('find', 'VBP'), ('in', 'IN'), ('so', 'RB'), ('many', 'JJ'), ('KL', 'NNP')]\n"
     ]
    }
   ],
   "source": [
    "from nltk import pos_tag\n",
    "# https://cs.nyu.edu/grishman/jet/guide/PennPOS.html\n",
    "\n",
    "# print(nltk.pos_tag(words))\n",
    "\n",
    "print(nltk.pos_tag(words))"
   ]
  },
  {
   "cell_type": "code",
   "execution_count": 20,
   "metadata": {},
   "outputs": [
    {
     "name": "stdout",
     "output_type": "stream",
     "text": [
      "[('Dostoevsky', 'NNP'), ('was', 'VBD'), ('the', 'DT'), ('son', 'NN'), ('of', 'IN'), ('a', 'DT'), ('doctor', 'NN'), ('.', '.'), ('His', 'PRP$'), ('parents', 'NNS'), ('were', 'VBD'), ('very', 'RB'), ('hard-working', 'JJ'), ('and', 'CC'), ('deeply', 'RB'), ('religious', 'JJ'), ('people', 'NNS'), (',', ','), ('but', 'CC'), ('so', 'RB'), ('poor', 'JJ'), ('that', 'IN'), ('they', 'PRP'), ('lived', 'VBD'), ('with', 'IN'), ('their', 'PRP$'), ('five', 'CD'), ('children', 'NNS'), ('in', 'IN'), ('only', 'RB'), ('two', 'CD'), ('rooms', 'NNS'), ('.', '.'), ('The', 'DT'), ('father', 'NN'), ('and', 'CC'), ('mother', 'NN'), ('spent', 'VBN'), ('their', 'PRP$'), ('evenings', 'NNS'), ('in', 'IN'), ('reading', 'VBG'), ('aloud', 'NN'), ('to', 'TO'), ('their', 'PRP$'), ('children', 'NNS'), (',', ','), ('generally', 'RB'), ('from', 'IN'), ('books', 'NNS'), ('of', 'IN'), ('a', 'DT'), ('serious', 'JJ'), ('character', 'NN'), ('.', '.')]\n"
     ]
    }
   ],
   "source": [
    "text = \"\"\" Dostoevsky was the son of a doctor. \n",
    "His parents were very hard-working and deeply religious people,\n",
    "but so poor that they lived with their five children in only\n",
    "two rooms. The father and mother spent their evenings\n",
    "in reading aloud to their children, generally from books of\n",
    "a serious character.\"\"\"\n",
    "\n",
    "words = word_tokenize(text)\n",
    "\n",
    "import nltk\n",
    "tagged = nltk.pos_tag(words)\n",
    "print(tagged)\n"
   ]
  },
  {
   "cell_type": "code",
   "execution_count": 21,
   "metadata": {
    "scrolled": true
   },
   "outputs": [
    {
     "name": "stdout",
     "output_type": "stream",
     "text": [
      "[('dostoevsky', 'JJ'), ('son', 'NN'), ('doctor', 'NN'), ('parents', 'NNS'), ('deeply', 'RB'), ('religious', 'JJ'), ('people', 'NNS'), ('poor', 'JJ'), ('lived', 'VBD'), ('five', 'CD'), ('children', 'NNS'), ('two', 'CD'), ('rooms', 'NNS'), ('father', 'RB'), ('mother', 'RB'), ('spent', 'JJ'), ('evenings', 'NNS'), ('reading', 'VBG'), ('aloud', 'JJ'), ('children', 'NNS'), ('generally', 'RB'), ('books', 'NNS'), ('serious', 'JJ'), ('character', 'NN')]\n"
     ]
    }
   ],
   "source": [
    "import re\n",
    "\n",
    "stop_words = set(stopwords.words(\"english\"))\n",
    "\n",
    "text = \"\"\" Dostoevsky was the son of a doctor. \n",
    "His parents were very hard-working and deeply religious people,\n",
    "but so poor that they lived with their five children in only\n",
    "two rooms. The father and mother spent their evenings\n",
    "in reading aloud to their children, generally from books of\n",
    "a serious character.\"\"\"\n",
    "\n",
    "words = word_tokenize(text)\n",
    "\n",
    "def is_ok(token):\n",
    "    return re.match('^[a-z]+$', token) and token not in stop_words\n",
    "\n",
    "filtered = [word for word in word_tokenize(text.lower()) if is_ok(word)]\n",
    "\n",
    "import nltk\n",
    "tagged = nltk.pos_tag(filtered)\n",
    "print(tagged)"
   ]
  },
  {
   "cell_type": "code",
   "execution_count": 23,
   "metadata": {},
   "outputs": [
    {
     "name": "stderr",
     "output_type": "stream",
     "text": [
      "[nltk_data] Downloading package brown to\n",
      "[nltk_data]     C:\\Users\\ACER\\AppData\\Roaming\\nltk_data...\n",
      "[nltk_data]   Unzipping corpora\\brown.zip.\n"
     ]
    },
    {
     "data": {
      "text/plain": [
       "True"
      ]
     },
     "execution_count": 23,
     "metadata": {},
     "output_type": "execute_result"
    }
   ],
   "source": [
    "nltk.download('brown')"
   ]
  },
  {
   "cell_type": "code",
   "execution_count": 26,
   "metadata": {},
   "outputs": [
    {
     "name": "stdout",
     "output_type": "stream",
     "text": [
      "[[('The', 'AT'), ('Fulton', 'NP-TL'), ('County', 'NN-TL'), ('Grand', 'JJ-TL'), ('Jury', 'NN-TL'), ('said', 'VBD'), ('Friday', 'NR'), ('an', 'AT'), ('investigation', 'NN'), ('of', 'IN'), (\"Atlanta's\", 'NP$'), ('recent', 'JJ'), ('primary', 'NN'), ('election', 'NN'), ('produced', 'VBD'), ('``', '``'), ('no', 'AT'), ('evidence', 'NN'), (\"''\", \"''\"), ('that', 'CS'), ('any', 'DTI'), ('irregularities', 'NNS'), ('took', 'VBD'), ('place', 'NN'), ('.', '.')], [('The', 'AT'), ('jury', 'NN'), ('further', 'RBR'), ('said', 'VBD'), ('in', 'IN'), ('term-end', 'NN'), ('presentments', 'NNS'), ('that', 'CS'), ('the', 'AT'), ('City', 'NN-TL'), ('Executive', 'JJ-TL'), ('Committee', 'NN-TL'), (',', ','), ('which', 'WDT'), ('had', 'HVD'), ('over-all', 'JJ'), ('charge', 'NN'), ('of', 'IN'), ('the', 'AT'), ('election', 'NN'), (',', ','), ('``', '``'), ('deserves', 'VBZ'), ('the', 'AT'), ('praise', 'NN'), ('and', 'CC'), ('thanks', 'NNS'), ('of', 'IN'), ('the', 'AT'), ('City', 'NN-TL'), ('of', 'IN-TL'), ('Atlanta', 'NP-TL'), (\"''\", \"''\"), ('for', 'IN'), ('the', 'AT'), ('manner', 'NN'), ('in', 'IN'), ('which', 'WDT'), ('the', 'AT'), ('election', 'NN'), ('was', 'BEDZ'), ('conducted', 'VBN'), ('.', '.')], ...]\n"
     ]
    }
   ],
   "source": [
    "from nltk.corpus import brown\n",
    "brown_tagged_sents = brown.tagged_sents(categories='news')\n",
    "brown_sents = brown.sents(categories='news')\n",
    "\n",
    "print(brown_tagged_sents)"
   ]
  },
  {
   "cell_type": "code",
   "execution_count": 29,
   "metadata": {},
   "outputs": [
    {
     "name": "stdout",
     "output_type": "stream",
     "text": [
      "(S\n",
      "  (NP The/DT white/JJ dog/NN)\n",
      "  (NP fight/NN)\n",
      "  with/IN\n",
      "  (NP a/DT black/JJ cat/NN))\n"
     ]
    }
   ],
   "source": [
    "import nltk\n",
    "from nltk.tokenize import word_tokenize\n",
    "from nltk import chunk\n",
    "\n",
    "text = \"The white dog fight with a black cat\"\n",
    "words = word_tokenize(text)\n",
    "tagged = nltk.pos_tag(words)\n",
    "\n",
    "grammar = \"NP: {<DT>?<JJ>*<NN>}\"\n",
    "cp = nltk.RegexpParser(grammar)\n",
    "result = cp.parse(tagged)\n",
    "print(result)\n",
    "result.draw()"
   ]
  },
  {
   "cell_type": "code",
   "execution_count": 54,
   "metadata": {},
   "outputs": [
    {
     "name": "stdout",
     "output_type": "stream",
     "text": [
      "(S\n",
      "  (GPE Table/NNP)\n",
      "  &/CC\n",
      "  (PERSON Apron/NNP)\n",
      "  –/NNP\n",
      "  formerly/RB\n",
      "  The/DT\n",
      "  (ORGANIZATION Kitchen/NNP Table/NNP Restaurant/NNP)\n",
      "  &/CC\n",
      "  (PERSON Bakery/NNP)\n",
      "  –/NNP\n",
      "  doesn/NN\n",
      "  ’/NNP\n",
      "  t/VBZ\n",
      "  exist/VBP\n",
      "  to/TO\n",
      "  disrupt/VB\n",
      "  the/DT\n",
      "  scene/NN\n",
      "  ./.\n",
      "  From/IN\n",
      "  the/DT\n",
      "  outside/NN\n",
      "  ,/,\n",
      "  it/PRP\n",
      "  barely/RB\n",
      "  stretches/VBZ\n",
      "  the/DT\n",
      "  boundaries/NNS\n",
      "  of/IN\n",
      "  what/WP\n",
      "  is/VBZ\n",
      "  an/DT\n",
      "  already/RB\n",
      "  saturated/VBN\n",
      "  restaurant-cum-bakery/JJ\n",
      "  scene/NN\n",
      "  ./.\n",
      "  But/CC\n",
      "  none/NN\n",
      "  of/IN\n",
      "  it/PRP\n",
      "  matters/NNS\n",
      "  ./.\n",
      "  Because/IN\n",
      "  right/NN\n",
      "  from/IN\n",
      "  its/PRP$\n",
      "  birth/NN\n",
      "  in/IN\n",
      "  2014/CD\n",
      "  ,/,\n",
      "  (PERSON Table/NNP)\n",
      "  &/CC\n",
      "  (PERSON Apron/NNP)\n",
      "  has/VBZ\n",
      "  proven/VBN\n",
      "  to/TO\n",
      "  be/VB\n",
      "  a/DT\n",
      "  restaurant/NN\n",
      "  that/WDT\n",
      "  has/VBZ\n",
      "  in/IN\n",
      "  spades/NNS\n",
      "  a/DT\n",
      "  component/NN\n",
      "  so/RB\n",
      "  elementary/JJ\n",
      "  yet/RB\n",
      "  so/RB\n",
      "  rare/JJ\n",
      "  –/JJ\n",
      "  heart/NN\n",
      "  ./.\n",
      "  Through/IN\n",
      "  hard/JJ\n",
      "  work/NN\n",
      "  ,/,\n",
      "  dedication/NN\n",
      "  and/CC\n",
      "  all/PDT\n",
      "  the/DT\n",
      "  boring/JJ\n",
      "  old-fashioned/JJ\n",
      "  virtues/NNS\n",
      "  of/IN\n",
      "  an/DT\n",
      "  honest/NN\n",
      "  operation/NN\n",
      "  ,/,\n",
      "  owner/NN\n",
      "  (PERSON Marcus/NNP Low/NNP)\n",
      "  and/CC\n",
      "  his/PRP$\n",
      "  team/NN\n",
      "  have/VBP\n",
      "  carved/VBN\n",
      "  for/IN\n",
      "  us/PRP\n",
      "  a/DT\n",
      "  little/JJ\n",
      "  treasure/NN\n",
      "  in/IN\n",
      "  (GPE Damansara/NNP)\n",
      "  (PERSON Kim/NNP)\n",
      "  ./.\n",
      "  (/(\n",
      "  (ORGANIZATION Credit/NNP)\n",
      "  must/MD\n",
      "  also/RB\n",
      "  be/VB\n",
      "  given/VBN\n",
      "  to/TO\n",
      "  former/JJ\n",
      "  co-owner/NN\n",
      "  (PERSON Mei/NNP Wan/NNP Tan/NNP)\n",
      "  ./.\n",
      "  )/)\n",
      "  The/DT\n",
      "  narcissism/NN\n",
      "  you/PRP\n",
      "  ’/VBP\n",
      "  ll/JJ\n",
      "  find/VBP\n",
      "  in/IN\n",
      "  so/RB\n",
      "  many/JJ\n",
      "  KL/NNP)\n"
     ]
    }
   ],
   "source": [
    "from nltk import ne_chunk\n",
    "\n",
    "def entities(text):\n",
    "    return ne_chunk(\n",
    "        pos_tag(\n",
    "            word_tokenize(text)\n",
    "        )\n",
    "    )\n",
    "\n",
    "tree = entities (text)\n",
    "\n",
    "tree.pprint()"
   ]
  },
  {
   "cell_type": "code",
   "execution_count": 56,
   "metadata": {
    "scrolled": true
   },
   "outputs": [
    {
     "data": {
      "text/plain": [
       "<bound method Tree.draw of Tree('S', [Tree('GPE', [('Table', 'NNP')]), ('&', 'CC'), Tree('PERSON', [('Apron', 'NNP')]), ('–', 'NNP'), ('formerly', 'RB'), ('The', 'DT'), Tree('ORGANIZATION', [('Kitchen', 'NNP'), ('Table', 'NNP'), ('Restaurant', 'NNP')]), ('&', 'CC'), Tree('PERSON', [('Bakery', 'NNP')]), ('–', 'NNP'), ('doesn', 'NN'), ('’', 'NNP'), ('t', 'VBZ'), ('exist', 'VBP'), ('to', 'TO'), ('disrupt', 'VB'), ('the', 'DT'), ('scene', 'NN'), ('.', '.'), ('From', 'IN'), ('the', 'DT'), ('outside', 'NN'), (',', ','), ('it', 'PRP'), ('barely', 'RB'), ('stretches', 'VBZ'), ('the', 'DT'), ('boundaries', 'NNS'), ('of', 'IN'), ('what', 'WP'), ('is', 'VBZ'), ('an', 'DT'), ('already', 'RB'), ('saturated', 'VBN'), ('restaurant-cum-bakery', 'JJ'), ('scene', 'NN'), ('.', '.'), ('But', 'CC'), ('none', 'NN'), ('of', 'IN'), ('it', 'PRP'), ('matters', 'NNS'), ('.', '.'), ('Because', 'IN'), ('right', 'NN'), ('from', 'IN'), ('its', 'PRP$'), ('birth', 'NN'), ('in', 'IN'), ('2014', 'CD'), (',', ','), Tree('PERSON', [('Table', 'NNP')]), ('&', 'CC'), Tree('PERSON', [('Apron', 'NNP')]), ('has', 'VBZ'), ('proven', 'VBN'), ('to', 'TO'), ('be', 'VB'), ('a', 'DT'), ('restaurant', 'NN'), ('that', 'WDT'), ('has', 'VBZ'), ('in', 'IN'), ('spades', 'NNS'), ('a', 'DT'), ('component', 'NN'), ('so', 'RB'), ('elementary', 'JJ'), ('yet', 'RB'), ('so', 'RB'), ('rare', 'JJ'), ('–', 'JJ'), ('heart', 'NN'), ('.', '.'), ('Through', 'IN'), ('hard', 'JJ'), ('work', 'NN'), (',', ','), ('dedication', 'NN'), ('and', 'CC'), ('all', 'PDT'), ('the', 'DT'), ('boring', 'JJ'), ('old-fashioned', 'JJ'), ('virtues', 'NNS'), ('of', 'IN'), ('an', 'DT'), ('honest', 'NN'), ('operation', 'NN'), (',', ','), ('owner', 'NN'), Tree('PERSON', [('Marcus', 'NNP'), ('Low', 'NNP')]), ('and', 'CC'), ('his', 'PRP$'), ('team', 'NN'), ('have', 'VBP'), ('carved', 'VBN'), ('for', 'IN'), ('us', 'PRP'), ('a', 'DT'), ('little', 'JJ'), ('treasure', 'NN'), ('in', 'IN'), Tree('GPE', [('Damansara', 'NNP')]), Tree('PERSON', [('Kim', 'NNP')]), ('.', '.'), ('(', '('), Tree('ORGANIZATION', [('Credit', 'NNP')]), ('must', 'MD'), ('also', 'RB'), ('be', 'VB'), ('given', 'VBN'), ('to', 'TO'), ('former', 'JJ'), ('co-owner', 'NN'), Tree('PERSON', [('Mei', 'NNP'), ('Wan', 'NNP'), ('Tan', 'NNP')]), ('.', '.'), (')', ')'), ('The', 'DT'), ('narcissism', 'NN'), ('you', 'PRP'), ('’', 'VBP'), ('ll', 'JJ'), ('find', 'VBP'), ('in', 'IN'), ('so', 'RB'), ('many', 'JJ'), ('KL', 'NNP')])>"
      ]
     },
     "execution_count": 56,
     "metadata": {},
     "output_type": "execute_result"
    }
   ],
   "source": [
    "#tree.draw\n",
    "\n",
    "#from nltk.corpus import treebank\n",
    "#tree = treebank.parsed_sents('wsj_0001.mrg')[0]\n",
    "tree.draw"
   ]
  },
  {
   "cell_type": "code",
   "execution_count": 35,
   "metadata": {},
   "outputs": [
    {
     "name": "stderr",
     "output_type": "stream",
     "text": [
      "[nltk_data] Downloading package names to\n",
      "[nltk_data]     C:\\Users\\ACER\\AppData\\Roaming\\nltk_data...\n",
      "[nltk_data]   Unzipping corpora\\names.zip.\n"
     ]
    },
    {
     "data": {
      "text/plain": [
       "True"
      ]
     },
     "execution_count": 35,
     "metadata": {},
     "output_type": "execute_result"
    }
   ],
   "source": [
    "nltk.download('names')"
   ]
  },
  {
   "cell_type": "code",
   "execution_count": 36,
   "metadata": {
    "scrolled": true
   },
   "outputs": [
    {
     "name": "stdout",
     "output_type": "stream",
     "text": [
      "female\n",
      "0.772\n"
     ]
    }
   ],
   "source": [
    "# Step 1: Load Data\n",
    "from nltk.corpus import names\n",
    "labeled_names = ([(name, 'male') for name in names.words('male.txt')]\n",
    "\t+ [(name, 'female') for name in names.words('female.txt')])\n",
    "\n",
    "import random\n",
    "random.shuffle(labeled_names)\n",
    "#print(labeled_names[:10])\n",
    "\n",
    "# Step 2: Extract last letter of a name as the feature and form feature set\n",
    "def feature_extractor(name):\n",
    "    return {'last_letter': name[-1]}\n",
    "\n",
    "featureset = [(feature_extractor(name), gender) for (name, gender) in labeled_names]\n",
    "# print(featureset[:10])\n",
    "\n",
    "# Step 3: Split the feature set to training/testing datasets\n",
    "\n",
    "train_set, test_set = featureset[500:], featureset[:500]\n",
    "\n",
    "# Step 4/5: Load the classifier and perform training\n",
    "import nltk\n",
    "classifier = nltk.NaiveBayesClassifier.train(train_set)\n",
    "\n",
    "# Step 6: Prediction/Evaluation\n",
    "print(classifier.classify(feature_extractor('Danny')))\n",
    "print(nltk.classify.accuracy(classifier, test_set))"
   ]
  },
  {
   "cell_type": "code",
   "execution_count": 38,
   "metadata": {},
   "outputs": [
    {
     "name": "stderr",
     "output_type": "stream",
     "text": [
      "[nltk_data] Downloading package movie_reviews to\n",
      "[nltk_data]     C:\\Users\\ACER\\AppData\\Roaming\\nltk_data...\n",
      "[nltk_data]   Unzipping corpora\\movie_reviews.zip.\n"
     ]
    },
    {
     "data": {
      "text/plain": [
       "True"
      ]
     },
     "execution_count": 38,
     "metadata": {},
     "output_type": "execute_result"
    }
   ],
   "source": [
    "nltk.download('movie_reviews')"
   ]
  },
  {
   "cell_type": "code",
   "execution_count": 39,
   "metadata": {},
   "outputs": [
    {
     "name": "stdout",
     "output_type": "stream",
     "text": [
      "Classifier accuracy: 0.77\n",
      "Most Informative Features\n",
      "                  regard = True              pos : neg    =     10.9 : 1.0\n",
      "                   sucks = True              neg : pos    =     10.3 : 1.0\n",
      "                  annual = True              pos : neg    =      9.6 : 1.0\n",
      "                     ugh = True              neg : pos    =      9.1 : 1.0\n",
      "             silverstone = True              neg : pos    =      7.7 : 1.0\n",
      "                 idiotic = True              neg : pos    =      7.1 : 1.0\n",
      "                    mena = True              neg : pos    =      7.1 : 1.0\n",
      "                  shoddy = True              neg : pos    =      7.1 : 1.0\n",
      "                  suvari = True              neg : pos    =      7.1 : 1.0\n",
      "           unimaginative = True              neg : pos    =      7.1 : 1.0\n",
      "               atrocious = True              neg : pos    =      6.7 : 1.0\n",
      "              schumacher = True              neg : pos    =      6.7 : 1.0\n",
      "                 jumbled = True              neg : pos    =      6.4 : 1.0\n",
      "                  turkey = True              neg : pos    =      6.4 : 1.0\n",
      "                 cunning = True              pos : neg    =      6.3 : 1.0\n"
     ]
    }
   ],
   "source": [
    "import nltk\n",
    "\n",
    "# Step 1: Load Data \n",
    "from nltk.corpus import movie_reviews\n",
    "documents = [(list(movie_reviews.words(fileid)), category)\n",
    "             for category in movie_reviews.categories()\n",
    "             for fileid in movie_reviews.fileids(category)]\n",
    "\n",
    "import random\n",
    "random.shuffle(documents)\n",
    "\n",
    "# Step 2: Extract Feature\n",
    "all_words = []\n",
    "for w in movie_reviews.words():\n",
    "    all_words.append(w.lower())\n",
    "all_words = nltk.FreqDist(all_words)\n",
    "word_features = list(all_words.keys())[:3000]\n",
    "\n",
    "def feature_extractor(review):\n",
    "    words = set(review)\n",
    "    features = {}\n",
    "    for w in word_features:\n",
    "        features[w] = (w in words)\n",
    "\n",
    "    return features\n",
    "    \n",
    "featureset = [(feature_extractor(review), sentiment) for (review, sentiment) in documents]\n",
    "\n",
    "\n",
    "# Step 3: Split the feature set to training/testing datasets\n",
    "training_set, testing_set = featureset[:1900],featureset[1900:]\n",
    "\n",
    "# Step 4/5: Load the classifier and perform training\n",
    "classifier = nltk.NaiveBayesClassifier.train(training_set)\n",
    "\n",
    "# Step 6: Prediction/Evaluation\n",
    "print(\"Classifier accuracy:\",nltk.classify.accuracy(classifier, testing_set))\n",
    "classifier.show_most_informative_features(15)"
   ]
  },
  {
   "cell_type": "markdown",
   "metadata": {},
   "source": [
    "## TextBlob\n",
    "\n",
    "### TextBlob does not work in 2023 and beyond anymore\n",
    "\n",
    "\n",
    "**Installation**\n",
    "\n",
    "conda install -c conda-forge textblob\n"
   ]
  },
  {
   "cell_type": "markdown",
   "metadata": {},
   "source": [
    "## Difference between TextBlob and NLTK\n",
    "\n",
    "Reference: https://www.quora.com/What-is-the-use-of-NLTK-and-TextBlob-What-is-the-difference-between-both-And-for-text-analysis-which-tool-is-better#:~:text=I%20als-,NLTK%20and%20TextBlob%20are%20both%20excellent%20libraries%20for%20NLP.,built%20upon%20NLTK%20and%20Pattern.&text=It's%20a%20newer%20NLP%20library,POS%20tagging%20than%20NLTK%20does."
   ]
  },
  {
   "cell_type": "code",
   "execution_count": 15,
   "metadata": {},
   "outputs": [
    {
     "name": "stdout",
     "output_type": "stream",
     "text": [
      "['apron', 'kitchen', 'table restaurant', 'bakery', '– doesn ’ t', 'restaurant-cum-bakery scene', 'apron', 'rare – heart', 'hard work', 'honest operation', 'marcus low', 'damansara kim', 'credit', 'mei wan tan', '’ ll', 'kl']\n"
     ]
    }
   ],
   "source": [
    "from textblob import TextBlob\n",
    "\n",
    "blob = TextBlob(text)\n",
    "\n",
    "print(blob.noun_phrases)"
   ]
  },
  {
   "cell_type": "markdown",
   "metadata": {},
   "source": [
    "Reference: https://www.datacamp.com/community/tutorials/text-analytics-beginners-nltk"
   ]
  },
  {
   "cell_type": "markdown",
   "metadata": {},
   "source": [
    "## Quiz\n",
    "\n",
    "## Exploring Features of NLTK:\n",
    "\n",
    "a. Open the text file for processing:\n",
    "First, we are going to open and read the file which we want to analyze\n",
    "eg. The fishing documentation in txt file (page2).\n",
    "Reference: https://huntfish.mdc.mo.gov/sites/default/files/downloads/page/IntroToFishing_2017_v2.pdf\n",
    "\n",
    "b. Import required libraries:\n",
    "For various data processing cases in NLP, we need to import some libraries. In this case, we are going to use NLTK for Natural Language Processing. We will use it to perform various operations on the text.\n",
    "\n",
    "c. Sentence tokenizing:\n",
    "By tokenizing the text with sent_tokenize( ), we can get the text as sentences.\n",
    "\n",
    "d. Word tokenizing:\n",
    "By tokenizing the text with word_tokenize( ), we can get the text as words.\n",
    "\n",
    "e. Find the frequency distribution:\n",
    "Let’s find out the frequency of words in our text.\n",
    "\n",
    "f. Plot the frequency graph:\n",
    "Let’s plot a graph to visualize the word distribution in our text.\n",
    "\n",
    "g. Remove punctuation marks:\n",
    "Next, we are going to remove the punctuation marks as they are not very useful for us. We are going to use isalpha( ) method to separate the punctuation marks from the actual text. Also, we are going to make a new list called words_no_punc, which will store the words in lower case but exclude the punctuation marks.\n",
    "\n",
    "h. Plotting graph without punctuation marks:\n",
    "\n",
    "i. List of stopwords:\n",
    "\n",
    "j. Removing stopwords:\n",
    "\n",
    "k. Final frequency distribution:\n",
    "the final graph has many useful words that help us understand what our sample data is about, showing how essential it is to perform data cleaning on NLP.\n",
    "\n",
    "Hint: https://medium.com/towards-artificial-intelligence/natural-language-processing-nlp-with-python-tutorial-for-beginners-1f54e610a1a0"
   ]
  }
 ],
 "metadata": {
  "kernelspec": {
   "display_name": "Python 3 (ipykernel)",
   "language": "python",
   "name": "python3"
  },
  "language_info": {
   "codemirror_mode": {
    "name": "ipython",
    "version": 3
   },
   "file_extension": ".py",
   "mimetype": "text/x-python",
   "name": "python",
   "nbconvert_exporter": "python",
   "pygments_lexer": "ipython3",
   "version": "3.10.11"
  }
 },
 "nbformat": 4,
 "nbformat_minor": 2
}
