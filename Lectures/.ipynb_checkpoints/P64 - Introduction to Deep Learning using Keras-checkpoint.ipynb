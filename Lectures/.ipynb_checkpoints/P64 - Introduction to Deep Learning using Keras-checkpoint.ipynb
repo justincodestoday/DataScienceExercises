{
 "cells": [
  {
   "cell_type": "markdown",
   "metadata": {},
   "source": [
    "<img src=\"https://i.imgur.com/FoKB5Z5.png\" align=\"left\" width=\"300\" height=\"250\" title=\"source: imgur.com\" /></a>"
   ]
  },
  {
   "cell_type": "markdown",
   "metadata": {},
   "source": [
    "## Program Code: J620-002-4:2020 \n",
    "\n",
    "## Program Name: FRONT-END SOFTWARE DEVELOPMENT\n",
    "\n",
    "## Title : P64 - Introduction to Deep Learning using Keras\n",
    "\n",
    "#### Name: \n",
    "\n",
    "#### IC Number:\n",
    "\n",
    "#### Date :\n",
    "\n",
    "#### Introduction : \n",
    "\n",
    "\n",
    "\n",
    "#### Conclusion :\n",
    "\n",
    "\n",
    "\n",
    "\n"
   ]
  },
  {
   "cell_type": "markdown",
   "metadata": {},
   "source": [
    "This exercise is adapted from https://machinelearningmastery.com/tutorial-first-neural-network-python-keras/\n",
    "\n",
    "\n",
    "## Keras Tutorial Overview\n",
    "\n",
    "There is not a lot of code required, but we are going to step over it slowly so that you will know how to create your own models in the future.\n",
    "\n",
    "The steps you are going to cover in this tutorial are as follows:\n",
    "\n",
    "1. Load Data.\n",
    "2. Define Keras Model.\n",
    "3. Compile Keras Model.\n",
    "4. Fit Keras Model.\n",
    "5. Evaluate Keras Model.\n",
    "6. Tie It All Together.\n",
    "7. Make Predictions\n",
    "\n",
    "This Keras tutorial has a few requirements:\n",
    "\n",
    "1. You have Python 2 or 3 installed and configured.\n",
    "2. You have SciPy (including NumPy) installed and configured.\n",
    "3. You have Keras and a backend (Theano or TensorFlow) installed and configured."
   ]
  },
  {
   "cell_type": "markdown",
   "metadata": {},
   "source": [
    "### 1. Load Data\n",
    "The first step is to define the functions and classes we intend to use in this tutorial.\n",
    "\n",
    "We will use the NumPy library to load our dataset and we will use two classes from the Keras library to define our model.\n",
    "\n",
    "The imports required are listed below."
   ]
  },
  {
   "cell_type": "code",
   "execution_count": 1,
   "metadata": {},
   "outputs": [],
   "source": [
    "# first neural network with keras tutorial\n",
    "from numpy import loadtxt\n",
    "from keras.models import Sequential\n",
    "from keras.layers import Dense\n"
   ]
  },
  {
   "cell_type": "markdown",
   "metadata": {},
   "source": [
    "Now load the data from *file pima-indians-diabetes.data.csv* stored in Data folder (check Google Drive if unsure)"
   ]
  },
  {
   "cell_type": "code",
   "execution_count": 12,
   "metadata": {},
   "outputs": [],
   "source": [
    "# load the dataset\n",
    "dataset = loadtxt('..\\data_samples2\\pima-indians-diabetes.csv', delimiter=',', skiprows=1)\n",
    "\n",
    "# split into input (X) and output (y) variables\n",
    "X = dataset[:,0:8]\n",
    "y = dataset[:,8]\n"
   ]
  },
  {
   "cell_type": "markdown",
   "metadata": {},
   "source": [
    "**Q:** Find out more about the dataset - such as how many columns, what kind of information does it provide etc."
   ]
  },
  {
   "cell_type": "code",
   "execution_count": 13,
   "metadata": {},
   "outputs": [
    {
     "data": {
      "text/plain": [
       "(768, 9)"
      ]
     },
     "execution_count": 13,
     "metadata": {},
     "output_type": "execute_result"
    }
   ],
   "source": [
    "type(dataset)\n",
    "dataset.shape"
   ]
  },
  {
   "cell_type": "markdown",
   "metadata": {},
   "source": [
    "### 2. Define Keras Model\n",
    "Models in Keras are defined as a sequence of layers.\n",
    "\n",
    "We create a **Sequential model** and add layers one at a time until we are happy with our network architecture.\n",
    "\n",
    "The first thing to get right is to ensure the input layer has the right number of input features. This can be specified when creating the first layer with the **input_dim** argument and setting it to 8 for the 8 input variables.\n",
    "\n",
    "*Question:* How do we know the number of layers and their types?\n",
    "\n",
    "This is a very hard question. There are heuristics that we can use and often the best network structure is found through a process of trial and error experimentation (I explain more about this here). Generally, you need a network large enough to capture the structure of the problem.\n",
    "\n",
    "In this example, we will use a fully-connected network structure with three layers.\n",
    "\n",
    "Fully connected layers are defined using the Dense class. We can specify the number of neurons or nodes in the layer as the first argument, and specify the activation function using the activation argument.\n",
    "\n",
    "We will use the rectified linear unit activation function referred to as ReLU on the first two layers and the Sigmoid function in the output layer.\n",
    "\n",
    "It used to be the case that Sigmoid and Tanh activation functions were preferred for all layers. These days, better performance is achieved using the ReLU activation function. We use a sigmoid on the output layer to ensure our network output is between 0 and 1 and easy to map to either a probability of class 1 or snap to a hard classification of either class with a default threshold of 0.5.\n",
    "\n",
    "We can piece it all together by adding each layer:\n",
    "\n",
    "* The model expects rows of data with 8 variables (the input_dim=8 argument)\n",
    "* The first hidden layer has 12 nodes and uses the relu activation function.\n",
    "* The second hidden layer has 8 nodes and uses the relu activation function.\n",
    "* The output layer has one node and uses the sigmoid activation function."
   ]
  },
  {
   "cell_type": "code",
   "execution_count": 14,
   "metadata": {},
   "outputs": [],
   "source": [
    "# define the keras model\n",
    "model = Sequential()\n",
    "model.add(Dense(12, input_dim=8, activation='relu'))\n",
    "model.add(Dense(8, activation='relu'))\n",
    "model.add(Dense(1, activation='sigmoid'))"
   ]
  },
  {
   "cell_type": "markdown",
   "metadata": {},
   "source": [
    "### 3. Compile Keras Model\n",
    "Now that the model is defined, we can compile it.\n",
    "\n",
    "Compiling the model uses the efficient numerical libraries under the covers (the so-called backend) such as Theano or TensorFlow. The backend automatically chooses the best way to represent the network for training and making predictions to run on your hardware, such as CPU or GPU or even distributed.\n",
    "\n",
    "When compiling, we must specify some additional properties required when training the network. Remember training a network means finding the best set of weights to map inputs to outputs in our dataset.\n",
    "\n",
    "We must specify the loss function to use to evaluate a set of weights, the optimizer is used to search through different weights for the network and any optional metrics we would like to collect and report during training.\n",
    "\n",
    "In this case, we will use cross entropy as the **loss** argument. This loss is for a binary classification problems and is defined in Keras as **“binary_crossentropy“**. \n",
    "\n",
    "We will define the optimizer as the efficient stochastic gradient descent algorithm “adam“. This is a popular version of gradient descent because it automatically tunes itself and gives good results in a wide range of problems. \n",
    "\n",
    "Finally, because it is a classification problem, we will collect and report the classification accuracy, defined via the metrics argument."
   ]
  },
  {
   "cell_type": "code",
   "execution_count": 15,
   "metadata": {},
   "outputs": [],
   "source": [
    "# compile the keras model\n",
    "model.compile(loss='binary_crossentropy', optimizer='adam', metrics=['accuracy'])"
   ]
  },
  {
   "cell_type": "markdown",
   "metadata": {},
   "source": [
    "### 4. Fit Keras Model\n",
    "We have defined our model and compiled it ready for efficient computation.\n",
    "\n",
    "Now it is time to execute the model on some data.\n",
    "\n",
    "We can train or fit our model on our loaded data by calling the fit() function on the model.\n",
    "\n",
    "Training occurs over epochs and each epoch is split into batches.\n",
    "\n",
    "* **Epoch:** One pass through all of the rows in the training dataset.\n",
    "* **Batch:** One or more samples considered by the model within an epoch before weights are updated.\n",
    "\n",
    "One epoch is comprised of one or more batches, based on the chosen batch size and the model is fit for many epochs.\n",
    "\n",
    "The training process will run for a fixed number of iterations through the dataset called epochs, that we must specify using the epochs argument. We must also set the number of dataset rows that are considered before the model weights are updated within each epoch, called the batch size and set using the batch_size argument.\n",
    "\n",
    "For this problem, we will run for a small number of epochs (150) and use a relatively small batch size of 10.\n",
    "\n",
    "These configurations can be chosen experimentally by trial and error. We want to train the model enough so that it learns a good (or good enough) mapping of rows of input data to the output classification. The model will always have some error, but the amount of error will level out after some point for a given model configuration. This is called model convergence."
   ]
  },
  {
   "cell_type": "code",
   "execution_count": 16,
   "metadata": {},
   "outputs": [
    {
     "name": "stdout",
     "output_type": "stream",
     "text": [
      "Epoch 1/150\n",
      "77/77 [==============================] - 1s 2ms/step - loss: 3.9679 - accuracy: 0.5859\n",
      "Epoch 2/150\n",
      "77/77 [==============================] - 0s 2ms/step - loss: 2.0738 - accuracy: 0.5781\n",
      "Epoch 3/150\n",
      "77/77 [==============================] - 0s 2ms/step - loss: 1.2692 - accuracy: 0.5990\n",
      "Epoch 4/150\n",
      "77/77 [==============================] - 0s 2ms/step - loss: 1.0056 - accuracy: 0.6211\n",
      "Epoch 5/150\n",
      "77/77 [==============================] - 0s 2ms/step - loss: 0.8869 - accuracy: 0.6328\n",
      "Epoch 6/150\n",
      "77/77 [==============================] - 0s 2ms/step - loss: 0.8177 - accuracy: 0.6497\n",
      "Epoch 7/150\n",
      "77/77 [==============================] - 0s 2ms/step - loss: 0.7680 - accuracy: 0.6719\n",
      "Epoch 8/150\n",
      "77/77 [==============================] - 0s 2ms/step - loss: 0.7607 - accuracy: 0.6523\n",
      "Epoch 9/150\n",
      "77/77 [==============================] - 0s 2ms/step - loss: 0.7318 - accuracy: 0.6732\n",
      "Epoch 10/150\n",
      "77/77 [==============================] - 0s 2ms/step - loss: 0.7106 - accuracy: 0.6693\n",
      "Epoch 11/150\n",
      "77/77 [==============================] - 0s 2ms/step - loss: 0.6936 - accuracy: 0.6654\n",
      "Epoch 12/150\n",
      "77/77 [==============================] - 0s 2ms/step - loss: 0.7003 - accuracy: 0.6667\n",
      "Epoch 13/150\n",
      "77/77 [==============================] - 0s 2ms/step - loss: 0.6953 - accuracy: 0.6562\n",
      "Epoch 14/150\n",
      "77/77 [==============================] - 0s 2ms/step - loss: 0.6744 - accuracy: 0.6888\n",
      "Epoch 15/150\n",
      "77/77 [==============================] - 0s 2ms/step - loss: 0.6722 - accuracy: 0.6836\n",
      "Epoch 16/150\n",
      "77/77 [==============================] - 0s 2ms/step - loss: 0.6460 - accuracy: 0.7018\n",
      "Epoch 17/150\n",
      "77/77 [==============================] - 0s 2ms/step - loss: 0.6675 - accuracy: 0.6758\n",
      "Epoch 18/150\n",
      "77/77 [==============================] - 0s 2ms/step - loss: 0.6699 - accuracy: 0.6771\n",
      "Epoch 19/150\n",
      "77/77 [==============================] - 0s 2ms/step - loss: 0.6505 - accuracy: 0.6771\n",
      "Epoch 20/150\n",
      "77/77 [==============================] - 0s 2ms/step - loss: 0.6359 - accuracy: 0.6706\n",
      "Epoch 21/150\n",
      "77/77 [==============================] - 0s 2ms/step - loss: 0.6260 - accuracy: 0.6901\n",
      "Epoch 22/150\n",
      "77/77 [==============================] - 0s 2ms/step - loss: 0.6201 - accuracy: 0.6758\n",
      "Epoch 23/150\n",
      "77/77 [==============================] - 0s 2ms/step - loss: 0.6177 - accuracy: 0.6979\n",
      "Epoch 24/150\n",
      "77/77 [==============================] - 0s 2ms/step - loss: 0.6091 - accuracy: 0.6953\n",
      "Epoch 25/150\n",
      "77/77 [==============================] - 0s 2ms/step - loss: 0.6117 - accuracy: 0.6927\n",
      "Epoch 26/150\n",
      "77/77 [==============================] - 0s 2ms/step - loss: 0.6269 - accuracy: 0.7135\n",
      "Epoch 27/150\n",
      "77/77 [==============================] - 0s 2ms/step - loss: 0.6141 - accuracy: 0.6771\n",
      "Epoch 28/150\n",
      "77/77 [==============================] - 0s 2ms/step - loss: 0.5989 - accuracy: 0.6927\n",
      "Epoch 29/150\n",
      "77/77 [==============================] - 0s 2ms/step - loss: 0.6016 - accuracy: 0.6927\n",
      "Epoch 30/150\n",
      "77/77 [==============================] - 0s 2ms/step - loss: 0.6264 - accuracy: 0.6992\n",
      "Epoch 31/150\n",
      "77/77 [==============================] - 0s 2ms/step - loss: 0.5915 - accuracy: 0.7070\n",
      "Epoch 32/150\n",
      "77/77 [==============================] - 0s 2ms/step - loss: 0.5846 - accuracy: 0.7122\n",
      "Epoch 33/150\n",
      "77/77 [==============================] - 0s 2ms/step - loss: 0.5880 - accuracy: 0.6927\n",
      "Epoch 34/150\n",
      "77/77 [==============================] - 0s 2ms/step - loss: 0.5965 - accuracy: 0.7005\n",
      "Epoch 35/150\n",
      "77/77 [==============================] - 0s 2ms/step - loss: 0.5810 - accuracy: 0.7070\n",
      "Epoch 36/150\n",
      "77/77 [==============================] - 0s 2ms/step - loss: 0.6093 - accuracy: 0.7031\n",
      "Epoch 37/150\n",
      "77/77 [==============================] - 0s 2ms/step - loss: 0.5914 - accuracy: 0.7070\n",
      "Epoch 38/150\n",
      "77/77 [==============================] - 0s 2ms/step - loss: 0.6136 - accuracy: 0.6914\n",
      "Epoch 39/150\n",
      "77/77 [==============================] - 0s 2ms/step - loss: 0.5717 - accuracy: 0.7109\n",
      "Epoch 40/150\n",
      "77/77 [==============================] - 0s 2ms/step - loss: 0.5732 - accuracy: 0.7227\n",
      "Epoch 41/150\n",
      "77/77 [==============================] - 0s 2ms/step - loss: 0.5592 - accuracy: 0.7148\n",
      "Epoch 42/150\n",
      "77/77 [==============================] - 0s 2ms/step - loss: 0.5719 - accuracy: 0.7122\n",
      "Epoch 43/150\n",
      "77/77 [==============================] - 0s 2ms/step - loss: 0.5638 - accuracy: 0.7253\n",
      "Epoch 44/150\n",
      "77/77 [==============================] - 0s 2ms/step - loss: 0.6064 - accuracy: 0.6875\n",
      "Epoch 45/150\n",
      "77/77 [==============================] - 0s 2ms/step - loss: 0.5594 - accuracy: 0.7279\n",
      "Epoch 46/150\n",
      "77/77 [==============================] - 0s 2ms/step - loss: 0.5602 - accuracy: 0.7188\n",
      "Epoch 47/150\n",
      "77/77 [==============================] - 0s 2ms/step - loss: 0.5778 - accuracy: 0.7109\n",
      "Epoch 48/150\n",
      "77/77 [==============================] - 0s 2ms/step - loss: 0.5525 - accuracy: 0.7357\n",
      "Epoch 49/150\n",
      "77/77 [==============================] - 0s 2ms/step - loss: 0.5546 - accuracy: 0.7148\n",
      "Epoch 50/150\n",
      "77/77 [==============================] - 0s 2ms/step - loss: 0.5409 - accuracy: 0.7448\n",
      "Epoch 51/150\n",
      "77/77 [==============================] - 0s 2ms/step - loss: 0.5592 - accuracy: 0.7188\n",
      "Epoch 52/150\n",
      "77/77 [==============================] - 0s 2ms/step - loss: 0.5704 - accuracy: 0.7201\n",
      "Epoch 53/150\n",
      "77/77 [==============================] - 0s 2ms/step - loss: 0.5415 - accuracy: 0.7227\n",
      "Epoch 54/150\n",
      "77/77 [==============================] - 0s 2ms/step - loss: 0.5546 - accuracy: 0.7370\n",
      "Epoch 55/150\n",
      "77/77 [==============================] - 0s 3ms/step - loss: 0.5557 - accuracy: 0.7292\n",
      "Epoch 56/150\n",
      "77/77 [==============================] - 0s 3ms/step - loss: 0.5399 - accuracy: 0.7331\n",
      "Epoch 57/150\n",
      "77/77 [==============================] - 0s 3ms/step - loss: 0.5381 - accuracy: 0.7292\n",
      "Epoch 58/150\n",
      "77/77 [==============================] - 0s 3ms/step - loss: 0.5483 - accuracy: 0.7214\n",
      "Epoch 59/150\n",
      "77/77 [==============================] - 0s 3ms/step - loss: 0.5713 - accuracy: 0.7148\n",
      "Epoch 60/150\n",
      "77/77 [==============================] - 0s 3ms/step - loss: 0.5465 - accuracy: 0.7318\n",
      "Epoch 61/150\n",
      "77/77 [==============================] - 0s 4ms/step - loss: 0.5397 - accuracy: 0.7305\n",
      "Epoch 62/150\n",
      "77/77 [==============================] - 0s 3ms/step - loss: 0.5307 - accuracy: 0.7474\n",
      "Epoch 63/150\n",
      "77/77 [==============================] - 0s 3ms/step - loss: 0.5282 - accuracy: 0.7383\n",
      "Epoch 64/150\n",
      "77/77 [==============================] - 0s 3ms/step - loss: 0.5621 - accuracy: 0.7201\n",
      "Epoch 65/150\n",
      "77/77 [==============================] - 0s 3ms/step - loss: 0.5589 - accuracy: 0.7070\n",
      "Epoch 66/150\n",
      "77/77 [==============================] - 0s 3ms/step - loss: 0.5247 - accuracy: 0.7357\n",
      "Epoch 67/150\n",
      "77/77 [==============================] - 0s 3ms/step - loss: 0.5368 - accuracy: 0.7344\n",
      "Epoch 68/150\n",
      "77/77 [==============================] - 0s 3ms/step - loss: 0.5850 - accuracy: 0.7070\n",
      "Epoch 69/150\n",
      "77/77 [==============================] - 0s 3ms/step - loss: 0.5419 - accuracy: 0.7279\n",
      "Epoch 70/150\n",
      "77/77 [==============================] - 0s 3ms/step - loss: 0.5422 - accuracy: 0.7370\n",
      "Epoch 71/150\n",
      "77/77 [==============================] - 0s 3ms/step - loss: 0.5228 - accuracy: 0.7461\n",
      "Epoch 72/150\n",
      "77/77 [==============================] - 0s 3ms/step - loss: 0.5427 - accuracy: 0.7357\n",
      "Epoch 73/150\n",
      "77/77 [==============================] - 0s 3ms/step - loss: 0.5656 - accuracy: 0.7096\n",
      "Epoch 74/150\n",
      "77/77 [==============================] - 0s 3ms/step - loss: 0.5284 - accuracy: 0.7448\n",
      "Epoch 75/150\n",
      "77/77 [==============================] - 0s 3ms/step - loss: 0.5277 - accuracy: 0.7161\n",
      "Epoch 76/150\n",
      "77/77 [==============================] - 0s 3ms/step - loss: 0.5269 - accuracy: 0.7539\n",
      "Epoch 77/150\n",
      "77/77 [==============================] - 0s 3ms/step - loss: 0.5239 - accuracy: 0.7344\n",
      "Epoch 78/150\n",
      "77/77 [==============================] - 0s 3ms/step - loss: 0.5294 - accuracy: 0.7292\n",
      "Epoch 79/150\n",
      "77/77 [==============================] - 0s 3ms/step - loss: 0.5275 - accuracy: 0.7279\n",
      "Epoch 80/150\n",
      "77/77 [==============================] - 0s 3ms/step - loss: 0.5216 - accuracy: 0.7526\n",
      "Epoch 81/150\n",
      "77/77 [==============================] - 0s 3ms/step - loss: 0.5509 - accuracy: 0.7214\n",
      "Epoch 82/150\n",
      "77/77 [==============================] - 0s 3ms/step - loss: 0.5228 - accuracy: 0.7435\n",
      "Epoch 83/150\n"
     ]
    },
    {
     "name": "stdout",
     "output_type": "stream",
     "text": [
      "77/77 [==============================] - 0s 3ms/step - loss: 0.5220 - accuracy: 0.7227\n",
      "Epoch 84/150\n",
      "77/77 [==============================] - 0s 3ms/step - loss: 0.5213 - accuracy: 0.7409\n",
      "Epoch 85/150\n",
      "77/77 [==============================] - 0s 3ms/step - loss: 0.5165 - accuracy: 0.7461\n",
      "Epoch 86/150\n",
      "77/77 [==============================] - 0s 3ms/step - loss: 0.5235 - accuracy: 0.7383\n",
      "Epoch 87/150\n",
      "77/77 [==============================] - 0s 3ms/step - loss: 0.5258 - accuracy: 0.7487\n",
      "Epoch 88/150\n",
      "77/77 [==============================] - 0s 3ms/step - loss: 0.5375 - accuracy: 0.7396\n",
      "Epoch 89/150\n",
      "77/77 [==============================] - 0s 3ms/step - loss: 0.5178 - accuracy: 0.7682\n",
      "Epoch 90/150\n",
      "77/77 [==============================] - 0s 3ms/step - loss: 0.5149 - accuracy: 0.7526\n",
      "Epoch 91/150\n",
      "77/77 [==============================] - 0s 3ms/step - loss: 0.5362 - accuracy: 0.7253\n",
      "Epoch 92/150\n",
      "77/77 [==============================] - 0s 3ms/step - loss: 0.5148 - accuracy: 0.7461\n",
      "Epoch 93/150\n",
      "77/77 [==============================] - 0s 3ms/step - loss: 0.5141 - accuracy: 0.7435\n",
      "Epoch 94/150\n",
      "77/77 [==============================] - 0s 3ms/step - loss: 0.5105 - accuracy: 0.7396\n",
      "Epoch 95/150\n",
      "77/77 [==============================] - 0s 3ms/step - loss: 0.5094 - accuracy: 0.7487\n",
      "Epoch 96/150\n",
      "77/77 [==============================] - 0s 3ms/step - loss: 0.5238 - accuracy: 0.7383\n",
      "Epoch 97/150\n",
      "77/77 [==============================] - 0s 3ms/step - loss: 0.5109 - accuracy: 0.7448\n",
      "Epoch 98/150\n",
      "77/77 [==============================] - 0s 3ms/step - loss: 0.5104 - accuracy: 0.7461\n",
      "Epoch 99/150\n",
      "77/77 [==============================] - 0s 3ms/step - loss: 0.5172 - accuracy: 0.7500\n",
      "Epoch 100/150\n",
      "77/77 [==============================] - 0s 3ms/step - loss: 0.5303 - accuracy: 0.7435\n",
      "Epoch 101/150\n",
      "77/77 [==============================] - 0s 3ms/step - loss: 0.5276 - accuracy: 0.7422\n",
      "Epoch 102/150\n",
      "77/77 [==============================] - 0s 3ms/step - loss: 0.5348 - accuracy: 0.7409\n",
      "Epoch 103/150\n",
      "77/77 [==============================] - 0s 3ms/step - loss: 0.5368 - accuracy: 0.7422\n",
      "Epoch 104/150\n",
      "77/77 [==============================] - 0s 3ms/step - loss: 0.5568 - accuracy: 0.7357\n",
      "Epoch 105/150\n",
      "77/77 [==============================] - 0s 3ms/step - loss: 0.5085 - accuracy: 0.7552\n",
      "Epoch 106/150\n",
      "77/77 [==============================] - 0s 3ms/step - loss: 0.5120 - accuracy: 0.7487\n",
      "Epoch 107/150\n",
      "77/77 [==============================] - 0s 3ms/step - loss: 0.5043 - accuracy: 0.7669\n",
      "Epoch 108/150\n",
      "77/77 [==============================] - 0s 3ms/step - loss: 0.5051 - accuracy: 0.7552\n",
      "Epoch 109/150\n",
      "77/77 [==============================] - 0s 3ms/step - loss: 0.5144 - accuracy: 0.7526\n",
      "Epoch 110/150\n",
      "77/77 [==============================] - 0s 3ms/step - loss: 0.5126 - accuracy: 0.7526\n",
      "Epoch 111/150\n",
      "77/77 [==============================] - 0s 3ms/step - loss: 0.5253 - accuracy: 0.7552\n",
      "Epoch 112/150\n",
      "77/77 [==============================] - 0s 3ms/step - loss: 0.5090 - accuracy: 0.7539\n",
      "Epoch 113/150\n",
      "77/77 [==============================] - 0s 3ms/step - loss: 0.5186 - accuracy: 0.7357\n",
      "Epoch 114/150\n",
      "77/77 [==============================] - 0s 3ms/step - loss: 0.5141 - accuracy: 0.7461\n",
      "Epoch 115/150\n",
      "77/77 [==============================] - 0s 3ms/step - loss: 0.5018 - accuracy: 0.7565\n",
      "Epoch 116/150\n",
      "77/77 [==============================] - 0s 3ms/step - loss: 0.5078 - accuracy: 0.7630\n",
      "Epoch 117/150\n",
      "77/77 [==============================] - 0s 3ms/step - loss: 0.5031 - accuracy: 0.7422\n",
      "Epoch 118/150\n",
      "77/77 [==============================] - 0s 3ms/step - loss: 0.5122 - accuracy: 0.7409\n",
      "Epoch 119/150\n",
      "77/77 [==============================] - 0s 3ms/step - loss: 0.4967 - accuracy: 0.7552\n",
      "Epoch 120/150\n",
      "77/77 [==============================] - 0s 3ms/step - loss: 0.5068 - accuracy: 0.7526\n",
      "Epoch 121/150\n",
      "77/77 [==============================] - 0s 3ms/step - loss: 0.5026 - accuracy: 0.7630\n",
      "Epoch 122/150\n",
      "77/77 [==============================] - 0s 3ms/step - loss: 0.5042 - accuracy: 0.7604\n",
      "Epoch 123/150\n",
      "77/77 [==============================] - 0s 3ms/step - loss: 0.4929 - accuracy: 0.7565\n",
      "Epoch 124/150\n",
      "77/77 [==============================] - 0s 3ms/step - loss: 0.5100 - accuracy: 0.7474\n",
      "Epoch 125/150\n",
      "77/77 [==============================] - 0s 2ms/step - loss: 0.5026 - accuracy: 0.7643\n",
      "Epoch 126/150\n",
      "77/77 [==============================] - 0s 3ms/step - loss: 0.4966 - accuracy: 0.7552\n",
      "Epoch 127/150\n",
      "77/77 [==============================] - 0s 3ms/step - loss: 0.4944 - accuracy: 0.7630\n",
      "Epoch 128/150\n",
      "77/77 [==============================] - 0s 3ms/step - loss: 0.5028 - accuracy: 0.7461\n",
      "Epoch 129/150\n",
      "77/77 [==============================] - 0s 3ms/step - loss: 0.4981 - accuracy: 0.7591\n",
      "Epoch 130/150\n",
      "77/77 [==============================] - 0s 3ms/step - loss: 0.5096 - accuracy: 0.7487\n",
      "Epoch 131/150\n",
      "77/77 [==============================] - 0s 3ms/step - loss: 0.4920 - accuracy: 0.7539\n",
      "Epoch 132/150\n",
      "77/77 [==============================] - 0s 3ms/step - loss: 0.5185 - accuracy: 0.7344\n",
      "Epoch 133/150\n",
      "77/77 [==============================] - 0s 3ms/step - loss: 0.5030 - accuracy: 0.7617\n",
      "Epoch 134/150\n",
      "77/77 [==============================] - 0s 3ms/step - loss: 0.5069 - accuracy: 0.7513\n",
      "Epoch 135/150\n",
      "77/77 [==============================] - 0s 3ms/step - loss: 0.5018 - accuracy: 0.7461\n",
      "Epoch 136/150\n",
      "77/77 [==============================] - 0s 3ms/step - loss: 0.5024 - accuracy: 0.7487\n",
      "Epoch 137/150\n",
      "77/77 [==============================] - 0s 3ms/step - loss: 0.4974 - accuracy: 0.7513\n",
      "Epoch 138/150\n",
      "77/77 [==============================] - 0s 3ms/step - loss: 0.5068 - accuracy: 0.7487\n",
      "Epoch 139/150\n",
      "77/77 [==============================] - 0s 3ms/step - loss: 0.5051 - accuracy: 0.7487\n",
      "Epoch 140/150\n",
      "77/77 [==============================] - 0s 3ms/step - loss: 0.4946 - accuracy: 0.7630\n",
      "Epoch 141/150\n",
      "77/77 [==============================] - 0s 3ms/step - loss: 0.4883 - accuracy: 0.7643\n",
      "Epoch 142/150\n",
      "77/77 [==============================] - 0s 3ms/step - loss: 0.4890 - accuracy: 0.7656\n",
      "Epoch 143/150\n",
      "77/77 [==============================] - 0s 3ms/step - loss: 0.5026 - accuracy: 0.7448\n",
      "Epoch 144/150\n",
      "77/77 [==============================] - 0s 3ms/step - loss: 0.5106 - accuracy: 0.7552\n",
      "Epoch 145/150\n",
      "77/77 [==============================] - 0s 3ms/step - loss: 0.5005 - accuracy: 0.7552\n",
      "Epoch 146/150\n",
      "77/77 [==============================] - 0s 3ms/step - loss: 0.4961 - accuracy: 0.7474\n",
      "Epoch 147/150\n",
      "77/77 [==============================] - 0s 3ms/step - loss: 0.4967 - accuracy: 0.7539\n",
      "Epoch 148/150\n",
      "77/77 [==============================] - 0s 3ms/step - loss: 0.4892 - accuracy: 0.7552\n",
      "Epoch 149/150\n",
      "77/77 [==============================] - 0s 3ms/step - loss: 0.4910 - accuracy: 0.7708\n",
      "Epoch 150/150\n",
      "77/77 [==============================] - 0s 3ms/step - loss: 0.4871 - accuracy: 0.7747\n"
     ]
    },
    {
     "data": {
      "text/plain": [
       "<keras.callbacks.History at 0x227e2f230d0>"
      ]
     },
     "execution_count": 16,
     "metadata": {},
     "output_type": "execute_result"
    }
   ],
   "source": [
    "# fit the keras model on the dataset\n",
    "model.fit(X, y, epochs=150, batch_size=10)"
   ]
  },
  {
   "cell_type": "markdown",
   "metadata": {},
   "source": [
    "**Q:** change the value of Epoch - what differences will you expect/see?"
   ]
  },
  {
   "cell_type": "code",
   "execution_count": 17,
   "metadata": {},
   "outputs": [
    {
     "name": "stdout",
     "output_type": "stream",
     "text": [
      "Epoch 1/10\n",
      "77/77 [==============================] - 0s 2ms/step - loss: 0.4849 - accuracy: 0.7695\n",
      "Epoch 2/10\n",
      "77/77 [==============================] - 0s 2ms/step - loss: 0.4848 - accuracy: 0.7669\n",
      "Epoch 3/10\n",
      "77/77 [==============================] - 0s 2ms/step - loss: 0.4882 - accuracy: 0.7695\n",
      "Epoch 4/10\n",
      "77/77 [==============================] - 0s 2ms/step - loss: 0.4979 - accuracy: 0.7552\n",
      "Epoch 5/10\n",
      "77/77 [==============================] - 0s 2ms/step - loss: 0.4878 - accuracy: 0.7578\n",
      "Epoch 6/10\n",
      "77/77 [==============================] - 0s 2ms/step - loss: 0.4731 - accuracy: 0.7904\n",
      "Epoch 7/10\n",
      "77/77 [==============================] - 0s 2ms/step - loss: 0.4727 - accuracy: 0.7826\n",
      "Epoch 8/10\n",
      "77/77 [==============================] - 0s 2ms/step - loss: 0.4842 - accuracy: 0.7539\n",
      "Epoch 9/10\n",
      "77/77 [==============================] - 0s 2ms/step - loss: 0.5054 - accuracy: 0.7513\n",
      "Epoch 10/10\n",
      "77/77 [==============================] - 0s 2ms/step - loss: 0.4776 - accuracy: 0.7695\n"
     ]
    },
    {
     "data": {
      "text/plain": [
       "<keras.callbacks.History at 0x227e3529c90>"
      ]
     },
     "execution_count": 17,
     "metadata": {},
     "output_type": "execute_result"
    }
   ],
   "source": [
    "model.fit(X, y, epochs=10, batch_size=10)"
   ]
  },
  {
   "cell_type": "markdown",
   "metadata": {},
   "source": [
    "### 5. Evaluate Keras Model\n",
    "We have trained our neural network on the entire dataset and we can evaluate the performance of the network on the same dataset.\n",
    "\n",
    "This will only give us an idea of how well we have modeled the dataset (e.g. train accuracy), but no idea of how well the algorithm might perform on new data. We have done this for simplicity, but ideally, you could separate your data into train and test datasets for training and evaluation of your model.\n",
    "\n",
    "You can evaluate your model on your training dataset using the **evaluate()** function on your model and pass it the same input and output used to train the model.\n",
    "\n",
    "This will generate a prediction for each input and output pair and collect scores, including the average loss and any metrics you have configured, such as accuracy.\n",
    "\n",
    "The **evaluate()** function will return a list with two values. The first will be the loss of the model on the dataset and the second will be the accuracy of the model on the dataset. We are only interested in reporting the accuracy, so we will ignore the loss value."
   ]
  },
  {
   "cell_type": "code",
   "execution_count": 18,
   "metadata": {},
   "outputs": [
    {
     "name": "stdout",
     "output_type": "stream",
     "text": [
      "24/24 [==============================] - 0s 2ms/step - loss: 0.4839 - accuracy: 0.7513\n",
      "Accuracy: 75.13\n"
     ]
    }
   ],
   "source": [
    "# evaluate the keras model\n",
    "_, accuracy = model.evaluate(X, y)\n",
    "print('Accuracy: %.2f' % (accuracy*100))"
   ]
  },
  {
   "cell_type": "markdown",
   "metadata": {},
   "source": [
    "### 7. Make Predictions\n",
    "We can adapt the above example and use it to generate predictions on the training dataset, pretending it is a new dataset we have not seen before.\n",
    "\n",
    "Making predictions is as easy as calling the predict() function on the model. We are using a sigmoid activation function on the output layer, so the predictions will be a probability in the range between 0 and 1. We can easily convert them into a crisp binary prediction for this classification task by rounding them."
   ]
  },
  {
   "cell_type": "code",
   "execution_count": 19,
   "metadata": {},
   "outputs": [
    {
     "name": "stdout",
     "output_type": "stream",
     "text": [
      "24/24 [==============================] - 0s 1ms/step\n"
     ]
    }
   ],
   "source": [
    "# make probability predictions with the model\n",
    "predictions = model.predict(X)\n",
    "\n",
    "# round predictions \n",
    "rounded = [round(x[0]) for x in predictions]\n"
   ]
  },
  {
   "cell_type": "markdown",
   "metadata": {},
   "source": [
    "**Q:** now redo predictions by using the function predict_classes(). Show the outcome of the first 10 cases (code provided)"
   ]
  },
  {
   "cell_type": "code",
   "execution_count": 21,
   "metadata": {},
   "outputs": [
    {
     "name": "stdout",
     "output_type": "stream",
     "text": [
      "24/24 [==============================] - 0s 1ms/step\n",
      "[6.0, 148.0, 72.0, 35.0, 0.0, 33.6, 0.627, 50.0] => 0 (expected 1)\n",
      "[1.0, 85.0, 66.0, 29.0, 0.0, 26.6, 0.351, 31.0] => 0 (expected 0)\n",
      "[8.0, 183.0, 64.0, 0.0, 0.0, 23.3, 0.672, 32.0] => 0 (expected 1)\n",
      "[1.0, 89.0, 66.0, 23.0, 94.0, 28.1, 0.167, 21.0] => 0 (expected 0)\n",
      "[0.0, 137.0, 40.0, 35.0, 168.0, 43.1, 2.288, 33.0] => 0 (expected 1)\n",
      "[5.0, 116.0, 74.0, 0.0, 0.0, 25.6, 0.201, 30.0] => 0 (expected 0)\n",
      "[3.0, 78.0, 50.0, 32.0, 88.0, 31.0, 0.248, 26.0] => 0 (expected 1)\n",
      "[10.0, 115.0, 0.0, 0.0, 0.0, 35.3, 0.134, 29.0] => 0 (expected 0)\n",
      "[2.0, 197.0, 70.0, 45.0, 543.0, 30.5, 0.158, 53.0] => 0 (expected 1)\n",
      "[8.0, 125.0, 96.0, 0.0, 0.0, 0.0, 0.232, 54.0] => 0 (expected 1)\n"
     ]
    }
   ],
   "source": [
    "predictions = model.predict(X)\n",
    "\n",
    "for i in range(10):\n",
    "    print('%s => %d (expected %d)' % (X[i].tolist(), predictions[i], y[i]))"
   ]
  },
  {
   "cell_type": "markdown",
   "metadata": {},
   "source": [
    "## Challenge 1:\n",
    "Separate the training and test datasets (70% vs 30%) and rerun the evaluation"
   ]
  },
  {
   "cell_type": "code",
   "execution_count": 23,
   "metadata": {},
   "outputs": [],
   "source": [
    "from sklearn.model_selection import train_test_split\n",
    "\n",
    "X_train, X_test, y_train, y_test = train_test_split(X, y, test_size = 0.3)"
   ]
  },
  {
   "cell_type": "markdown",
   "metadata": {},
   "source": [
    "## Challenge 2:\n",
    "How can you tune the model to improve the accuracy to be higher than what you have obtained?"
   ]
  },
  {
   "cell_type": "code",
   "execution_count": null,
   "metadata": {},
   "outputs": [],
   "source": []
  },
  {
   "cell_type": "markdown",
   "metadata": {},
   "source": [
    "## Challenge 3:\n",
    "How can you save the model and use it again for prediction directly without (re-)training?"
   ]
  },
  {
   "cell_type": "code",
   "execution_count": null,
   "metadata": {},
   "outputs": [],
   "source": []
  }
 ],
 "metadata": {
  "kernelspec": {
   "display_name": "Python 3 (ipykernel)",
   "language": "python",
   "name": "python3"
  },
  "language_info": {
   "codemirror_mode": {
    "name": "ipython",
    "version": 3
   },
   "file_extension": ".py",
   "mimetype": "text/x-python",
   "name": "python",
   "nbconvert_exporter": "python",
   "pygments_lexer": "ipython3",
   "version": "3.10.11"
  }
 },
 "nbformat": 4,
 "nbformat_minor": 4
}
