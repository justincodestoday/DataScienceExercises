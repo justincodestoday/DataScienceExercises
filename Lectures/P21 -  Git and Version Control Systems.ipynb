{
 "cells": [
  {
   "cell_type": "markdown",
   "metadata": {},
   "source": [
    "<img src=\"https://i.imgur.com/FoKB5Z5.png\" align=\"left\" width=\"300\" height=\"250\" title=\"source: imgur.com\" /></a>"
   ]
  },
  {
   "cell_type": "markdown",
   "metadata": {},
   "source": [
    "## Program Code: J620-002-4:2020 \n",
    "\n",
    "## Program Name: FRONT-END SOFTWARE DEVELOPMENT\n",
    "\n",
    "## Title :  Git and Version Control Systems\n",
    "\n",
    "#### Name: \n",
    "\n",
    "#### IC Number:\n",
    "\n",
    "#### Date :\n",
    "\n",
    "#### Introduction : \n",
    "\n",
    "\n",
    "\n",
    "#### Conclusion :\n",
    "\n",
    "\n",
    "\n",
    "\n"
   ]
  },
  {
   "cell_type": "markdown",
   "metadata": {},
   "source": [
    "# P21 -  Git and Version Control Systems\n"
   ]
  },
  {
   "cell_type": "markdown",
   "metadata": {},
   "source": [
    "## Discuss the scenarios in Software Development\n",
    "\n",
    "- track changes\n",
    "\n",
    "- multiple copies\n",
    "\n",
    "- code sharing/collaboration\n",
    "\n",
    "- keeping in sync with others\n",
    "\n",
    "- software releases and versioning\n"
   ]
  },
  {
   "cell_type": "markdown",
   "metadata": {},
   "source": [
    "## What is version control?"
   ]
  },
  {
   "cell_type": "markdown",
   "metadata": {},
   "source": [
    "## Version Control and Automation"
   ]
  },
  {
   "cell_type": "markdown",
   "metadata": {},
   "source": [
    "## What is Git?\n",
    "\n",
    "Git is a distributed version control system. Distributed means that each developer has a copy of the whole repository on their local machine.\n",
    "\n",
    "Each copy is a peer of the others. But we can host one of these copies on a server and then use it as a remote repository for the other copies. This lets us synchronize work between copies through this server. Any of us can create a Git server like this one,\n"
   ]
  },
  {
   "cell_type": "markdown",
   "metadata": {},
   "source": [
    "## Installing Git\n",
    "\n",
    "** On Windows\n",
    "\n",
    "** On Mac\n",
    "\n",
    "Get Git:\n",
    "\n",
    "https://git-scm.com\n",
    "\n"
   ]
  },
  {
   "cell_type": "markdown",
   "metadata": {},
   "source": [
    "## Creator of Git\n",
    "\n",
    "Linus Torvalds, et. al.\n",
    "\n",
    "in 2005\n",
    "\n",
    "https://en.wikipedia.org/wiki/Linus_Torvalds"
   ]
  },
  {
   "cell_type": "markdown",
   "metadata": {},
   "source": [
    "## Git Cheat Sheet\n",
    "\n",
    "https://github.github.com/training-kit/downloads/github-git-cheat-sheet.pdf\n"
   ]
  },
  {
   "cell_type": "markdown",
   "metadata": {},
   "source": [
    "# GitHub\n",
    "\n"
   ]
  },
  {
   "cell_type": "markdown",
   "metadata": {},
   "source": [
    "**What is GitHub?**\n",
    "\n",
    "- Git vs GitHub\n",
    "\n",
    "- Used or heard before?\n",
    "\n",
    "- GitHub is a web-based Git repository hosting service. \n",
    "\n",
    "- On top of the version control functionality of Git, GitHub includes extra features like bug tracking, wikis, and task management. \n",
    "\n",
    "- GitHub lets us share and access repositories on the web and copy or clone them to our local computer, so we can work on them. \n",
    "\n",
    "- GitHub is a popular choice with a robust feature set, but it's not the only one. \n",
    "\n",
    "- Other services that provide similar functionality are BitBucket, and GitLab.\n",
    " \n",
    "**IMPORTANT!!!**\n",
    "\n",
    "**Do Not** Store password or any sensitive information \n",
    "\n",
    "- For company usage, best to use own local implementation\n",
    "\n"
   ]
  },
  {
   "cell_type": "markdown",
   "metadata": {},
   "source": [
    "## Create GitHub account\n",
    "\n",
    "Go to https://www.github.com\n",
    "\n",
    "Free \n",
    "\n",
    "\n"
   ]
  },
  {
   "cell_type": "markdown",
   "metadata": {},
   "source": [
    "## Upload your Mini Project notebook to Git"
   ]
  },
  {
   "cell_type": "markdown",
   "metadata": {},
   "source": [
    "# Using a Remote Repository\n",
    "\n",
    "## What is a remote repository?\n",
    "\n",
    "It let lots of developers contribute to a project from their own workstations making changes to local copies of the project independently of one another.\n",
    "\n",
    "<img src='./Images/Git02.png'>"
   ]
  },
  {
   "cell_type": "markdown",
   "metadata": {},
   "source": [
    "When they need to share their changes, they can issue git commands to pull code from a remote repository or push code into one"
   ]
  },
  {
   "cell_type": "markdown",
   "metadata": {},
   "source": [
    "Helps developers to work independently and update to the remote repository for others to "
   ]
  },
  {
   "cell_type": "markdown",
   "metadata": {},
   "source": [
    "When working with remote repository, the workflow for making changes has some extra steps. \n",
    "\n",
    "Still **modify**, **stage** and **commit** our local changes. \n",
    "\n",
    "After committing, we'll **fetch** any new changes from the remote repo manually, **merge** if necessary and only then will **push** our changes to the remote repo. \n"
   ]
  },
  {
   "cell_type": "markdown",
   "metadata": {},
   "source": [
    "**Question:**\n",
    "\n",
    "What will happen if the master repository receives a major update since the last local copy was synced?\n",
    "\n",
    "Git will let you know it's time for an update.\n"
   ]
  },
  {
   "cell_type": "markdown",
   "metadata": {},
   "source": [
    "## Basic Interaction with GitHub\n",
    "\n",
    "Create a new repository\n",
    "\n",
    "Set the repository name\n",
    "\n",
    "Public - Open to everyone\n",
    "\n",
    "Private - Only to you and who you choose to share with\n",
    "\n",
    "Initialize the README.md\n",
    "\n",
    "How to create a local copy\n",
    "\n",
    "Get the URL from [Clone or Download]\n",
    "\n",
    "From command line\n",
    "\n",
    "Change to your current Jupyter directory\n",
    "\n",
    "git clone https://github.com/yourname/project1.git\n",
    "\n",
    "Observe the folder created.\n",
    "\n",
    "cd to that folder\n",
    "\n",
    "Open the file using Jupyter\n",
    "\n",
    "Make some small changes and commit\n",
    "\n",
    "git commit -a -m \"Add one more line\"\n",
    "\n",
    "git push\n",
    "\n",
    "enter the password\n",
    "\n",
    "Check the GitHub copy now\n"
   ]
  },
  {
   "cell_type": "markdown",
   "metadata": {},
   "source": [
    "### Question\n",
    "\n",
    "After making changes to our local repository, how do we update the remote repository to reflect our changes?\n",
    "\n",
    "Use the git push command to send snapshots to the remote repository.\n"
   ]
  },
  {
   "cell_type": "markdown",
   "metadata": {},
   "source": [
    "### Password\n",
    "\n",
    "Notice you need to enter password in order to create the repo or make the changes?\n",
    "\n",
    "2 ways to make this easier\n",
    "\n",
    "1. Make use of SSH key-pair\n",
    "\n",
    "    Refer to: https://help.github.com/en/articles/generating-an-ssh-key  \n",
    "\n",
    "\n",
    "2. Credential helper\n",
    "\n",
    "    To enable\n",
    "\n",
    "    git config --global credential.helper cache\n",
    "\n",
    "    After this need not enter password within 15 minutes\n"
   ]
  },
  {
   "cell_type": "markdown",
   "metadata": {},
   "source": [
    "try \n",
    "\n",
    "git pull\n",
    "\n",
    "(Note: no need to enter password)\n"
   ]
  },
  {
   "cell_type": "markdown",
   "metadata": {},
   "source": [
    "## Some useful commands for getting started:"
   ]
  },
  {
   "cell_type": "markdown",
   "metadata": {},
   "source": [
    "<thead><tr><th scope=\"col\">Command</th><th scope=\"col\">Explanation &amp; Link</th></tr></thead>\n",
    "<table><thead><tr><th scope=\"col\">Command</th><th scope=\"col\">Explanation &amp; Link</th></tr></thead><tbody><tr><td>git clone URL</td><td><a href=\"https://git-scm.com/docs/git-clone\" target=\"_blank\" rel=\"noopener nofollow\"><u>Git clone is used to clone a remote repository into a local workspace</u></a></td></tr><tr><td>git push</td><td><a href=\"https://git-scm.com/docs/git-push\" target=\"_blank\" rel=\"noopener nofollow\"><u>Git push is used to push commits from your local repo to a remote repo</u></a></td></tr><tr><td>git pull</td><td><a href=\"https://git-scm.com/docs/git-pull\" target=\"_blank\" rel=\"noopener nofollow\"><u>Git pull is used to fetch the newest updates from a remote repository</u></a></td></tr></tbody></table>"
   ]
  },
  {
   "cell_type": "markdown",
   "metadata": {},
   "source": [
    "## Working with Remote Repository\n",
    "\n",
    "When we call a git clone to get a local copy of a remote repository, Git sets up that remote repository with the default origin name. We can look at the configuration for that remote by running git remote -v in the directory of the repo.\n",
    "\n",
    "git clone\n",
    "\n",
    "look at the default, origin\n",
    "\n",
    "git remote -v\n",
    "\n",
    "git remote show origin\n",
    "\n",
    "git branch -r\n",
    "\n",
    "\n"
   ]
  },
  {
   "cell_type": "markdown",
   "metadata": {},
   "source": [
    "### Question.\n",
    "\n",
    "If we want to make a change to a remote branch, what must we do?\n",
    "\n",
    "Pull the remote branch, merge it with the local branch, then push it back to its origin.\n",
    "\n",
    "We still have to go through the normal workflow to change remote branches.\n"
   ]
  },
  {
   "cell_type": "markdown",
   "metadata": {},
   "source": [
    "git status\n",
    "\n",
    "<img src='./Images/Git03.png'>"
   ]
  },
  {
   "cell_type": "markdown",
   "metadata": {},
   "source": [
    "## Fetching New Changes"
   ]
  },
  {
   "cell_type": "markdown",
   "metadata": {},
   "source": [
    "git remote show origin\n",
    "\n",
    "look at *local out of date)"
   ]
  },
  {
   "cell_type": "markdown",
   "metadata": {},
   "source": [
    "git fetch\n",
    "\n"
   ]
  },
  {
   "cell_type": "markdown",
   "metadata": {},
   "source": [
    "git checkout"
   ]
  },
  {
   "cell_type": "markdown",
   "metadata": {},
   "source": [
    "git log"
   ]
  },
  {
   "cell_type": "markdown",
   "metadata": {},
   "source": [
    "git status"
   ]
  },
  {
   "cell_type": "markdown",
   "metadata": {},
   "source": [
    "git merge origin/master"
   ]
  },
  {
   "cell_type": "markdown",
   "metadata": {},
   "source": [
    "### Question.\n",
    "\n",
    "What’s the main difference between git fetch and git pull?\n",
    "\n",
    "git fetch fetches remote updates but doesn't merge; git pull fetches remote updates and merges.\n",
    "\n",
    "git pull instantly merges while git fetch only retrieves remote updates.\n"
   ]
  },
  {
   "cell_type": "markdown",
   "metadata": {},
   "source": [
    "## Updating the local repository"
   ]
  },
  {
   "cell_type": "code",
   "execution_count": null,
   "metadata": {},
   "outputs": [],
   "source": [
    "git pull\n"
   ]
  }
 ],
 "metadata": {
  "kernelspec": {
   "display_name": "Python 3",
   "language": "python",
   "name": "python3"
  },
  "language_info": {
   "codemirror_mode": {
    "name": "ipython",
    "version": 3
   },
   "file_extension": ".py",
   "mimetype": "text/x-python",
   "name": "python",
   "nbconvert_exporter": "python",
   "pygments_lexer": "ipython3",
   "version": "3.8.5"
  }
 },
 "nbformat": 4,
 "nbformat_minor": 4
}
