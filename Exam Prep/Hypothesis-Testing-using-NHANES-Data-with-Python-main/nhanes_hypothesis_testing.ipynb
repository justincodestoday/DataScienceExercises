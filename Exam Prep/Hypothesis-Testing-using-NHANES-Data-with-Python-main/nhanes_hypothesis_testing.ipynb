{
 "cells": [
  {
   "cell_type": "markdown",
   "metadata": {},
   "source": [
    "# Hypothesis testing\n",
    "\n",
    "In this notebook we demonstrate formal hypothesis testing using the [NHANES](https://www.cdc.gov/nchs/nhanes/index.htm) data.\n",
    "\n",
    "It is important to note that the NHANES data are a \"complex survey\".  The data are not an independent and representative sample from the target population.  Proper analysis of complex survey data should make use of additional information about how the data were collected.  Since complex survey analysis is a somewhat specialized topic, we ignore this aspect of the data here, and analyze the NHANES data as if it were an independent and identically distributed sample from a population.\n",
    "\n",
    "First we import the libraries that we will need."
   ]
  },
  {
   "cell_type": "code",
   "execution_count": 1,
   "metadata": {},
   "outputs": [],
   "source": [
    "%matplotlib inline\n",
    "import pandas as pd\n",
    "import numpy as np\n",
    "import seaborn as sns\n",
    "import matplotlib.pyplot as plt\n",
    "import statsmodels.api as sm\n",
    "import scipy.stats.distributions as dist"
   ]
  },
  {
   "cell_type": "markdown",
   "metadata": {},
   "source": [
    "Below we read the data, and convert some of the integer codes to text values.  The NHANES codebooks for\n",
    "[SMQ020](https://wwwn.cdc.gov/Nchs/Nhanes/2015-2016/SMQ_I.htm#SMQ020),\n",
    "[RIAGENDR](https://wwwn.cdc.gov/Nchs/Nhanes/2015-2016/DEMO_I.htm#RIAGENDR), and\n",
    "[DMDCITZN](https://wwwn.cdc.gov/Nchs/Nhanes/2015-2016/DEMO_I.htm#DMDCITZN) describe the meanings of the numerical\n",
    "codes."
   ]
  },
  {
   "cell_type": "code",
   "execution_count": 2,
   "metadata": {},
   "outputs": [
    {
     "data": {
      "text/html": [
       "<div>\n",
       "<style scoped>\n",
       "    .dataframe tbody tr th:only-of-type {\n",
       "        vertical-align: middle;\n",
       "    }\n",
       "\n",
       "    .dataframe tbody tr th {\n",
       "        vertical-align: top;\n",
       "    }\n",
       "\n",
       "    .dataframe thead th {\n",
       "        text-align: right;\n",
       "    }\n",
       "</style>\n",
       "<table border=\"1\" class=\"dataframe\">\n",
       "  <thead>\n",
       "    <tr style=\"text-align: right;\">\n",
       "      <th></th>\n",
       "      <th>SEQN</th>\n",
       "      <th>ALQ101</th>\n",
       "      <th>ALQ110</th>\n",
       "      <th>ALQ130</th>\n",
       "      <th>SMQ020</th>\n",
       "      <th>RIAGENDR</th>\n",
       "      <th>RIDAGEYR</th>\n",
       "      <th>RIDRETH1</th>\n",
       "      <th>DMDCITZN</th>\n",
       "      <th>DMDEDUC2</th>\n",
       "      <th>...</th>\n",
       "      <th>BPXSY2</th>\n",
       "      <th>BPXDI2</th>\n",
       "      <th>BMXWT</th>\n",
       "      <th>BMXHT</th>\n",
       "      <th>BMXBMI</th>\n",
       "      <th>BMXLEG</th>\n",
       "      <th>BMXARML</th>\n",
       "      <th>BMXARMC</th>\n",
       "      <th>BMXWAIST</th>\n",
       "      <th>HIQ210</th>\n",
       "    </tr>\n",
       "  </thead>\n",
       "  <tbody>\n",
       "    <tr>\n",
       "      <th>0</th>\n",
       "      <td>83732</td>\n",
       "      <td>1.0</td>\n",
       "      <td>NaN</td>\n",
       "      <td>1.0</td>\n",
       "      <td>1</td>\n",
       "      <td>1</td>\n",
       "      <td>62</td>\n",
       "      <td>3</td>\n",
       "      <td>1.0</td>\n",
       "      <td>5.0</td>\n",
       "      <td>...</td>\n",
       "      <td>124.0</td>\n",
       "      <td>64.0</td>\n",
       "      <td>94.8</td>\n",
       "      <td>184.5</td>\n",
       "      <td>27.8</td>\n",
       "      <td>43.3</td>\n",
       "      <td>43.6</td>\n",
       "      <td>35.9</td>\n",
       "      <td>101.1</td>\n",
       "      <td>2.0</td>\n",
       "    </tr>\n",
       "    <tr>\n",
       "      <th>1</th>\n",
       "      <td>83733</td>\n",
       "      <td>1.0</td>\n",
       "      <td>NaN</td>\n",
       "      <td>6.0</td>\n",
       "      <td>1</td>\n",
       "      <td>1</td>\n",
       "      <td>53</td>\n",
       "      <td>3</td>\n",
       "      <td>2.0</td>\n",
       "      <td>3.0</td>\n",
       "      <td>...</td>\n",
       "      <td>140.0</td>\n",
       "      <td>88.0</td>\n",
       "      <td>90.4</td>\n",
       "      <td>171.4</td>\n",
       "      <td>30.8</td>\n",
       "      <td>38.0</td>\n",
       "      <td>40.0</td>\n",
       "      <td>33.2</td>\n",
       "      <td>107.9</td>\n",
       "      <td>NaN</td>\n",
       "    </tr>\n",
       "    <tr>\n",
       "      <th>2</th>\n",
       "      <td>83734</td>\n",
       "      <td>1.0</td>\n",
       "      <td>NaN</td>\n",
       "      <td>NaN</td>\n",
       "      <td>1</td>\n",
       "      <td>1</td>\n",
       "      <td>78</td>\n",
       "      <td>3</td>\n",
       "      <td>1.0</td>\n",
       "      <td>3.0</td>\n",
       "      <td>...</td>\n",
       "      <td>132.0</td>\n",
       "      <td>44.0</td>\n",
       "      <td>83.4</td>\n",
       "      <td>170.1</td>\n",
       "      <td>28.8</td>\n",
       "      <td>35.6</td>\n",
       "      <td>37.0</td>\n",
       "      <td>31.0</td>\n",
       "      <td>116.5</td>\n",
       "      <td>2.0</td>\n",
       "    </tr>\n",
       "    <tr>\n",
       "      <th>3</th>\n",
       "      <td>83735</td>\n",
       "      <td>2.0</td>\n",
       "      <td>1.0</td>\n",
       "      <td>1.0</td>\n",
       "      <td>2</td>\n",
       "      <td>2</td>\n",
       "      <td>56</td>\n",
       "      <td>3</td>\n",
       "      <td>1.0</td>\n",
       "      <td>5.0</td>\n",
       "      <td>...</td>\n",
       "      <td>134.0</td>\n",
       "      <td>68.0</td>\n",
       "      <td>109.8</td>\n",
       "      <td>160.9</td>\n",
       "      <td>42.4</td>\n",
       "      <td>38.5</td>\n",
       "      <td>37.7</td>\n",
       "      <td>38.3</td>\n",
       "      <td>110.1</td>\n",
       "      <td>2.0</td>\n",
       "    </tr>\n",
       "    <tr>\n",
       "      <th>4</th>\n",
       "      <td>83736</td>\n",
       "      <td>2.0</td>\n",
       "      <td>1.0</td>\n",
       "      <td>1.0</td>\n",
       "      <td>2</td>\n",
       "      <td>2</td>\n",
       "      <td>42</td>\n",
       "      <td>4</td>\n",
       "      <td>1.0</td>\n",
       "      <td>4.0</td>\n",
       "      <td>...</td>\n",
       "      <td>114.0</td>\n",
       "      <td>54.0</td>\n",
       "      <td>55.2</td>\n",
       "      <td>164.9</td>\n",
       "      <td>20.3</td>\n",
       "      <td>37.4</td>\n",
       "      <td>36.0</td>\n",
       "      <td>27.2</td>\n",
       "      <td>80.4</td>\n",
       "      <td>2.0</td>\n",
       "    </tr>\n",
       "  </tbody>\n",
       "</table>\n",
       "<p>5 rows × 28 columns</p>\n",
       "</div>"
      ],
      "text/plain": [
       "    SEQN  ALQ101  ALQ110  ALQ130  SMQ020  RIAGENDR  RIDAGEYR  RIDRETH1  \\\n",
       "0  83732     1.0     NaN     1.0       1         1        62         3   \n",
       "1  83733     1.0     NaN     6.0       1         1        53         3   \n",
       "2  83734     1.0     NaN     NaN       1         1        78         3   \n",
       "3  83735     2.0     1.0     1.0       2         2        56         3   \n",
       "4  83736     2.0     1.0     1.0       2         2        42         4   \n",
       "\n",
       "   DMDCITZN  DMDEDUC2  ...  BPXSY2  BPXDI2  BMXWT  BMXHT  BMXBMI  BMXLEG  \\\n",
       "0       1.0       5.0  ...   124.0    64.0   94.8  184.5    27.8    43.3   \n",
       "1       2.0       3.0  ...   140.0    88.0   90.4  171.4    30.8    38.0   \n",
       "2       1.0       3.0  ...   132.0    44.0   83.4  170.1    28.8    35.6   \n",
       "3       1.0       5.0  ...   134.0    68.0  109.8  160.9    42.4    38.5   \n",
       "4       1.0       4.0  ...   114.0    54.0   55.2  164.9    20.3    37.4   \n",
       "\n",
       "   BMXARML  BMXARMC  BMXWAIST  HIQ210  \n",
       "0     43.6     35.9     101.1     2.0  \n",
       "1     40.0     33.2     107.9     NaN  \n",
       "2     37.0     31.0     116.5     2.0  \n",
       "3     37.7     38.3     110.1     2.0  \n",
       "4     36.0     27.2      80.4     2.0  \n",
       "\n",
       "[5 rows x 28 columns]"
      ]
     },
     "execution_count": 2,
     "metadata": {},
     "output_type": "execute_result"
    }
   ],
   "source": [
    "da = pd.read_csv(\"nhanes_2015_2016.csv\")\n",
    "\n",
    "da.head()"
   ]
  },
  {
   "cell_type": "code",
   "execution_count": 3,
   "metadata": {},
   "outputs": [],
   "source": [
    "da[\"SMQ020x\"] = da.SMQ020.replace({1: \"Yes\", 2: \"No\", 7: np.nan, 9: np.nan})  # np.nan represents a missing value\n",
    "da[\"RIAGENDRx\"] = da.RIAGENDR.replace({1: \"Male\", 2: \"Female\"})\n",
    "da[\"DMDCITZNx\"] = da.DMDCITZN.replace({1: \"Yes\", 2: \"No\", 7: np.nan, 9: np.nan})"
   ]
  },
  {
   "cell_type": "markdown",
   "metadata": {},
   "source": [
    "### Hypothesis tests for one proportions\n",
    "\n",
    "The most basic hypothesis test may be the one-sample test for a proportion.  This test is used if we have specified a particular value as the null value for the proportion, and we wish to assess if the data are compatible with the true parameter value being equal to this specified value.  One-sample tests are not used very often in practice, because it is not very common that we have a specific fixed value to use for comparison. \n",
    "\n",
    "For illustration, imagine that the rate of lifetime smoking in another country was known to be 40%, and we wished to assess whether the rate of lifetime smoking in the US were different from 40%.  In the following notebook cell, we carry out the (two-sided) one-sample test that the `population proportion of smokers is 0.4`, and obtain a `p-value of 0.43`.  This indicates that the NHANES data are compatible with the proportion of (ever) smokers in the US being 40%. "
   ]
  },
  {
   "cell_type": "code",
   "execution_count": 4,
   "metadata": {},
   "outputs": [
    {
     "name": "stdout",
     "output_type": "stream",
     "text": [
      "0.7823563854332805 0.4340051581348052\n"
     ]
    }
   ],
   "source": [
    "x = da.SMQ020x.dropna() == \"Yes\"\n",
    "p = x.mean()\n",
    "se = np.sqrt(0.4 * 0.6 / len(x))\n",
    "test_stat = (p - 0.4) / se\n",
    "pvalue = 2*dist.norm.cdf(-np.abs(test_stat))\n",
    "print(test_stat, pvalue)"
   ]
  },
  {
   "cell_type": "markdown",
   "metadata": {},
   "source": [
    "The following cell carries out the same test as performed above using the Statsmodels library.  The results in the first (default) case below are slightly different from the results obtained above because Statsmodels by default uses the sample proportion instead of the null proportion when computing the standard error.  This distinction is rarely consequential, but we can specify that the null proportion should be used to calculate the standard error, and the results agree exactly with what we calculated above.  The first two lines below carry out tests using the normal approximation to the sampling distribution of the test statistic, and the third line below carries uses the exact binomial sampling distribution.  We can see here that the p-values are nearly identical in all three cases. This is expected when the sample size is large, and the proportion is not close to either 0 or 1."
   ]
  },
  {
   "cell_type": "code",
   "execution_count": 5,
   "metadata": {},
   "outputs": [
    {
     "name": "stdout",
     "output_type": "stream",
     "text": [
      "(0.7807518954896244, 0.43494843171868214)\n",
      "(0.7823563854332805, 0.4340051581348052)\n",
      "0.4340360854410036\n"
     ]
    },
    {
     "name": "stderr",
     "output_type": "stream",
     "text": [
      "C:\\Users\\Md. Anas Mondol\\Data Science\\lib\\site-packages\\scipy\\stats\\_discrete_distns.py:78: RuntimeWarning: divide by zero encountered in _binom_pdf\n",
      "  return _boost._binom_pdf(x, n, p)\n"
     ]
    }
   ],
   "source": [
    "# Prints test statistic, p-value\n",
    "print(sm.stats.proportions_ztest(x.sum(), len(x), 0.4)) # Normal approximation with estimated proportion in SE\n",
    "print(sm.stats.proportions_ztest(x.sum(), len(x), 0.4, prop_var=0.4)) # Normal approximation with null proportion in SE\n",
    "\n",
    "# Prints the p-value\n",
    "print(sm.stats.binom_test(x.sum(), len(x), 0.4)) # Exact binomial p-value"
   ]
  },
  {
   "cell_type": "markdown",
   "metadata": {},
   "source": [
    "### Hypothesis tests for two proportions\n",
    "\n",
    "Comparative tests tend to be used much more frequently than tests comparing one population to a fixed value.  A two-sample test of proportions is used to assess whether the proportion of individuals with some trait differs between two sub-populations.  For example, we can compare the smoking rates between females and males. Since smoking rates vary strongly with age, we do this in the subpopulation of people between 20 and 25 years of age.  In the cell below, we carry out this test without using any libraries, implementing all the test procedures covered elsewhere in the course using Python code.  We find that the smoking rate for men is around 10 percentage points greater than the smoking rate for females, and this difference is statistically significant (the p-value is around 0.01)."
   ]
  },
  {
   "cell_type": "code",
   "execution_count": 6,
   "metadata": {},
   "outputs": [
    {
     "name": "stdout",
     "output_type": "stream",
     "text": [
      "              Smoke    N\n",
      "RIAGENDRx               \n",
      "Female     0.238971  272\n",
      "Male       0.341270  252\n",
      "-2.5833303066279414 0.009785159057508375\n"
     ]
    }
   ],
   "source": [
    "dx = da[[\"SMQ020x\", \"RIDAGEYR\", \"RIAGENDRx\"]].dropna()  # Drop missing values\n",
    "dx = dx.loc[(dx.RIDAGEYR >= 20) & (dx.RIDAGEYR <= 25), :] # Restrict to people between 20 and 25 years old\n",
    "\n",
    "# Summarize the data by caclculating the proportion of yes responses and the sample size\n",
    "p = dx.groupby(\"RIAGENDRx\")[\"SMQ020x\"].agg([lambda z: np.mean(z==\"Yes\"), \"size\"])\n",
    "p.columns = [\"Smoke\", \"N\"]\n",
    "print(p)\n",
    "\n",
    "# The pooled rate of yes responses, and the standard error of the estimated difference of proportions\n",
    "p_comb = (dx.SMQ020x == \"Yes\").mean()\n",
    "va = p_comb * (1 - p_comb)\n",
    "se = np.sqrt(va * (1 / p.N.Female + 1 / p.N.Male))\n",
    "\n",
    "# Calculate the test statistic and its p-value\n",
    "test_stat = (p.Smoke.Female - p.Smoke.Male) / se\n",
    "pvalue = 2*dist.norm.cdf(-np.abs(test_stat))\n",
    "print(test_stat, pvalue)"
   ]
  },
  {
   "cell_type": "markdown",
   "metadata": {},
   "source": [
    "Essentially the same test as above can be conducted by converting the \"Yes\"/\"No\" responses to numbers (Yes=1, No=0) and conducting a two-sample t-test, as below:"
   ]
  },
  {
   "cell_type": "code",
   "execution_count": 7,
   "metadata": {},
   "outputs": [
    {
     "data": {
      "text/plain": [
       "(-2.5949731446269344, 0.00972590232121254, 522.0)"
      ]
     },
     "execution_count": 7,
     "metadata": {},
     "output_type": "execute_result"
    }
   ],
   "source": [
    "dx_females = dx.loc[dx.RIAGENDRx==\"Female\", \"SMQ020x\"].replace({\"Yes\": 1, \"No\": 0})\n",
    "dx_males = dx.loc[dx.RIAGENDRx==\"Male\", \"SMQ020x\"].replace({\"Yes\": 1, \"No\": 0})\n",
    "sm.stats.ttest_ind(dx_females, dx_males) # prints test statistic, p-value, degrees of freedom"
   ]
  },
  {
   "cell_type": "markdown",
   "metadata": {},
   "source": [
    "### Hypothesis tests comparing means\n",
    "\n",
    "Tests of means are similar in many ways to tests of proportions.  Just as with proportions, for comparing means there are one and two-sample tests, z-tests and t-tests, and one-sided and two-sided tests.  As with tests of proportions, one-sample tests of means are not very common, but we illustrate a one sample test in the cell below.  We compare systolic blood pressure to the fixed value 120 (which is the lower threshold for \"pre-hypertension\"), and find that the mean is significantly different from 120 (the point estimate of the mean is 126)."
   ]
  },
  {
   "cell_type": "code",
   "execution_count": 8,
   "metadata": {},
   "outputs": [
    {
     "name": "stdout",
     "output_type": "stream",
     "text": [
      "125.86698337292161\n"
     ]
    },
    {
     "data": {
      "text/plain": [
       "(7.469764137102597, 8.033869113167905e-14)"
      ]
     },
     "execution_count": 8,
     "metadata": {},
     "output_type": "execute_result"
    }
   ],
   "source": [
    "dx = da[[\"BPXSY1\", \"RIDAGEYR\", \"RIAGENDRx\"]].dropna()\n",
    "dx = dx.loc[(dx.RIDAGEYR >= 40) & (dx.RIDAGEYR <= 50) & (dx.RIAGENDRx == \"Male\"), :]\n",
    "print(dx.BPXSY1.mean()) # prints mean blood pressure\n",
    "sm.stats.ztest(dx.BPXSY1, value=120)  # prints test statistic, p-value"
   ]
  },
  {
   "cell_type": "markdown",
   "metadata": {},
   "source": [
    "In the cell below, we carry out a formal test of the null hypothesis that the mean blood pressure for women between the ages of 50 and 60 is equal to the mean blood pressure of men between the ages of 50 and 60.  The results indicate that while the mean systolic blood pressure for men is slightly greater than that for women (129 mm/Hg versus 128 mm/Hg), this difference is not statistically significant. \n",
    "\n",
    "There are a number of different variants on the two-sample t-test. Two often-encountered variants are the t-test carried out using the t-distribution, and the t-test carried out using the normal approximation to the reference distribution of the test statistic, often called a z-test.  Below we display results from both these testing approaches.  When the sample size is large, the difference between the t-test and z-test is very small.  "
   ]
  },
  {
   "cell_type": "code",
   "execution_count": 9,
   "metadata": {},
   "outputs": [
    {
     "name": "stdout",
     "output_type": "stream",
     "text": [
      "127.92561983471074 129.23829787234044\n",
      "(-1.105435895556249, 0.2689707570859362)\n",
      "(-1.105435895556249, 0.26925004137768577, 952.0)\n"
     ]
    }
   ],
   "source": [
    "dx = da[[\"BPXSY1\", \"RIDAGEYR\", \"RIAGENDRx\"]].dropna()\n",
    "dx = dx.loc[(dx.RIDAGEYR >= 50) & (dx.RIDAGEYR <= 60), :]\n",
    "bpx_female = dx.loc[dx.RIAGENDRx==\"Female\", \"BPXSY1\"]\n",
    "bpx_male = dx.loc[dx.RIAGENDRx==\"Male\", \"BPXSY1\"]\n",
    "print(bpx_female.mean(), bpx_male.mean()) # prints female mean, male mean\n",
    "print(sm.stats.ztest(bpx_female, bpx_male)) # prints test statistic, p-value\n",
    "print(sm.stats.ttest_ind(bpx_female, bpx_male)) # prints test statistic, p-value, degrees of freedom"
   ]
  },
  {
   "cell_type": "markdown",
   "metadata": {},
   "source": [
    "Another important aspect of two-sample mean testing is \"heteroscedasticity\", meaning that the variances within the two groups being compared may be different.  While the goal of the test is to compare the means, the variances play an important role in calibrating the statistics (deciding how big the mean difference needs to be to be declared statistically significant).  In the NHANES data, we see that there are moderate differences between the amount of variation in BMI for females and for males, looking within 10-year age bands.  In every age band, females having greater variation than males."
   ]
  },
  {
   "cell_type": "code",
   "execution_count": 10,
   "metadata": {},
   "outputs": [
    {
     "data": {
      "text/html": [
       "<div>\n",
       "<style scoped>\n",
       "    .dataframe tbody tr th:only-of-type {\n",
       "        vertical-align: middle;\n",
       "    }\n",
       "\n",
       "    .dataframe tbody tr th {\n",
       "        vertical-align: top;\n",
       "    }\n",
       "\n",
       "    .dataframe thead th {\n",
       "        text-align: right;\n",
       "    }\n",
       "</style>\n",
       "<table border=\"1\" class=\"dataframe\">\n",
       "  <thead>\n",
       "    <tr style=\"text-align: right;\">\n",
       "      <th>RIAGENDRx</th>\n",
       "      <th>Female</th>\n",
       "      <th>Male</th>\n",
       "    </tr>\n",
       "    <tr>\n",
       "      <th>agegrp</th>\n",
       "      <th></th>\n",
       "      <th></th>\n",
       "    </tr>\n",
       "  </thead>\n",
       "  <tbody>\n",
       "    <tr>\n",
       "      <th>(18, 30]</th>\n",
       "      <td>7.745893</td>\n",
       "      <td>6.649440</td>\n",
       "    </tr>\n",
       "    <tr>\n",
       "      <th>(30, 40]</th>\n",
       "      <td>8.315608</td>\n",
       "      <td>6.622412</td>\n",
       "    </tr>\n",
       "    <tr>\n",
       "      <th>(40, 50]</th>\n",
       "      <td>8.076195</td>\n",
       "      <td>6.407076</td>\n",
       "    </tr>\n",
       "    <tr>\n",
       "      <th>(50, 60]</th>\n",
       "      <td>7.575848</td>\n",
       "      <td>5.914373</td>\n",
       "    </tr>\n",
       "    <tr>\n",
       "      <th>(60, 70]</th>\n",
       "      <td>7.604514</td>\n",
       "      <td>5.933307</td>\n",
       "    </tr>\n",
       "    <tr>\n",
       "      <th>(70, 80]</th>\n",
       "      <td>6.284968</td>\n",
       "      <td>4.974855</td>\n",
       "    </tr>\n",
       "  </tbody>\n",
       "</table>\n",
       "</div>"
      ],
      "text/plain": [
       "RIAGENDRx    Female      Male\n",
       "agegrp                       \n",
       "(18, 30]   7.745893  6.649440\n",
       "(30, 40]   8.315608  6.622412\n",
       "(40, 50]   8.076195  6.407076\n",
       "(50, 60]   7.575848  5.914373\n",
       "(60, 70]   7.604514  5.933307\n",
       "(70, 80]   6.284968  4.974855"
      ]
     },
     "execution_count": 10,
     "metadata": {},
     "output_type": "execute_result"
    }
   ],
   "source": [
    "dx = da[[\"BMXBMI\", \"RIDAGEYR\", \"RIAGENDRx\"]].dropna()\n",
    "da[\"agegrp\"] = pd.cut(da.RIDAGEYR, [18, 30, 40, 50, 60, 70, 80])\n",
    "da.groupby([\"agegrp\", \"RIAGENDRx\"])[\"BMXBMI\"].agg(np.std).unstack()"
   ]
  },
  {
   "cell_type": "markdown",
   "metadata": {},
   "source": [
    "The standard error of the mean difference (e.g. mean female blood pressure minus mean male blood pressure) can be estimated in at least two different ways.  In the statsmodels library, these approaches are referred to as the \"pooled\" and the \"unequal\" approach to estimating the variance.  If the variances are equal (i.e. there is no heteroscedasticity), then there should be little difference between the two approaches.  Even in the presence of moderate heteroscedasticity, as we have here, we can see that the results for the two methods are quite similar.  Below we have a loop that considers each 10-year age band and assesses the evidence for a difference in mean BMI for women and for men.  The results printed in each row of output are the test-statistic and p-value."
   ]
  },
  {
   "cell_type": "code",
   "execution_count": 11,
   "metadata": {},
   "outputs": [
    {
     "name": "stdout",
     "output_type": "stream",
     "text": [
      "(18, 30]\n",
      "pooled:  (1.7026932933643306, 0.08862548061449803)\n",
      "unequal: (1.7174610823927183, 0.08589495934713169)\n",
      "\n",
      "(30, 40]\n",
      "pooled:  (1.4378280405644919, 0.15048285114648174)\n",
      "unequal: (1.4437869620833497, 0.1487989105789246)\n",
      "\n",
      "(40, 50]\n",
      "pooled:  (2.8933761158070186, 0.003811246059501354)\n",
      "unequal: (2.9678691663536725, 0.0029987194174035366)\n",
      "\n",
      "(50, 60]\n",
      "pooled:  (3.362108779981383, 0.0007734964571391287)\n",
      "unequal: (3.3754943901739387, 0.0007368319423226156)\n",
      "\n",
      "(60, 70]\n",
      "pooled:  (3.617240144243268, 0.00029776102103194453)\n",
      "unequal: (3.628483094544553, 0.00028509141471492935)\n",
      "\n",
      "(70, 80]\n",
      "pooled:  (2.926729252512241, 0.003425469414486057)\n",
      "unequal: (2.9377798867692064, 0.0033057163315194853)\n",
      "\n"
     ]
    }
   ],
   "source": [
    "for k, v in da.groupby(\"agegrp\"):\n",
    "    bmi_female = v.loc[v.RIAGENDRx==\"Female\", \"BMXBMI\"].dropna()\n",
    "    bmi_female = sm.stats.DescrStatsW(bmi_female)\n",
    "    bmi_male = v.loc[v.RIAGENDRx==\"Male\", \"BMXBMI\"].dropna()\n",
    "    bmi_male = sm.stats.DescrStatsW(bmi_male)\n",
    "    print(k)\n",
    "    print(\"pooled: \", sm.stats.CompareMeans(bmi_female, bmi_male).ztest_ind(usevar='pooled'))\n",
    "    print(\"unequal:\", sm.stats.CompareMeans(bmi_female, bmi_male).ztest_ind(usevar='unequal'))\n",
    "    print()"
   ]
  },
  {
   "cell_type": "markdown",
   "metadata": {},
   "source": [
    "### Paired tests\n",
    "\n",
    "A common situation in applied research is to measure the same quantity multiple times on each unit of analysis.  For example, in NHANES, systolic blood pressure is measured at least two times (sometimes there is a third measurement) on each subject.  Although the measurements are repeated, there is no guarantee that the mean is the same each time, i.e. the mean blood pressure may be slightly lower on the second measurement compared to the first, since people are a bit more nervous the first time they are measured.  A paired test is a modified form of mean test that can be used when we are comparing two repeated measurements on the same unit.\n",
    "\n",
    "A paired t-test for means is equivalent to taking the difference between the first and second measurement, and using a one-sample test to compare the mean of these differences to zero. Below we see that in the entire NHANES sample, the first measurement of systolic blood pressure is on average 0.67 mm/Hg greater than the second measurement.  While this difference is not large, it is strongly statistically significant.  That is, there is strong evidence that the mean values for the first and second blood pressure measurement differ."
   ]
  },
  {
   "cell_type": "code",
   "execution_count": 12,
   "metadata": {},
   "outputs": [
    {
     "name": "stdout",
     "output_type": "stream",
     "text": [
      "0.6749860309182343\n"
     ]
    },
    {
     "data": {
      "text/plain": [
       "(9.800634425497911, 1.1188070930963587e-22)"
      ]
     },
     "execution_count": 12,
     "metadata": {},
     "output_type": "execute_result"
    }
   ],
   "source": [
    "dx = da[[\"BPXSY1\", \"BPXSY2\"]].dropna()\n",
    "db = dx.BPXSY1 - dx.BPXSY2\n",
    "print(db.mean())\n",
    "sm.stats.ztest(db)"
   ]
  },
  {
   "cell_type": "markdown",
   "metadata": {},
   "source": [
    "To probe this effect further, we can divide the population into 10 year wide age bands and also stratify by gender, then carry out the paired t-test within each of the resulting 12 strata.  We see that the second systolic blood pressure measurement is always lower on average than the first.  The difference is larger for older people and for males.  The difference is statistically significant for females over 30, and for males over 60.   \n",
    "\n",
    "Conducting many hypothesis tests and \"cherry picking\" the interesting results is usually a bad practice.  Here we are doing such \"multiple testing\" for illustration, and acknowledge that the strongest differences may be over-stated.  Nevertheless, there is a clear and consistent trend with age -- older people tend to have greater differences between their first and second blood pressure measurements than younger people.  There is also a difference between the genders, with older men having a stronger difference between the first and second blood pressure measurements than older women.  The gender difference for younger peple is less clear."
   ]
  },
  {
   "cell_type": "code",
   "execution_count": 13,
   "metadata": {},
   "outputs": [
    {
     "name": "stdout",
     "output_type": "stream",
     "text": [
      "('Female', Interval(18, 30, closed='right')) 0.13708260105448156 569 (0.7612107360791227, 0.4465312067051751)\n",
      "('Female', Interval(30, 40, closed='right')) 0.6713615023474179 426 (3.307398751951031, 0.0009416674523368051)\n",
      "('Female', Interval(40, 50, closed='right')) 0.5970149253731343 469 (2.6040611621024654, 0.009212631487347644)\n",
      "('Female', Interval(50, 60, closed='right')) 0.7685393258426966 445 (3.1023718750881724, 0.001919766301204196)\n",
      "('Female', Interval(60, 70, closed='right')) 0.8787878787878788 396 (3.1024528501809625, 0.0019192411825181255)\n",
      "('Female', Interval(70, 80, closed='right')) 1.4512820512820512 390 (5.141706875154317, 2.722536503552981e-07)\n",
      "('Male', Interval(18, 30, closed='right')) 0.00390625 512 (0.01959622841647691, 0.9843654725443948)\n",
      "('Male', Interval(30, 40, closed='right')) 0.46296296296296297 432 (1.9451535788714596, 0.05175649697939119)\n",
      "('Male', Interval(40, 50, closed='right')) 0.17894736842105263 380 (0.7201800810138878, 0.47141412641258706)\n",
      "('Male', Interval(50, 60, closed='right')) 0.3691588785046729 428 (1.4391115097646396, 0.1501189315054144)\n",
      "('Male', Interval(60, 70, closed='right')) 1.2736077481840193 413 (4.781940964515296, 1.7361067031915549e-06)\n",
      "('Male', Interval(70, 80, closed='right')) 2.031413612565445 382 (6.8013414549535005, 1.036494265013724e-11)\n"
     ]
    }
   ],
   "source": [
    "dx = da[[\"RIAGENDRx\", \"BPXSY1\", \"BPXSY2\", \"RIDAGEYR\"]].dropna()\n",
    "dx[\"agegrp\"] = pd.cut(dx.RIDAGEYR, [18, 30, 40, 50, 60, 70, 80])\n",
    "for k, g in dx.groupby([\"RIAGENDRx\", \"agegrp\"]):\n",
    "    db = g.BPXSY1 - g.BPXSY2\n",
    "    # print stratum definition, mean difference, sample size, test statistic, p-value\n",
    "    print(k, db.mean(), db.size, sm.stats.ztest(db.values, value=0))"
   ]
  },
  {
   "cell_type": "markdown",
   "metadata": {},
   "source": [
    "## Power and sample size for hypothesis tests\n",
    "\n",
    "Like nearly any analysis with data, hypothesis tests will yield more sensitive and confident results when there are larger amounts of data.  Here we will study the relationship between the sample size (amount of data), and the behavior of a hypothesis test.  For illustration, we will use the paired t-test for assessing whether the first and second systolic blood pressure measurement have different means, restricting to people between 50 and 60 years of age.\n",
    "\n",
    "`The simulation below randomly subsamples sets of 100, 200, 400, and 800 people from the 50-60 year old subset of NHANES, and conducts a paired z-test on each subsample.  This process is repeated 500 times for each sample size. We report the fraction of these 500 trials where the p-value was smaller than 0.05.  A higher fraction of trials where p<0.05 implies that it is easier to detect a difference between the first and second blood pressure measurements.`  We see that this proportion (called \"statistical power\") is only around 0.2 when the sample size is 100, and grows to essentially 100% when the sample size is 800.  Note that all of these subsamples are drawn from the same parent population, so there is no change from subsample to subsample in terms of whether the means are truly different.  The only thing that changes is our evidence that the difference is real.  When the sample size is small, we rarely amass such evidence."
   ]
  },
  {
   "cell_type": "code",
   "execution_count": 14,
   "metadata": {},
   "outputs": [
    {
     "name": "stdout",
     "output_type": "stream",
     "text": [
      "0.21\n",
      "0.35\n",
      "0.698\n",
      "1.0\n"
     ]
    }
   ],
   "source": [
    "all_p = []\n",
    "dy = dx.loc[(dx.RIDAGEYR >= 50) & (dx.RIDAGEYR <= 60), :]\n",
    "for n in 100, 200, 400, 800:\n",
    "    pv = []\n",
    "    for i in range(500):\n",
    "        dz = dy.sample(n)\n",
    "        db = dz.BPXSY1 - dz.BPXSY2\n",
    "        _, p = sm.stats.ztest(db.values, value=0)\n",
    "        pv.append(p)\n",
    "    pv = np.asarray(pv)\n",
    "    all_p.append(pv)\n",
    "    print((pv <= 0.05).mean())"
   ]
  },
  {
   "cell_type": "markdown",
   "metadata": {},
   "source": [
    "In the simulation code above, we saved all the p-values to the array named `all_p` so we can consider them further here.  The histogram below shows the distribution of p-values for 500 subsamples of data of size 100.  We see that there are more smaller p-values than larger ones, but not to a dramatic degree.  `Some of the p-values are almost 1, indicating that the subsample mean differences were almost zero in those cases.`"
   ]
  },
  {
   "cell_type": "code",
   "execution_count": 15,
   "metadata": {},
   "outputs": [
    {
     "name": "stderr",
     "output_type": "stream",
     "text": [
      "C:\\Users\\Md. Anas Mondol\\Data Science\\lib\\site-packages\\seaborn\\distributions.py:2619: FutureWarning: `distplot` is a deprecated function and will be removed in a future version. Please adapt your code to use either `displot` (a figure-level function with similar flexibility) or `histplot` (an axes-level function for histograms).\n",
      "  warnings.warn(msg, FutureWarning)\n"
     ]
    },
    {
     "data": {
      "text/plain": [
       "<AxesSubplot:ylabel='Density'>"
      ]
     },
     "execution_count": 15,
     "metadata": {},
     "output_type": "execute_result"
    },
    {
     "data": {
      "image/png": "[encoded data removed]",
      "text/plain": [
       "<Figure size 640x480 with 1 Axes>"
      ]
     },
     "metadata": {},
     "output_type": "display_data"
    }
   ],
   "source": [
    "sns.distplot(all_p[0])"
   ]
  },
  {
   "cell_type": "markdown",
   "metadata": {},
   "source": [
    "Next we inspect the distribution of p-values for subsamples of size 400.  We see that the p-values are much more concentrated close to zero compared to when we had only 100 data points. `If we obtain a sample of size 400 from this population, we have around a 70% chance of obtaining a p-value smaller than 0.05, and are very unlikely to obtain a p-value greater than 0.4.`"
   ]
  },
  {
   "cell_type": "code",
   "execution_count": 16,
   "metadata": {},
   "outputs": [
    {
     "name": "stderr",
     "output_type": "stream",
     "text": [
      "C:\\Users\\Md. Anas Mondol\\Data Science\\lib\\site-packages\\seaborn\\distributions.py:2619: FutureWarning: `distplot` is a deprecated function and will be removed in a future version. Please adapt your code to use either `displot` (a figure-level function with similar flexibility) or `histplot` (an axes-level function for histograms).\n",
      "  warnings.warn(msg, FutureWarning)\n"
     ]
    },
    {
     "data": {
      "text/plain": [
       "<AxesSubplot:ylabel='Density'>"
      ]
     },
     "execution_count": 16,
     "metadata": {},
     "output_type": "execute_result"
    },
    {
     "data": {
      "image/png": "[encoded data removed]",
      "text/plain": [
       "<Figure size 640x480 with 1 Axes>"
      ]
     },
     "metadata": {},
     "output_type": "display_data"
    }
   ],
   "source": [
    "sns.distplot(all_p[2])"
   ]
  },
  {
   "cell_type": "code",
   "execution_count": null,
   "metadata": {},
   "outputs": [],
   "source": []
  }
 ],
 "metadata": {
  "kernelspec": {
   "display_name": "Python 3 (ipykernel)",
   "language": "python",
   "name": "python3"
  },
  "language_info": {
   "codemirror_mode": {
    "name": "ipython",
    "version": 3
   },
   "file_extension": ".py",
   "mimetype": "text/x-python",
   "name": "python",
   "nbconvert_exporter": "python",
   "pygments_lexer": "ipython3",
   "version": "3.9.13"
  }
 },
 "nbformat": 4,
 "nbformat_minor": 4
}
