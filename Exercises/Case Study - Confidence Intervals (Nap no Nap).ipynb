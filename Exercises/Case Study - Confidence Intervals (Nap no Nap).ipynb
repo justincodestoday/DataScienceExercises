{
 "cells": [
  {
   "cell_type": "markdown",
   "metadata": {},
   "source": [
    "<img src=\"https://i.imgur.com/FoKB5Z5.png\" align=\"left\" width=\"300\" height=\"250\" title=\"source: imgur.com\" /></a>"
   ]
  },
  {
   "cell_type": "markdown",
   "metadata": {},
   "source": [
    "## Program Code: J620-002-4:2020 \n",
    "\n",
    "## Program Name: FRONT-END SOFTWARE DEVELOPMENT\n",
    "\n",
    "## Title :  Case Study - Confidence Intervals (Nap no Nap)\n",
    "\n",
    "#### Name: \n",
    "\n",
    "#### IC Number:\n",
    "\n",
    "#### Date : 11/7/2023\n",
    "\n",
    "#### Introduction : \n",
    "\n",
    "\n",
    "\n",
    "#### Conclusion :\n",
    "\n",
    "\n",
    "\n",
    "\n"
   ]
  },
  {
   "cell_type": "markdown",
   "metadata": {},
   "source": [
    "# Case Study - Confidence Intervals (Nap no Nap)\n",
    "\n",
    "In this assessment, you will look at data from a study on toddler sleep habits.\n",
    "The confidence intervals you create and the questions you answer in this Jupyter notebook will be used to answer questions in the cell below."
   ]
  },
  {
   "cell_type": "code",
   "execution_count": 4,
   "metadata": {},
   "outputs": [],
   "source": [
    "import numpy as np\n",
    "import pandas as pd\n",
    "from scipy.stats import t\n",
    "pd.set_option('display.max_columns', 30) # set so can see all columns of the DataFrame"
   ]
  },
  {
   "cell_type": "markdown",
   "metadata": {},
   "source": [
    "Your goal is to analyse data which is the result of a study that examined\n",
    "differences in a number of sleep variables between napping and non-napping toddlers. Some of these\n",
    "sleep variables included: Bedtime (lights-off time in decimalized time), Night Sleep Onset Time (in\n",
    "decimalized time), Wake Time (sleep end time in decimalized time), Night Sleep Duration (interval\n",
    "between sleep onset and sleep end in minutes), and Total 24-Hour Sleep Duration (in minutes). Note:\n",
    "[Decimalized time](https://en.wikipedia.org/wiki/Decimal_time) is the representation of the time of day using units which are decimally related.   \n",
    "\n",
    "\n",
    "The 20 study participants were healthy, normally developing toddlers with no sleep or behavioral\n",
    "problems. These children were categorized as napping or non-napping based upon parental report of\n",
    "children’s habitual sleep patterns. Researchers then verified napping status with data from actigraphy (a\n",
    "non-invasive method of monitoring human rest/activity cycles by wearing of a sensor on the wrist) and\n",
    "sleep diaries during the 5 days before the study assessments were made.\n",
    "\n",
    "\n",
    "You are specifically interested in the results for the Bedtime, Night Sleep Duration, and Total 24-\n",
    "Hour Sleep Duration. "
   ]
  },
  {
   "cell_type": "markdown",
   "metadata": {},
   "source": [
    "ref: Akacem LD, Simpkin CT, Carskadon MA, Wright KP Jr, Jenni OG, Achermann P, et al. (2015) The Timing of the Circadian Clock and Sleep Differ between Napping and Non-Napping Toddlers. PLoS ONE 10(4): e0125181. https://doi.org/10.1371/journal.pone.0125181"
   ]
  },
  {
   "cell_type": "code",
   "execution_count": 1,
   "metadata": {},
   "outputs": [],
   "source": [
    "import pandas as pd\n",
    "import numpy as np"
   ]
  },
  {
   "cell_type": "code",
   "execution_count": 2,
   "metadata": {},
   "outputs": [],
   "source": [
    "# Import the data\n",
    "df = pd.read_csv(\"../data_samples/nap_no_nap.csv\") "
   ]
  },
  {
   "cell_type": "code",
   "execution_count": 3,
   "metadata": {},
   "outputs": [
    {
     "data": {
      "text/html": [
       "<div>\n",
       "<style scoped>\n",
       "    .dataframe tbody tr th:only-of-type {\n",
       "        vertical-align: middle;\n",
       "    }\n",
       "\n",
       "    .dataframe tbody tr th {\n",
       "        vertical-align: top;\n",
       "    }\n",
       "\n",
       "    .dataframe thead th {\n",
       "        text-align: right;\n",
       "    }\n",
       "</style>\n",
       "<table border=\"1\" class=\"dataframe\">\n",
       "  <thead>\n",
       "    <tr style=\"text-align: right;\">\n",
       "      <th></th>\n",
       "      <th>id</th>\n",
       "      <th>sex</th>\n",
       "      <th>age (months)</th>\n",
       "      <th>dlmo time</th>\n",
       "      <th>days napped</th>\n",
       "      <th>napping</th>\n",
       "      <th>nap lights outl time</th>\n",
       "      <th>nap sleep onset</th>\n",
       "      <th>nap midsleep</th>\n",
       "      <th>nap sleep offset</th>\n",
       "      <th>...</th>\n",
       "      <th>sleep onset latency</th>\n",
       "      <th>night midsleep time</th>\n",
       "      <th>night wake time</th>\n",
       "      <th>night sleep duration</th>\n",
       "      <th>night time in bed</th>\n",
       "      <th>24 h sleep duration</th>\n",
       "      <th>bedtime phase difference</th>\n",
       "      <th>sleep onset phase difference</th>\n",
       "      <th>midsleep phase difference</th>\n",
       "      <th>wake time phase difference</th>\n",
       "    </tr>\n",
       "  </thead>\n",
       "  <tbody>\n",
       "    <tr>\n",
       "      <th>0</th>\n",
       "      <td>1</td>\n",
       "      <td>female</td>\n",
       "      <td>33.7</td>\n",
       "      <td>19.24</td>\n",
       "      <td>0</td>\n",
       "      <td>0</td>\n",
       "      <td>NaN</td>\n",
       "      <td>NaN</td>\n",
       "      <td>NaN</td>\n",
       "      <td>NaN</td>\n",
       "      <td>...</td>\n",
       "      <td>0.23</td>\n",
       "      <td>1.92</td>\n",
       "      <td>7.17</td>\n",
       "      <td>629.40</td>\n",
       "      <td>643.00</td>\n",
       "      <td>629.40</td>\n",
       "      <td>-1.21</td>\n",
       "      <td>-1.44</td>\n",
       "      <td>6.68</td>\n",
       "      <td>11.93</td>\n",
       "    </tr>\n",
       "    <tr>\n",
       "      <th>1</th>\n",
       "      <td>2</td>\n",
       "      <td>female</td>\n",
       "      <td>31.5</td>\n",
       "      <td>18.27</td>\n",
       "      <td>0</td>\n",
       "      <td>0</td>\n",
       "      <td>NaN</td>\n",
       "      <td>NaN</td>\n",
       "      <td>NaN</td>\n",
       "      <td>NaN</td>\n",
       "      <td>...</td>\n",
       "      <td>0.25</td>\n",
       "      <td>1.09</td>\n",
       "      <td>6.69</td>\n",
       "      <td>672.40</td>\n",
       "      <td>700.40</td>\n",
       "      <td>672.40</td>\n",
       "      <td>-0.96</td>\n",
       "      <td>-1.21</td>\n",
       "      <td>6.82</td>\n",
       "      <td>12.42</td>\n",
       "    </tr>\n",
       "    <tr>\n",
       "      <th>2</th>\n",
       "      <td>3</td>\n",
       "      <td>male</td>\n",
       "      <td>31.9</td>\n",
       "      <td>19.14</td>\n",
       "      <td>0</td>\n",
       "      <td>0</td>\n",
       "      <td>NaN</td>\n",
       "      <td>NaN</td>\n",
       "      <td>NaN</td>\n",
       "      <td>NaN</td>\n",
       "      <td>...</td>\n",
       "      <td>0.45</td>\n",
       "      <td>1.29</td>\n",
       "      <td>6.53</td>\n",
       "      <td>628.80</td>\n",
       "      <td>682.60</td>\n",
       "      <td>628.80</td>\n",
       "      <td>-0.46</td>\n",
       "      <td>-0.91</td>\n",
       "      <td>6.15</td>\n",
       "      <td>11.39</td>\n",
       "    </tr>\n",
       "    <tr>\n",
       "      <th>3</th>\n",
       "      <td>4</td>\n",
       "      <td>female</td>\n",
       "      <td>31.6</td>\n",
       "      <td>19.69</td>\n",
       "      <td>0</td>\n",
       "      <td>0</td>\n",
       "      <td>NaN</td>\n",
       "      <td>NaN</td>\n",
       "      <td>NaN</td>\n",
       "      <td>NaN</td>\n",
       "      <td>...</td>\n",
       "      <td>0.05</td>\n",
       "      <td>1.89</td>\n",
       "      <td>8.28</td>\n",
       "      <td>766.60</td>\n",
       "      <td>784.00</td>\n",
       "      <td>766.60</td>\n",
       "      <td>0.23</td>\n",
       "      <td>0.19</td>\n",
       "      <td>6.20</td>\n",
       "      <td>12.59</td>\n",
       "    </tr>\n",
       "    <tr>\n",
       "      <th>4</th>\n",
       "      <td>5</td>\n",
       "      <td>female</td>\n",
       "      <td>33.0</td>\n",
       "      <td>19.52</td>\n",
       "      <td>0</td>\n",
       "      <td>0</td>\n",
       "      <td>NaN</td>\n",
       "      <td>NaN</td>\n",
       "      <td>NaN</td>\n",
       "      <td>NaN</td>\n",
       "      <td>...</td>\n",
       "      <td>0.45</td>\n",
       "      <td>1.30</td>\n",
       "      <td>6.95</td>\n",
       "      <td>678.00</td>\n",
       "      <td>718.00</td>\n",
       "      <td>678.00</td>\n",
       "      <td>0.31</td>\n",
       "      <td>-0.13</td>\n",
       "      <td>5.78</td>\n",
       "      <td>11.43</td>\n",
       "    </tr>\n",
       "    <tr>\n",
       "      <th>5</th>\n",
       "      <td>6</td>\n",
       "      <td>female</td>\n",
       "      <td>36.2</td>\n",
       "      <td>18.22</td>\n",
       "      <td>4</td>\n",
       "      <td>1</td>\n",
       "      <td>14.00</td>\n",
       "      <td>14.22</td>\n",
       "      <td>15.00</td>\n",
       "      <td>15.78</td>\n",
       "      <td>...</td>\n",
       "      <td>0.29</td>\n",
       "      <td>1.26</td>\n",
       "      <td>6.28</td>\n",
       "      <td>602.20</td>\n",
       "      <td>653.80</td>\n",
       "      <td>695.95</td>\n",
       "      <td>-1.73</td>\n",
       "      <td>-2.03</td>\n",
       "      <td>7.05</td>\n",
       "      <td>12.06</td>\n",
       "    </tr>\n",
       "    <tr>\n",
       "      <th>6</th>\n",
       "      <td>7</td>\n",
       "      <td>male</td>\n",
       "      <td>36.3</td>\n",
       "      <td>19.28</td>\n",
       "      <td>1</td>\n",
       "      <td>1</td>\n",
       "      <td>14.75</td>\n",
       "      <td>15.03</td>\n",
       "      <td>15.92</td>\n",
       "      <td>16.80</td>\n",
       "      <td>...</td>\n",
       "      <td>0.36</td>\n",
       "      <td>2.12</td>\n",
       "      <td>7.27</td>\n",
       "      <td>618.40</td>\n",
       "      <td>655.40</td>\n",
       "      <td>724.40</td>\n",
       "      <td>-1.32</td>\n",
       "      <td>-1.68</td>\n",
       "      <td>6.84</td>\n",
       "      <td>11.99</td>\n",
       "    </tr>\n",
       "    <tr>\n",
       "      <th>7</th>\n",
       "      <td>8</td>\n",
       "      <td>male</td>\n",
       "      <td>30.0</td>\n",
       "      <td>21.06</td>\n",
       "      <td>5</td>\n",
       "      <td>1</td>\n",
       "      <td>13.09</td>\n",
       "      <td>13.43</td>\n",
       "      <td>14.44</td>\n",
       "      <td>15.46</td>\n",
       "      <td>...</td>\n",
       "      <td>0.51</td>\n",
       "      <td>2.92</td>\n",
       "      <td>7.31</td>\n",
       "      <td>526.80</td>\n",
       "      <td>582.40</td>\n",
       "      <td>648.40</td>\n",
       "      <td>-0.95</td>\n",
       "      <td>-1.47</td>\n",
       "      <td>5.86</td>\n",
       "      <td>10.25</td>\n",
       "    </tr>\n",
       "    <tr>\n",
       "      <th>8</th>\n",
       "      <td>9</td>\n",
       "      <td>male</td>\n",
       "      <td>33.2</td>\n",
       "      <td>19.38</td>\n",
       "      <td>2</td>\n",
       "      <td>1</td>\n",
       "      <td>14.41</td>\n",
       "      <td>14.42</td>\n",
       "      <td>15.71</td>\n",
       "      <td>17.01</td>\n",
       "      <td>...</td>\n",
       "      <td>0.13</td>\n",
       "      <td>1.60</td>\n",
       "      <td>6.82</td>\n",
       "      <td>626.80</td>\n",
       "      <td>660.33</td>\n",
       "      <td>782.30</td>\n",
       "      <td>-0.86</td>\n",
       "      <td>-0.99</td>\n",
       "      <td>6.22</td>\n",
       "      <td>11.44</td>\n",
       "    </tr>\n",
       "    <tr>\n",
       "      <th>9</th>\n",
       "      <td>10</td>\n",
       "      <td>female</td>\n",
       "      <td>37.1</td>\n",
       "      <td>19.93</td>\n",
       "      <td>3</td>\n",
       "      <td>1</td>\n",
       "      <td>13.12</td>\n",
       "      <td>13.42</td>\n",
       "      <td>14.31</td>\n",
       "      <td>15.19</td>\n",
       "      <td>...</td>\n",
       "      <td>0.84</td>\n",
       "      <td>2.20</td>\n",
       "      <td>6.52</td>\n",
       "      <td>549.50</td>\n",
       "      <td>626.00</td>\n",
       "      <td>656.17</td>\n",
       "      <td>-0.76</td>\n",
       "      <td>-1.82</td>\n",
       "      <td>6.21</td>\n",
       "      <td>10.59</td>\n",
       "    </tr>\n",
       "    <tr>\n",
       "      <th>10</th>\n",
       "      <td>11</td>\n",
       "      <td>male</td>\n",
       "      <td>32.9</td>\n",
       "      <td>18.79</td>\n",
       "      <td>4</td>\n",
       "      <td>1</td>\n",
       "      <td>13.99</td>\n",
       "      <td>14.03</td>\n",
       "      <td>14.85</td>\n",
       "      <td>15.68</td>\n",
       "      <td>...</td>\n",
       "      <td>0.44</td>\n",
       "      <td>1.34</td>\n",
       "      <td>6.80</td>\n",
       "      <td>655.20</td>\n",
       "      <td>694.80</td>\n",
       "      <td>753.95</td>\n",
       "      <td>-0.66</td>\n",
       "      <td>-1.09</td>\n",
       "      <td>6.55</td>\n",
       "      <td>12.01</td>\n",
       "    </tr>\n",
       "    <tr>\n",
       "      <th>11</th>\n",
       "      <td>12</td>\n",
       "      <td>female</td>\n",
       "      <td>35.0</td>\n",
       "      <td>19.65</td>\n",
       "      <td>5</td>\n",
       "      <td>1</td>\n",
       "      <td>13.18</td>\n",
       "      <td>13.45</td>\n",
       "      <td>14.33</td>\n",
       "      <td>15.21</td>\n",
       "      <td>...</td>\n",
       "      <td>0.66</td>\n",
       "      <td>1.93</td>\n",
       "      <td>7.03</td>\n",
       "      <td>611.20</td>\n",
       "      <td>660.40</td>\n",
       "      <td>717.00</td>\n",
       "      <td>-0.53</td>\n",
       "      <td>-1.19</td>\n",
       "      <td>6.28</td>\n",
       "      <td>11.38</td>\n",
       "    </tr>\n",
       "    <tr>\n",
       "      <th>12</th>\n",
       "      <td>13</td>\n",
       "      <td>male</td>\n",
       "      <td>35.1</td>\n",
       "      <td>19.83</td>\n",
       "      <td>3</td>\n",
       "      <td>1</td>\n",
       "      <td>13.94</td>\n",
       "      <td>14.48</td>\n",
       "      <td>15.26</td>\n",
       "      <td>16.03</td>\n",
       "      <td>...</td>\n",
       "      <td>0.67</td>\n",
       "      <td>1.99</td>\n",
       "      <td>7.09</td>\n",
       "      <td>611.80</td>\n",
       "      <td>662.20</td>\n",
       "      <td>705.13</td>\n",
       "      <td>-0.39</td>\n",
       "      <td>-1.06</td>\n",
       "      <td>6.16</td>\n",
       "      <td>11.26</td>\n",
       "    </tr>\n",
       "    <tr>\n",
       "      <th>13</th>\n",
       "      <td>14</td>\n",
       "      <td>female</td>\n",
       "      <td>35.6</td>\n",
       "      <td>19.88</td>\n",
       "      <td>4</td>\n",
       "      <td>1</td>\n",
       "      <td>12.68</td>\n",
       "      <td>13.08</td>\n",
       "      <td>13.92</td>\n",
       "      <td>14.76</td>\n",
       "      <td>...</td>\n",
       "      <td>0.54</td>\n",
       "      <td>1.96</td>\n",
       "      <td>7.11</td>\n",
       "      <td>618.80</td>\n",
       "      <td>671.20</td>\n",
       "      <td>719.55</td>\n",
       "      <td>-0.38</td>\n",
       "      <td>-0.92</td>\n",
       "      <td>6.08</td>\n",
       "      <td>11.23</td>\n",
       "    </tr>\n",
       "    <tr>\n",
       "      <th>14</th>\n",
       "      <td>15</td>\n",
       "      <td>female</td>\n",
       "      <td>36.6</td>\n",
       "      <td>19.94</td>\n",
       "      <td>4</td>\n",
       "      <td>1</td>\n",
       "      <td>12.71</td>\n",
       "      <td>12.88</td>\n",
       "      <td>13.80</td>\n",
       "      <td>14.72</td>\n",
       "      <td>...</td>\n",
       "      <td>0.64</td>\n",
       "      <td>1.49</td>\n",
       "      <td>6.33</td>\n",
       "      <td>548.00</td>\n",
       "      <td>595.00</td>\n",
       "      <td>658.75</td>\n",
       "      <td>-0.34</td>\n",
       "      <td>-0.90</td>\n",
       "      <td>5.64</td>\n",
       "      <td>10.39</td>\n",
       "    </tr>\n",
       "    <tr>\n",
       "      <th>15</th>\n",
       "      <td>16</td>\n",
       "      <td>male</td>\n",
       "      <td>36.5</td>\n",
       "      <td>20.25</td>\n",
       "      <td>3</td>\n",
       "      <td>1</td>\n",
       "      <td>13.74</td>\n",
       "      <td>14.68</td>\n",
       "      <td>15.66</td>\n",
       "      <td>16.64</td>\n",
       "      <td>...</td>\n",
       "      <td>0.79</td>\n",
       "      <td>2.19</td>\n",
       "      <td>7.13</td>\n",
       "      <td>593.25</td>\n",
       "      <td>662.00</td>\n",
       "      <td>710.58</td>\n",
       "      <td>-0.21</td>\n",
       "      <td>-1.00</td>\n",
       "      <td>5.94</td>\n",
       "      <td>10.88</td>\n",
       "    </tr>\n",
       "    <tr>\n",
       "      <th>16</th>\n",
       "      <td>17</td>\n",
       "      <td>female</td>\n",
       "      <td>33.7</td>\n",
       "      <td>20.33</td>\n",
       "      <td>5</td>\n",
       "      <td>1</td>\n",
       "      <td>13.15</td>\n",
       "      <td>13.87</td>\n",
       "      <td>14.49</td>\n",
       "      <td>15.11</td>\n",
       "      <td>...</td>\n",
       "      <td>0.60</td>\n",
       "      <td>2.44</td>\n",
       "      <td>7.86</td>\n",
       "      <td>649.80</td>\n",
       "      <td>708.60</td>\n",
       "      <td>724.00</td>\n",
       "      <td>-0.10</td>\n",
       "      <td>-0.70</td>\n",
       "      <td>6.12</td>\n",
       "      <td>11.53</td>\n",
       "    </tr>\n",
       "    <tr>\n",
       "      <th>17</th>\n",
       "      <td>18</td>\n",
       "      <td>male</td>\n",
       "      <td>36.4</td>\n",
       "      <td>20.16</td>\n",
       "      <td>5</td>\n",
       "      <td>1</td>\n",
       "      <td>12.47</td>\n",
       "      <td>12.56</td>\n",
       "      <td>13.30</td>\n",
       "      <td>14.05</td>\n",
       "      <td>...</td>\n",
       "      <td>0.43</td>\n",
       "      <td>1.23</td>\n",
       "      <td>6.01</td>\n",
       "      <td>573.60</td>\n",
       "      <td>614.60</td>\n",
       "      <td>663.40</td>\n",
       "      <td>0.14</td>\n",
       "      <td>-0.29</td>\n",
       "      <td>5.07</td>\n",
       "      <td>9.85</td>\n",
       "    </tr>\n",
       "    <tr>\n",
       "      <th>18</th>\n",
       "      <td>19</td>\n",
       "      <td>female</td>\n",
       "      <td>33.6</td>\n",
       "      <td>19.68</td>\n",
       "      <td>3</td>\n",
       "      <td>1</td>\n",
       "      <td>14.71</td>\n",
       "      <td>14.85</td>\n",
       "      <td>15.46</td>\n",
       "      <td>16.07</td>\n",
       "      <td>...</td>\n",
       "      <td>0.14</td>\n",
       "      <td>1.42</td>\n",
       "      <td>7.20</td>\n",
       "      <td>693.40</td>\n",
       "      <td>715.00</td>\n",
       "      <td>766.40</td>\n",
       "      <td>0.18</td>\n",
       "      <td>0.04</td>\n",
       "      <td>5.74</td>\n",
       "      <td>11.52</td>\n",
       "    </tr>\n",
       "    <tr>\n",
       "      <th>19</th>\n",
       "      <td>20</td>\n",
       "      <td>male</td>\n",
       "      <td>33.8</td>\n",
       "      <td>20.51</td>\n",
       "      <td>3</td>\n",
       "      <td>1</td>\n",
       "      <td>12.68</td>\n",
       "      <td>13.54</td>\n",
       "      <td>14.30</td>\n",
       "      <td>15.07</td>\n",
       "      <td>...</td>\n",
       "      <td>1.19</td>\n",
       "      <td>2.51</td>\n",
       "      <td>7.63</td>\n",
       "      <td>615.33</td>\n",
       "      <td>692.00</td>\n",
       "      <td>707.00</td>\n",
       "      <td>0.33</td>\n",
       "      <td>-0.87</td>\n",
       "      <td>6.00</td>\n",
       "      <td>11.12</td>\n",
       "    </tr>\n",
       "  </tbody>\n",
       "</table>\n",
       "<p>20 rows × 25 columns</p>\n",
       "</div>"
      ],
      "text/plain": [
       "    id     sex  age (months)  dlmo time  days napped  napping  \\\n",
       "0    1  female          33.7      19.24            0        0   \n",
       "1    2  female          31.5      18.27            0        0   \n",
       "2    3    male          31.9      19.14            0        0   \n",
       "3    4  female          31.6      19.69            0        0   \n",
       "4    5  female          33.0      19.52            0        0   \n",
       "5    6  female          36.2      18.22            4        1   \n",
       "6    7    male          36.3      19.28            1        1   \n",
       "7    8    male          30.0      21.06            5        1   \n",
       "8    9    male          33.2      19.38            2        1   \n",
       "9   10  female          37.1      19.93            3        1   \n",
       "10  11    male          32.9      18.79            4        1   \n",
       "11  12  female          35.0      19.65            5        1   \n",
       "12  13    male          35.1      19.83            3        1   \n",
       "13  14  female          35.6      19.88            4        1   \n",
       "14  15  female          36.6      19.94            4        1   \n",
       "15  16    male          36.5      20.25            3        1   \n",
       "16  17  female          33.7      20.33            5        1   \n",
       "17  18    male          36.4      20.16            5        1   \n",
       "18  19  female          33.6      19.68            3        1   \n",
       "19  20    male          33.8      20.51            3        1   \n",
       "\n",
       "    nap lights outl time  nap sleep onset  nap midsleep  nap sleep offset  \\\n",
       "0                    NaN              NaN           NaN               NaN   \n",
       "1                    NaN              NaN           NaN               NaN   \n",
       "2                    NaN              NaN           NaN               NaN   \n",
       "3                    NaN              NaN           NaN               NaN   \n",
       "4                    NaN              NaN           NaN               NaN   \n",
       "5                  14.00            14.22         15.00             15.78   \n",
       "6                  14.75            15.03         15.92             16.80   \n",
       "7                  13.09            13.43         14.44             15.46   \n",
       "8                  14.41            14.42         15.71             17.01   \n",
       "9                  13.12            13.42         14.31             15.19   \n",
       "10                 13.99            14.03         14.85             15.68   \n",
       "11                 13.18            13.45         14.33             15.21   \n",
       "12                 13.94            14.48         15.26             16.03   \n",
       "13                 12.68            13.08         13.92             14.76   \n",
       "14                 12.71            12.88         13.80             14.72   \n",
       "15                 13.74            14.68         15.66             16.64   \n",
       "16                 13.15            13.87         14.49             15.11   \n",
       "17                 12.47            12.56         13.30             14.05   \n",
       "18                 14.71            14.85         15.46             16.07   \n",
       "19                 12.68            13.54         14.30             15.07   \n",
       "\n",
       "    ...  sleep onset latency  night midsleep time  night wake time  \\\n",
       "0   ...                 0.23                 1.92             7.17   \n",
       "1   ...                 0.25                 1.09             6.69   \n",
       "2   ...                 0.45                 1.29             6.53   \n",
       "3   ...                 0.05                 1.89             8.28   \n",
       "4   ...                 0.45                 1.30             6.95   \n",
       "5   ...                 0.29                 1.26             6.28   \n",
       "6   ...                 0.36                 2.12             7.27   \n",
       "7   ...                 0.51                 2.92             7.31   \n",
       "8   ...                 0.13                 1.60             6.82   \n",
       "9   ...                 0.84                 2.20             6.52   \n",
       "10  ...                 0.44                 1.34             6.80   \n",
       "11  ...                 0.66                 1.93             7.03   \n",
       "12  ...                 0.67                 1.99             7.09   \n",
       "13  ...                 0.54                 1.96             7.11   \n",
       "14  ...                 0.64                 1.49             6.33   \n",
       "15  ...                 0.79                 2.19             7.13   \n",
       "16  ...                 0.60                 2.44             7.86   \n",
       "17  ...                 0.43                 1.23             6.01   \n",
       "18  ...                 0.14                 1.42             7.20   \n",
       "19  ...                 1.19                 2.51             7.63   \n",
       "\n",
       "    night sleep duration  night time in bed  24 h sleep duration  \\\n",
       "0                 629.40             643.00               629.40   \n",
       "1                 672.40             700.40               672.40   \n",
       "2                 628.80             682.60               628.80   \n",
       "3                 766.60             784.00               766.60   \n",
       "4                 678.00             718.00               678.00   \n",
       "5                 602.20             653.80               695.95   \n",
       "6                 618.40             655.40               724.40   \n",
       "7                 526.80             582.40               648.40   \n",
       "8                 626.80             660.33               782.30   \n",
       "9                 549.50             626.00               656.17   \n",
       "10                655.20             694.80               753.95   \n",
       "11                611.20             660.40               717.00   \n",
       "12                611.80             662.20               705.13   \n",
       "13                618.80             671.20               719.55   \n",
       "14                548.00             595.00               658.75   \n",
       "15                593.25             662.00               710.58   \n",
       "16                649.80             708.60               724.00   \n",
       "17                573.60             614.60               663.40   \n",
       "18                693.40             715.00               766.40   \n",
       "19                615.33             692.00               707.00   \n",
       "\n",
       "    bedtime phase difference  sleep onset phase difference  \\\n",
       "0                      -1.21                         -1.44   \n",
       "1                      -0.96                         -1.21   \n",
       "2                      -0.46                         -0.91   \n",
       "3                       0.23                          0.19   \n",
       "4                       0.31                         -0.13   \n",
       "5                      -1.73                         -2.03   \n",
       "6                      -1.32                         -1.68   \n",
       "7                      -0.95                         -1.47   \n",
       "8                      -0.86                         -0.99   \n",
       "9                      -0.76                         -1.82   \n",
       "10                     -0.66                         -1.09   \n",
       "11                     -0.53                         -1.19   \n",
       "12                     -0.39                         -1.06   \n",
       "13                     -0.38                         -0.92   \n",
       "14                     -0.34                         -0.90   \n",
       "15                     -0.21                         -1.00   \n",
       "16                     -0.10                         -0.70   \n",
       "17                      0.14                         -0.29   \n",
       "18                      0.18                          0.04   \n",
       "19                      0.33                         -0.87   \n",
       "\n",
       "    midsleep phase difference  wake time phase difference  \n",
       "0                        6.68                       11.93  \n",
       "1                        6.82                       12.42  \n",
       "2                        6.15                       11.39  \n",
       "3                        6.20                       12.59  \n",
       "4                        5.78                       11.43  \n",
       "5                        7.05                       12.06  \n",
       "6                        6.84                       11.99  \n",
       "7                        5.86                       10.25  \n",
       "8                        6.22                       11.44  \n",
       "9                        6.21                       10.59  \n",
       "10                       6.55                       12.01  \n",
       "11                       6.28                       11.38  \n",
       "12                       6.16                       11.26  \n",
       "13                       6.08                       11.23  \n",
       "14                       5.64                       10.39  \n",
       "15                       5.94                       10.88  \n",
       "16                       6.12                       11.53  \n",
       "17                       5.07                        9.85  \n",
       "18                       5.74                       11.52  \n",
       "19                       6.00                       11.12  \n",
       "\n",
       "[20 rows x 25 columns]"
      ]
     },
     "execution_count": 3,
     "metadata": {},
     "output_type": "execute_result"
    }
   ],
   "source": [
    "# First, look at the DataFrame to get a sense of the data\n",
    "df"
   ]
  },
  {
   "cell_type": "markdown",
   "metadata": {},
   "source": [
    "**Question**: What variable is used in the column 'napping' to indicate a toddler takes a nap?  "
   ]
  },
  {
   "cell_type": "code",
   "execution_count": 4,
   "metadata": {},
   "outputs": [
    {
     "data": {
      "text/html": [
       "<div>\n",
       "<style scoped>\n",
       "    .dataframe tbody tr th:only-of-type {\n",
       "        vertical-align: middle;\n",
       "    }\n",
       "\n",
       "    .dataframe tbody tr th {\n",
       "        vertical-align: top;\n",
       "    }\n",
       "\n",
       "    .dataframe thead th {\n",
       "        text-align: right;\n",
       "    }\n",
       "</style>\n",
       "<table border=\"1\" class=\"dataframe\">\n",
       "  <thead>\n",
       "    <tr style=\"text-align: right;\">\n",
       "      <th></th>\n",
       "      <th>napping</th>\n",
       "    </tr>\n",
       "  </thead>\n",
       "  <tbody>\n",
       "    <tr>\n",
       "      <th>count</th>\n",
       "      <td>20.000000</td>\n",
       "    </tr>\n",
       "    <tr>\n",
       "      <th>mean</th>\n",
       "      <td>0.750000</td>\n",
       "    </tr>\n",
       "    <tr>\n",
       "      <th>std</th>\n",
       "      <td>0.444262</td>\n",
       "    </tr>\n",
       "    <tr>\n",
       "      <th>min</th>\n",
       "      <td>0.000000</td>\n",
       "    </tr>\n",
       "    <tr>\n",
       "      <th>25%</th>\n",
       "      <td>0.750000</td>\n",
       "    </tr>\n",
       "    <tr>\n",
       "      <th>50%</th>\n",
       "      <td>1.000000</td>\n",
       "    </tr>\n",
       "    <tr>\n",
       "      <th>75%</th>\n",
       "      <td>1.000000</td>\n",
       "    </tr>\n",
       "    <tr>\n",
       "      <th>max</th>\n",
       "      <td>1.000000</td>\n",
       "    </tr>\n",
       "  </tbody>\n",
       "</table>\n",
       "</div>"
      ],
      "text/plain": [
       "         napping\n",
       "count  20.000000\n",
       "mean    0.750000\n",
       "std     0.444262\n",
       "min     0.000000\n",
       "25%     0.750000\n",
       "50%     1.000000\n",
       "75%     1.000000\n",
       "max     1.000000"
      ]
     },
     "execution_count": 4,
     "metadata": {},
     "output_type": "execute_result"
    }
   ],
   "source": [
    "df[['napping']].describe()"
   ]
  },
  {
   "cell_type": "markdown",
   "metadata": {},
   "source": [
    "**Question**: What is the sample size $n$? What is the sample size for toddlers who nap, $n_1$, and toddlers who don't nap, $n_2$?"
   ]
  },
  {
   "cell_type": "code",
   "execution_count": 30,
   "metadata": {},
   "outputs": [
    {
     "name": "stdout",
     "output_type": "stream",
     "text": [
      "15 5\n"
     ]
    }
   ],
   "source": [
    "n1 = len(df[df['napping'] == 1])\n",
    "n2 = len(df[df['napping'] == 0])\n",
    "print(n1, n2)"
   ]
  },
  {
   "cell_type": "markdown",
   "metadata": {},
   "source": [
    "### Average bedtime confidence interval for napping and non napping toddlers\n",
    "Create two 95% confidence intervals for the average bedtime, one for toddler who nap and one for toddlers who don't."
   ]
  },
  {
   "cell_type": "markdown",
   "metadata": {},
   "source": [
    "Before any analysis, we will convert 'night bedtime' into decimalized time."
   ]
  },
  {
   "cell_type": "code",
   "execution_count": 31,
   "metadata": {},
   "outputs": [],
   "source": [
    "# Convert 'night bedtime' into decimalized time\n",
    "df.loc[:,'night bedtime'] = np.floor(df['night bedtime'])*60 + np.round(df['night bedtime']%1,2 )*100"
   ]
  },
  {
   "cell_type": "markdown",
   "metadata": {},
   "source": [
    "Now, isolate the column 'night bedtime' for those who nap into a new variable, and those who didn't nap into another new variable. "
   ]
  },
  {
   "cell_type": "code",
   "execution_count": 68,
   "metadata": {},
   "outputs": [],
   "source": [
    "bedtime_nap = df[df['napping'] == 1]['night bedtime']"
   ]
  },
  {
   "cell_type": "code",
   "execution_count": 69,
   "metadata": {},
   "outputs": [
    {
     "data": {
      "text/plain": [
       "5     1235.0\n",
       "6     1260.0\n",
       "7     1321.0\n",
       "8     1224.0\n",
       "9     1278.0\n",
       "10    1185.0\n",
       "11    1218.0\n",
       "12    1222.0\n",
       "13    1226.0\n",
       "14    1228.0\n",
       "15    1246.0\n",
       "16    1243.0\n",
       "17    1202.0\n",
       "18    1190.0\n",
       "19    1218.0\n",
       "Name: night bedtime, dtype: float64"
      ]
     },
     "execution_count": 69,
     "metadata": {},
     "output_type": "execute_result"
    }
   ],
   "source": [
    "bedtime_nap"
   ]
  },
  {
   "cell_type": "code",
   "execution_count": 70,
   "metadata": {},
   "outputs": [],
   "source": [
    "bedtime_no_nap = df[df['napping'] == 0]['night bedtime']"
   ]
  },
  {
   "cell_type": "code",
   "execution_count": 71,
   "metadata": {},
   "outputs": [
    {
     "data": {
      "text/plain": [
       "0    1245.0\n",
       "1    1163.0\n",
       "2    1200.0\n",
       "3    1186.0\n",
       "4    1161.0\n",
       "Name: night bedtime, dtype: float64"
      ]
     },
     "execution_count": 71,
     "metadata": {},
     "output_type": "execute_result"
    }
   ],
   "source": [
    "bedtime_no_nap"
   ]
  },
  {
   "cell_type": "markdown",
   "metadata": {},
   "source": [
    "Now find the sample mean bedtime for nap and no_nap."
   ]
  },
  {
   "cell_type": "code",
   "execution_count": 72,
   "metadata": {},
   "outputs": [
    {
     "data": {
      "text/plain": [
       "1233.0666666666666"
      ]
     },
     "execution_count": 72,
     "metadata": {},
     "output_type": "execute_result"
    }
   ],
   "source": [
    "nap_mean_bedtime = bedtime_nap.mean()\n",
    "nap_mean_bedtime"
   ]
  },
  {
   "cell_type": "code",
   "execution_count": 44,
   "metadata": {},
   "outputs": [
    {
     "data": {
      "text/plain": [
       "1191.0"
      ]
     },
     "execution_count": 44,
     "metadata": {},
     "output_type": "execute_result"
    }
   ],
   "source": [
    "no_nap_mean_bedtime = bedtime_no_nap.mean()\n",
    "no_nap_mean_bedtime"
   ]
  },
  {
   "cell_type": "markdown",
   "metadata": {},
   "source": [
    "### Constructing Confidence Intervals\n",
    "\n",
    "Now that we have the population proportions of male and female smokers, we can begin to calculate confidence intervals.  From lecture, we know that the equation is as follows:\n",
    "\n",
    "$$Best\\ Estimate \\pm Margin\\ of\\ Error$$\n",
    "\n",
    "Where the *Best Estimate* is the **observed population proportion or mean** from the sample and the *Margin of Error* is the **t-multiplier**.\n",
    "\n",
    "The equation to create a 95% confidence interval can also be shown as:\n",
    "\n",
    "$$Population\\ Proportion\\ or\\ Mean\\ \\pm (t-multiplier *\\ Standard\\ Error)$$\n",
    "\n",
    "The Standard Error is calculated differenly for population proportion and mean:\n",
    "\n",
    "$$Standard\\ Error \\ for\\ Population\\ Proportion = \\sqrt{\\frac{Population\\ Proportion * (1 - Population\\ Proportion)}{Number\\ Of\\ Observations}}$$\n",
    "\n",
    "$$Standard\\ Error \\ for\\ Mean = \\frac{Standard\\ Deviation}{\\sqrt{Number\\ Of\\ Observations}}$$"
   ]
  },
  {
   "cell_type": "markdown",
   "metadata": {},
   "source": [
    "Now find the standard error for $\\bar{X}_{nap}$ and $\\bar{X}_{no\\ nap}$."
   ]
  },
  {
   "cell_type": "code",
   "execution_count": 111,
   "metadata": {},
   "outputs": [
    {
     "data": {
      "text/plain": [
       "8.893800230479801"
      ]
     },
     "execution_count": 111,
     "metadata": {},
     "output_type": "execute_result"
    }
   ],
   "source": [
    "import math\n",
    "\n",
    "n1 = len(df[df['napping'] == 1])\n",
    "se_nap = bedtime_nap.std() / math.sqrt(n1)\n",
    "se_nap"
   ]
  },
  {
   "cell_type": "code",
   "execution_count": 112,
   "metadata": {},
   "outputs": [
    {
     "data": {
      "text/plain": [
       "15.339491516996253"
      ]
     },
     "execution_count": 112,
     "metadata": {},
     "output_type": "execute_result"
    }
   ],
   "source": [
    "import math\n",
    "\n",
    "n2 = len(df[df['napping'] == 0])\n",
    "se_no_nap = bedtime_no_nap.std() / math.sqrt(n2)\n",
    "se_no_nap"
   ]
  },
  {
   "cell_type": "markdown",
   "metadata": {},
   "source": [
    "**Question**: Given our sample sizes of $n_1$ and $n_2$ for napping and non napping toddlers respectively, how many degrees of freedom ($df$) are there for the associated $t$ distributions?"
   ]
  },
  {
   "cell_type": "code",
   "execution_count": 113,
   "metadata": {},
   "outputs": [
    {
     "name": "stdout",
     "output_type": "stream",
     "text": [
      "14 4\n"
     ]
    }
   ],
   "source": [
    "deg_free_nap = n1 - 1\n",
    "deg_free_no_nap = n2 - 1\n",
    "print(deg_free_nap, deg_free_no_nap)"
   ]
  },
  {
   "cell_type": "markdown",
   "metadata": {},
   "source": [
    "To build a 95% confidence interval, what is the value of t\\*?  You can find this value using the percent point function: \n",
    "```\n",
    "from scipy.stats import t\n",
    "\n",
    "t.ppf(probabiliy, df)\n",
    "```\n",
    "This will return the quantile value such that to the left of this value, the tail probabiliy is equal to the input probabiliy (for the specified degrees of freedom). "
   ]
  },
  {
   "cell_type": "markdown",
   "metadata": {},
   "source": [
    "Example: to find the $t^*$ for a 90% confidence interval, we want $t^*$ such that 90% of the density of the $t$ distribution lies between $-t^*$ and $t^*$. Or in other words if $X \\sim t(df)$:  \n",
    "\n",
    "$P(-t^*< X < t^*) = .90$  \n",
    "\n",
    "Which, because the $t$ distribution is symmetric, is equivalent to finding $t^*$ such that:  \n",
    "\n",
    "$P(X < t^*) = .95$\n",
    "\n",
    "So the $t^*$ for a 90% confidence interval, and lets say df=10, will be:\n",
    "```\n",
    "t_star = t.ppf(.95, df=10)\n",
    "```"
   ]
  },
  {
   "cell_type": "markdown",
   "metadata": {},
   "source": [
    "**Quesion**: What is $t^*$ for nap and no nap?"
   ]
  },
  {
   "cell_type": "code",
   "execution_count": 114,
   "metadata": {},
   "outputs": [],
   "source": [
    "from scipy.stats import t"
   ]
  },
  {
   "cell_type": "code",
   "execution_count": 123,
   "metadata": {},
   "outputs": [
    {
     "data": {
      "text/plain": [
       "2.1447866879169273"
      ]
     },
     "execution_count": 123,
     "metadata": {},
     "output_type": "execute_result"
    }
   ],
   "source": [
    "# Find the t_stars for the 95% confidence intervals\n",
    "nap_t_star = t.ppf(0.975, deg_free_nap)\n",
    "nap_t_star"
   ]
  },
  {
   "cell_type": "code",
   "execution_count": 126,
   "metadata": {},
   "outputs": [
    {
     "data": {
      "text/plain": [
       "2.7764451051977987"
      ]
     },
     "execution_count": 126,
     "metadata": {},
     "output_type": "execute_result"
    }
   ],
   "source": [
    "no_nap_t_star = t.ppf(0.975, deg_free_no_nap)\n",
    "no_nap_t_star"
   ]
  },
  {
   "cell_type": "markdown",
   "metadata": {},
   "source": [
    "Now to create our confidence intervals. For the average bedtime for nap and no nap, find the upper and lower bounds for the respective confidence intervals."
   ]
  },
  {
   "cell_type": "markdown",
   "metadata": {},
   "source": [
    "**Question**: What are the 95% confidence intervals, rounded to the nearest ten, for the average bedtime (in decimalized time) for toddlers who nap and for toddlers who don't nap? \n",
    "\n",
    "CI = $\\bar{X} \\pm \\ t^* \\cdot s.e.(\\bar{X})$"
   ]
  },
  {
   "cell_type": "code",
   "execution_count": 154,
   "metadata": {},
   "outputs": [
    {
     "name": "stdout",
     "output_type": "stream",
     "text": [
      "(1214, 1252)\n"
     ]
    },
    {
     "data": {
      "text/plain": [
       "(1213.991362327341, 1252.1419710059922)"
      ]
     },
     "execution_count": 154,
     "metadata": {},
     "output_type": "execute_result"
    }
   ],
   "source": [
    "ci_nap = nap_mean_bedtime + np.array([-1, +1]) * nap_t_star * se_nap\n",
    "lower_nap, upper_nap = ci_nap\n",
    "nap_ci_rounded = (round(lower_nap), round(upper_nap))\n",
    "print(nap_ci_rounded)\n",
    "tuple(ci_nap)"
   ]
  },
  {
   "cell_type": "code",
   "execution_count": 155,
   "metadata": {},
   "outputs": [
    {
     "name": "stdout",
     "output_type": "stream",
     "text": [
      "(1148, 1234)\n"
     ]
    },
    {
     "data": {
      "text/plain": [
       "(1148.4107438614126, 1233.5892561385874)"
      ]
     },
     "execution_count": 155,
     "metadata": {},
     "output_type": "execute_result"
    }
   ],
   "source": [
    "ci_no_nap = no_nap_mean_bedtime + np.array([-1, +1]) * no_nap_t_star * se_no_nap\n",
    "lower_no_nap, upper_no_nap = ci_no_nap\n",
    "no_nap_ci_rounded = (round(lower_no_nap), round(upper_no_nap))\n",
    "print(no_nap_ci_rounded)\n",
    "tuple(ci_no_nap)"
   ]
  },
  {
   "cell_type": "markdown",
   "metadata": {},
   "source": [
    "**Challenge problem 1**: Write a function that inputs the column containing the data you want to build your confidence interval from and returns the confidence interval as a list or tuple (i.e. \\[upper, lowe\\] or (upper, lower))."
   ]
  },
  {
   "cell_type": "code",
   "execution_count": 180,
   "metadata": {},
   "outputs": [],
   "source": [
    "import numpy as np\n",
    "from scipy.stats import t\n",
    "\n",
    "def find_ci(data_column, confidence):\n",
    "    sample_mean = np.mean(data_column)\n",
    "    sample_std = np.std(data_column)\n",
    "\n",
    "    n = len(data_column)\n",
    "    t_value = t.ppf((1 + confidence) / 2, df = n - 1)\n",
    "    margin_of_error = t_value * sample_std / np.sqrt(n)\n",
    "\n",
    "    lower_bound = sample_mean - margin_of_error\n",
    "    upper_bound = sample_mean + margin_of_error\n",
    "\n",
    "    return (lower_bound, upper_bound)\n",
    "\n",
    "# find_ci(df[df['napping'] == 1]['night bedtime'], 0.95)"
   ]
  },
  {
   "cell_type": "markdown",
   "metadata": {},
   "source": [
    "**Challenge problem 2**: Create the intervals using the statsmodels function stats.weightstats.DescrStatsW:\n",
    "\n",
    "```\n",
    "stats.weightstats.DescrStatsW(data).tconfint_mean(alpha=.05)\n",
    "```"
   ]
  },
  {
   "cell_type": "code",
   "execution_count": 186,
   "metadata": {},
   "outputs": [
    {
     "data": {
      "text/plain": [
       "(1213.991362327341, 1252.1419710059922)"
      ]
     },
     "execution_count": 186,
     "metadata": {},
     "output_type": "execute_result"
    }
   ],
   "source": [
    "from statsmodels.stats.weightstats import DescrStatsW\n",
    "\n",
    "DescrStatsW(bedtime_nap).tconfint_mean(alpha=0.05)"
   ]
  },
  {
   "cell_type": "code",
   "execution_count": 187,
   "metadata": {},
   "outputs": [
    {
     "data": {
      "text/plain": [
       "(1148.4107438614126, 1233.5892561385874)"
      ]
     },
     "execution_count": 187,
     "metadata": {},
     "output_type": "execute_result"
    }
   ],
   "source": [
    "from statsmodels.stats.weightstats import DescrStatsW\n",
    "\n",
    "DescrStatsW(bedtime_no_nap).tconfint_mean(alpha=0.05)"
   ]
  }
 ],
 "metadata": {
  "kernelspec": {
   "display_name": "Python 3 (ipykernel)",
   "language": "python",
   "name": "python3"
  },
  "language_info": {
   "codemirror_mode": {
    "name": "ipython",
    "version": 3
   },
   "file_extension": ".py",
   "mimetype": "text/x-python",
   "name": "python",
   "nbconvert_exporter": "python",
   "pygments_lexer": "ipython3",
   "version": "3.10.11"
  }
 },
 "nbformat": 4,
 "nbformat_minor": 4
}
