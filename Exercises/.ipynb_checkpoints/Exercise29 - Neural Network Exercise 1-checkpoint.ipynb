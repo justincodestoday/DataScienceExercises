{
 "cells": [
  {
   "cell_type": "markdown",
   "metadata": {},
   "source": [
    "<img src=\"https://i.imgur.com/FoKB5Z5.png\" align=\"left\" width=\"300\" height=\"250\" title=\"source: imgur.com\" /></a>"
   ]
  },
  {
   "cell_type": "markdown",
   "metadata": {},
   "source": [
    "## Program Code: J620-002-4:2020 \n",
    "\n",
    "## Program Name: FRONT-END SOFTWARE DEVELOPMENT\n",
    "\n",
    "## Title : Exe29 - Neural Network Exercise 1\n",
    "\n",
    "#### Name: Chong Mun Chen\n",
    "\n",
    "#### IC Number: 960327-07-5097\n",
    "\n",
    "#### Date : 31/7/2023\n",
    "\n",
    "#### Introduction : Practising on this exercise with Neural Network learning model.\n",
    "\n",
    "\n",
    "\n",
    "#### Conclusion : Succeeded in training a Multi-Layer Perceptron Classifier with a high accuracy score.\n",
    "\n",
    "\n",
    "\n",
    "\n"
   ]
  },
  {
   "cell_type": "markdown",
   "metadata": {},
   "source": [
    "## Neural Network Introduction\n",
    "\n",
    "This exercise is adapted from https://www.kdnuggets.com/2016/10/beginners-guide-neural-networks-python-scikit-learn.html"
   ]
  },
  {
   "cell_type": "markdown",
   "metadata": {},
   "source": [
    "We'll use SciKit Learn's built in Breast Cancer Data Set which has several features of tumors with a labeled class indicating whether the tumor was Malignant or Benign. We will try to create a neural network model that can take in these features and attempt to predict malignant or benign labels for tumors it has not seen before. Let's go ahead and start by getting the data!\n",
    "\n"
   ]
  },
  {
   "cell_type": "code",
   "execution_count": 1,
   "metadata": {},
   "outputs": [],
   "source": [
    "from sklearn.datasets import load_breast_cancer\n",
    "\n",
    "data = load_breast_cancer()"
   ]
  },
  {
   "cell_type": "markdown",
   "metadata": {},
   "source": [
    "This object is like a dictionary, it contains a description of the data and the features and targets:"
   ]
  },
  {
   "cell_type": "code",
   "execution_count": 2,
   "metadata": {},
   "outputs": [
    {
     "data": {
      "text/plain": [
       "dict_keys(['data', 'target', 'frame', 'target_names', 'DESCR', 'feature_names', 'filename', 'data_module'])"
      ]
     },
     "execution_count": 2,
     "metadata": {},
     "output_type": "execute_result"
    }
   ],
   "source": [
    "# find out the attributes in the dataset\n",
    "\n",
    "data.keys()"
   ]
  },
  {
   "cell_type": "code",
   "execution_count": 3,
   "metadata": {},
   "outputs": [
    {
     "data": {
      "text/plain": [
       "(569, 30)"
      ]
     },
     "execution_count": 3,
     "metadata": {},
     "output_type": "execute_result"
    }
   ],
   "source": [
    "# find out the total instances and number of features\n",
    "\n",
    "data.data.shape"
   ]
  },
  {
   "cell_type": "markdown",
   "metadata": {},
   "source": [
    "Set up the data (x) and labels (y)"
   ]
  },
  {
   "cell_type": "code",
   "execution_count": 4,
   "metadata": {},
   "outputs": [],
   "source": [
    "X = data.data\n",
    "y = data.target"
   ]
  },
  {
   "cell_type": "markdown",
   "metadata": {},
   "source": [
    "#### Train Test Split\n",
    " \n",
    "Let's split our data into training and testing sets, this is done easily with SciKit Learn's train_test_split function from model_selection:"
   ]
  },
  {
   "cell_type": "code",
   "execution_count": 5,
   "metadata": {},
   "outputs": [],
   "source": [
    "from sklearn.model_selection import train_test_split\n",
    "\n",
    "X_train, X_test, y_train, y_test = train_test_split(X, y)"
   ]
  },
  {
   "cell_type": "markdown",
   "metadata": {},
   "source": [
    "#### Data Preprocessing\n",
    " \n",
    "The neural network may have difficulty converging before the maximum number of iterations allowed if the data is not normalized. Multi-layer Perceptron is sensitive to feature scaling, so it is highly recommended to scale your data. Note that you must apply the same scaling to the test set for meaningful results. There are a lot of different methods for normalization of data, we will use the built-in StandardScaler for standardization."
   ]
  },
  {
   "cell_type": "code",
   "execution_count": 6,
   "metadata": {},
   "outputs": [
    {
     "data": {
      "text/html": [
       "<style>#sk-container-id-1 {color: black;background-color: white;}#sk-container-id-1 pre{padding: 0;}#sk-container-id-1 div.sk-toggleable {background-color: white;}#sk-container-id-1 label.sk-toggleable__label {cursor: pointer;display: block;width: 100%;margin-bottom: 0;padding: 0.3em;box-sizing: border-box;text-align: center;}#sk-container-id-1 label.sk-toggleable__label-arrow:before {content: \"▸\";float: left;margin-right: 0.25em;color: #696969;}#sk-container-id-1 label.sk-toggleable__label-arrow:hover:before {color: black;}#sk-container-id-1 div.sk-estimator:hover label.sk-toggleable__label-arrow:before {color: black;}#sk-container-id-1 div.sk-toggleable__content {max-height: 0;max-width: 0;overflow: hidden;text-align: left;background-color: #f0f8ff;}#sk-container-id-1 div.sk-toggleable__content pre {margin: 0.2em;color: black;border-radius: 0.25em;background-color: #f0f8ff;}#sk-container-id-1 input.sk-toggleable__control:checked~div.sk-toggleable__content {max-height: 200px;max-width: 100%;overflow: auto;}#sk-container-id-1 input.sk-toggleable__control:checked~label.sk-toggleable__label-arrow:before {content: \"▾\";}#sk-container-id-1 div.sk-estimator input.sk-toggleable__control:checked~label.sk-toggleable__label {background-color: #d4ebff;}#sk-container-id-1 div.sk-label input.sk-toggleable__control:checked~label.sk-toggleable__label {background-color: #d4ebff;}#sk-container-id-1 input.sk-hidden--visually {border: 0;clip: rect(1px 1px 1px 1px);clip: rect(1px, 1px, 1px, 1px);height: 1px;margin: -1px;overflow: hidden;padding: 0;position: absolute;width: 1px;}#sk-container-id-1 div.sk-estimator {font-family: monospace;background-color: #f0f8ff;border: 1px dotted black;border-radius: 0.25em;box-sizing: border-box;margin-bottom: 0.5em;}#sk-container-id-1 div.sk-estimator:hover {background-color: #d4ebff;}#sk-container-id-1 div.sk-parallel-item::after {content: \"\";width: 100%;border-bottom: 1px solid gray;flex-grow: 1;}#sk-container-id-1 div.sk-label:hover label.sk-toggleable__label {background-color: #d4ebff;}#sk-container-id-1 div.sk-serial::before {content: \"\";position: absolute;border-left: 1px solid gray;box-sizing: border-box;top: 0;bottom: 0;left: 50%;z-index: 0;}#sk-container-id-1 div.sk-serial {display: flex;flex-direction: column;align-items: center;background-color: white;padding-right: 0.2em;padding-left: 0.2em;position: relative;}#sk-container-id-1 div.sk-item {position: relative;z-index: 1;}#sk-container-id-1 div.sk-parallel {display: flex;align-items: stretch;justify-content: center;background-color: white;position: relative;}#sk-container-id-1 div.sk-item::before, #sk-container-id-1 div.sk-parallel-item::before {content: \"\";position: absolute;border-left: 1px solid gray;box-sizing: border-box;top: 0;bottom: 0;left: 50%;z-index: -1;}#sk-container-id-1 div.sk-parallel-item {display: flex;flex-direction: column;z-index: 1;position: relative;background-color: white;}#sk-container-id-1 div.sk-parallel-item:first-child::after {align-self: flex-end;width: 50%;}#sk-container-id-1 div.sk-parallel-item:last-child::after {align-self: flex-start;width: 50%;}#sk-container-id-1 div.sk-parallel-item:only-child::after {width: 0;}#sk-container-id-1 div.sk-dashed-wrapped {border: 1px dashed gray;margin: 0 0.4em 0.5em 0.4em;box-sizing: border-box;padding-bottom: 0.4em;background-color: white;}#sk-container-id-1 div.sk-label label {font-family: monospace;font-weight: bold;display: inline-block;line-height: 1.2em;}#sk-container-id-1 div.sk-label-container {text-align: center;}#sk-container-id-1 div.sk-container {/* jupyter's `normalize.less` sets `[hidden] { display: none; }` but bootstrap.min.css set `[hidden] { display: none !important; }` so we also need the `!important` here to be able to override the default hidden behavior on the sphinx rendered scikit-learn.org. See: https://github.com/scikit-learn/scikit-learn/issues/21755 */display: inline-block !important;position: relative;}#sk-container-id-1 div.sk-text-repr-fallback {display: none;}</style><div id=\"sk-container-id-1\" class=\"sk-top-container\"><div class=\"sk-text-repr-fallback\"><pre>StandardScaler()</pre><b>In a Jupyter environment, please rerun this cell to show the HTML representation or trust the notebook. <br />On GitHub, the HTML representation is unable to render, please try loading this page with nbviewer.org.</b></div><div class=\"sk-container\" hidden><div class=\"sk-item\"><div class=\"sk-estimator sk-toggleable\"><input class=\"sk-toggleable__control sk-hidden--visually\" id=\"sk-estimator-id-1\" type=\"checkbox\" checked><label for=\"sk-estimator-id-1\" class=\"sk-toggleable__label sk-toggleable__label-arrow\">StandardScaler</label><div class=\"sk-toggleable__content\"><pre>StandardScaler()</pre></div></div></div></div></div>"
      ],
      "text/plain": [
       "StandardScaler()"
      ]
     },
     "execution_count": 6,
     "metadata": {},
     "output_type": "execute_result"
    }
   ],
   "source": [
    "# Import the StandardScalar library\n",
    "from sklearn.preprocessing import StandardScaler\n",
    "\n",
    "sc = StandardScaler()\n",
    "\n",
    "# Fit only to the training data\n",
    "sc.fit(X_train)"
   ]
  },
  {
   "cell_type": "code",
   "execution_count": 7,
   "metadata": {},
   "outputs": [],
   "source": [
    "# Now apply the transformations to the data:\n",
    "X_train_transformed = sc.transform(X_train)\n",
    "X_test_transformed = sc.transform(X_test)"
   ]
  },
  {
   "cell_type": "markdown",
   "metadata": {},
   "source": [
    "#### Training the model\n",
    " \n",
    "Now it is time to train our model. SciKit Learn makes this incredibly easy, by using estimator objects. In this case we will import our estimator (the Multi-Layer Perceptron Classifier model) from the neural_network library of SciKit-Learn!"
   ]
  },
  {
   "cell_type": "code",
   "execution_count": 8,
   "metadata": {},
   "outputs": [],
   "source": [
    "from sklearn.neural_network import MLPClassifier"
   ]
  },
  {
   "cell_type": "markdown",
   "metadata": {},
   "source": [
    "Next we create an instance of the model, there are a lot of parameters you can choose to define and customize here, we will only define the hidden_layer_sizes. For this parameter you pass in a tuple consisting of the number of neurons you want at each layer, where the nth entry in the tuple represents the number of neurons in the nth layer of the MLP model. There are many ways to choose these numbers, but for simplicity we will choose 3 layers with the same number of neurons as there are features in our data set:"
   ]
  },
  {
   "cell_type": "code",
   "execution_count": 9,
   "metadata": {},
   "outputs": [],
   "source": [
    "# create a Multilayerperceptron classifier and call it mlp\n",
    "mlp = MLPClassifier(hidden_layer_sizes = (30, 30, 30))"
   ]
  },
  {
   "cell_type": "markdown",
   "metadata": {},
   "source": [
    "Now that the model has been made we can fit the training data to our model, remember that this data has already been processed and scaled:"
   ]
  },
  {
   "cell_type": "code",
   "execution_count": 10,
   "metadata": {},
   "outputs": [
    {
     "data": {
      "text/html": [
       "<style>#sk-container-id-2 {color: black;background-color: white;}#sk-container-id-2 pre{padding: 0;}#sk-container-id-2 div.sk-toggleable {background-color: white;}#sk-container-id-2 label.sk-toggleable__label {cursor: pointer;display: block;width: 100%;margin-bottom: 0;padding: 0.3em;box-sizing: border-box;text-align: center;}#sk-container-id-2 label.sk-toggleable__label-arrow:before {content: \"▸\";float: left;margin-right: 0.25em;color: #696969;}#sk-container-id-2 label.sk-toggleable__label-arrow:hover:before {color: black;}#sk-container-id-2 div.sk-estimator:hover label.sk-toggleable__label-arrow:before {color: black;}#sk-container-id-2 div.sk-toggleable__content {max-height: 0;max-width: 0;overflow: hidden;text-align: left;background-color: #f0f8ff;}#sk-container-id-2 div.sk-toggleable__content pre {margin: 0.2em;color: black;border-radius: 0.25em;background-color: #f0f8ff;}#sk-container-id-2 input.sk-toggleable__control:checked~div.sk-toggleable__content {max-height: 200px;max-width: 100%;overflow: auto;}#sk-container-id-2 input.sk-toggleable__control:checked~label.sk-toggleable__label-arrow:before {content: \"▾\";}#sk-container-id-2 div.sk-estimator input.sk-toggleable__control:checked~label.sk-toggleable__label {background-color: #d4ebff;}#sk-container-id-2 div.sk-label input.sk-toggleable__control:checked~label.sk-toggleable__label {background-color: #d4ebff;}#sk-container-id-2 input.sk-hidden--visually {border: 0;clip: rect(1px 1px 1px 1px);clip: rect(1px, 1px, 1px, 1px);height: 1px;margin: -1px;overflow: hidden;padding: 0;position: absolute;width: 1px;}#sk-container-id-2 div.sk-estimator {font-family: monospace;background-color: #f0f8ff;border: 1px dotted black;border-radius: 0.25em;box-sizing: border-box;margin-bottom: 0.5em;}#sk-container-id-2 div.sk-estimator:hover {background-color: #d4ebff;}#sk-container-id-2 div.sk-parallel-item::after {content: \"\";width: 100%;border-bottom: 1px solid gray;flex-grow: 1;}#sk-container-id-2 div.sk-label:hover label.sk-toggleable__label {background-color: #d4ebff;}#sk-container-id-2 div.sk-serial::before {content: \"\";position: absolute;border-left: 1px solid gray;box-sizing: border-box;top: 0;bottom: 0;left: 50%;z-index: 0;}#sk-container-id-2 div.sk-serial {display: flex;flex-direction: column;align-items: center;background-color: white;padding-right: 0.2em;padding-left: 0.2em;position: relative;}#sk-container-id-2 div.sk-item {position: relative;z-index: 1;}#sk-container-id-2 div.sk-parallel {display: flex;align-items: stretch;justify-content: center;background-color: white;position: relative;}#sk-container-id-2 div.sk-item::before, #sk-container-id-2 div.sk-parallel-item::before {content: \"\";position: absolute;border-left: 1px solid gray;box-sizing: border-box;top: 0;bottom: 0;left: 50%;z-index: -1;}#sk-container-id-2 div.sk-parallel-item {display: flex;flex-direction: column;z-index: 1;position: relative;background-color: white;}#sk-container-id-2 div.sk-parallel-item:first-child::after {align-self: flex-end;width: 50%;}#sk-container-id-2 div.sk-parallel-item:last-child::after {align-self: flex-start;width: 50%;}#sk-container-id-2 div.sk-parallel-item:only-child::after {width: 0;}#sk-container-id-2 div.sk-dashed-wrapped {border: 1px dashed gray;margin: 0 0.4em 0.5em 0.4em;box-sizing: border-box;padding-bottom: 0.4em;background-color: white;}#sk-container-id-2 div.sk-label label {font-family: monospace;font-weight: bold;display: inline-block;line-height: 1.2em;}#sk-container-id-2 div.sk-label-container {text-align: center;}#sk-container-id-2 div.sk-container {/* jupyter's `normalize.less` sets `[hidden] { display: none; }` but bootstrap.min.css set `[hidden] { display: none !important; }` so we also need the `!important` here to be able to override the default hidden behavior on the sphinx rendered scikit-learn.org. See: https://github.com/scikit-learn/scikit-learn/issues/21755 */display: inline-block !important;position: relative;}#sk-container-id-2 div.sk-text-repr-fallback {display: none;}</style><div id=\"sk-container-id-2\" class=\"sk-top-container\"><div class=\"sk-text-repr-fallback\"><pre>MLPClassifier(hidden_layer_sizes=(30, 30, 30))</pre><b>In a Jupyter environment, please rerun this cell to show the HTML representation or trust the notebook. <br />On GitHub, the HTML representation is unable to render, please try loading this page with nbviewer.org.</b></div><div class=\"sk-container\" hidden><div class=\"sk-item\"><div class=\"sk-estimator sk-toggleable\"><input class=\"sk-toggleable__control sk-hidden--visually\" id=\"sk-estimator-id-2\" type=\"checkbox\" checked><label for=\"sk-estimator-id-2\" class=\"sk-toggleable__label sk-toggleable__label-arrow\">MLPClassifier</label><div class=\"sk-toggleable__content\"><pre>MLPClassifier(hidden_layer_sizes=(30, 30, 30))</pre></div></div></div></div></div>"
      ],
      "text/plain": [
       "MLPClassifier(hidden_layer_sizes=(30, 30, 30))"
      ]
     },
     "execution_count": 10,
     "metadata": {},
     "output_type": "execute_result"
    }
   ],
   "source": [
    "mlp.fit(X_train_transformed, y_train)"
   ]
  },
  {
   "cell_type": "markdown",
   "metadata": {},
   "source": [
    "**Q:** What do you see in the output? What does it tell you?"
   ]
  },
  {
   "cell_type": "markdown",
   "metadata": {},
   "source": [
    "#### Predictions and Evaluation\n",
    " \n",
    "Now that we have a model it is time to use it to get predictions! We can do this simply with the predict() method off of our fitted model:"
   ]
  },
  {
   "cell_type": "code",
   "execution_count": 11,
   "metadata": {},
   "outputs": [
    {
     "data": {
      "text/plain": [
       "array([1, 1, 0, 1, 0, 0, 0, 1, 0, 0, 1, 1, 1, 1, 0, 1, 1, 1, 1, 0, 0, 1,\n",
       "       1, 1, 1, 0, 0, 1, 1, 0, 1, 1, 1, 1, 0, 1, 0, 1, 1, 1, 1, 1, 1, 1,\n",
       "       1, 0, 1, 1, 1, 1, 0, 1, 1, 1, 0, 1, 0, 1, 1, 0, 1, 1, 1, 1, 0, 1,\n",
       "       0, 1, 1, 1, 0, 1, 1, 0, 1, 1, 1, 0, 1, 1, 0, 1, 1, 1, 1, 0, 1, 0,\n",
       "       1, 0, 0, 1, 1, 1, 1, 1, 1, 0, 1, 1, 1, 1, 1, 1, 0, 1, 1, 0, 1, 0,\n",
       "       1, 1, 1, 0, 1, 0, 0, 1, 1, 1, 1, 0, 1, 0, 0, 1, 0, 0, 1, 1, 1, 0,\n",
       "       0, 0, 1, 1, 1, 0, 1, 1, 1, 1, 1])"
      ]
     },
     "execution_count": 11,
     "metadata": {},
     "output_type": "execute_result"
    }
   ],
   "source": [
    "y_pred = mlp.predict(X_test_transformed)\n",
    "y_pred"
   ]
  },
  {
   "cell_type": "markdown",
   "metadata": {},
   "source": [
    "Now we can use SciKit-Learn's built in metrics such as a classification report and confusion matrix to evaluate how well our model performed:"
   ]
  },
  {
   "cell_type": "code",
   "execution_count": 12,
   "metadata": {},
   "outputs": [
    {
     "name": "stdout",
     "output_type": "stream",
     "text": [
      "[[45  7]\n",
      " [ 0 91]]\n",
      "              precision    recall  f1-score   support\n",
      "\n",
      "           0       1.00      0.87      0.93        52\n",
      "           1       0.93      1.00      0.96        91\n",
      "\n",
      "    accuracy                           0.95       143\n",
      "   macro avg       0.96      0.93      0.95       143\n",
      "weighted avg       0.95      0.95      0.95       143\n",
      "\n"
     ]
    }
   ],
   "source": [
    "from sklearn.metrics import classification_report,confusion_matrix\n",
    "\n",
    "print(confusion_matrix(y_test, y_pred))\n",
    "\n",
    "print(classification_report(y_test, y_pred))"
   ]
  },
  {
   "cell_type": "markdown",
   "metadata": {},
   "source": [
    "**Q:** what conclusion can you make from the confusion matrix?"
   ]
  },
  {
   "cell_type": "markdown",
   "metadata": {},
   "source": [
    "#### Weights and biases\n",
    "\n",
    "The downside however to using a Multi-Layer Preceptron model is how difficult it is to interpret the model itself. The weights and biases won't be easily interpretable in relation to which features are important to the model itself.\n",
    "\n",
    "To extract the MLP weights and biases after training your model, you use its public attributes coefs_ and intercepts_."
   ]
  },
  {
   "cell_type": "code",
   "execution_count": 13,
   "metadata": {},
   "outputs": [
    {
     "data": {
      "text/plain": [
       "array([[-1.20962457e-01,  3.79080362e-02, -9.52223589e-02,\n",
       "         2.06961461e-01, -2.67149682e-01,  2.17801254e-01,\n",
       "        -7.80601794e-03, -8.58694275e-02,  2.57208210e-01,\n",
       "        -3.88849110e-02, -3.17519280e-01, -4.11738920e-02,\n",
       "        -1.12559062e-01, -2.15706127e-01,  1.88379964e-01,\n",
       "        -2.00196008e-01, -2.71399961e-01, -1.23042706e-01,\n",
       "         1.49592481e-01,  1.21038564e-01,  1.70979328e-01,\n",
       "         5.12460564e-03,  7.15706031e-02, -4.74034648e-02,\n",
       "        -2.16449477e-01, -3.00643740e-01, -1.70523389e-01,\n",
       "         1.03457085e-01,  2.17544456e-01, -7.79958586e-02],\n",
       "       [-2.95623488e-02, -5.91936886e-02,  1.45247923e-01,\n",
       "        -4.62336011e-02, -1.13118125e-01, -6.89137241e-02,\n",
       "         1.00788478e-01, -2.18879062e-01,  1.54537142e-01,\n",
       "         6.00636732e-02,  4.24197601e-02, -2.97185364e-01,\n",
       "        -2.79195058e-02,  9.63840191e-02, -2.46688812e-01,\n",
       "        -1.80610344e-02, -5.42686319e-03,  2.23211874e-01,\n",
       "        -2.43241330e-01, -3.57352931e-01,  2.01147450e-01,\n",
       "        -1.54724154e-01, -2.25223374e-01, -3.42740825e-02,\n",
       "         1.70069468e-03,  1.00573786e-01, -1.56248512e-01,\n",
       "         1.33946527e-01,  2.99089517e-01,  1.30748605e-01],\n",
       "       [-5.63423289e-02,  2.73233351e-02,  7.44628946e-02,\n",
       "        -1.51414823e-01, -8.57528977e-03, -2.81090584e-01,\n",
       "        -1.97232516e-01,  2.85163712e-01,  7.45411003e-02,\n",
       "        -2.84268202e-01, -3.06701563e-01, -3.69296553e-01,\n",
       "        -2.57082848e-01, -2.04800315e-01,  2.60005389e-01,\n",
       "        -3.57502426e-01,  3.81920855e-03,  5.46639109e-02,\n",
       "         1.50152231e-01, -1.26738970e-01, -2.30022701e-01,\n",
       "        -3.47093484e-01,  1.09073203e-01, -1.29924469e-01,\n",
       "        -8.76650560e-03,  1.97991059e-01, -2.01106127e-01,\n",
       "         1.07625833e-01,  1.34726771e-01,  3.14088406e-01],\n",
       "       [ 1.55792085e-01, -2.21918858e-01, -2.83384539e-01,\n",
       "         6.42647071e-02,  3.58154451e-02,  6.00489157e-02,\n",
       "         1.99802323e-02,  1.43977948e-01,  3.42624473e-01,\n",
       "         2.87090176e-01, -9.75920675e-02, -3.04605208e-01,\n",
       "        -9.37718121e-02, -2.52724520e-01,  2.79799172e-01,\n",
       "        -1.68945258e-01, -2.46720148e-01, -1.33674063e-01,\n",
       "        -1.62626137e-01, -7.25385222e-02,  4.06931641e-02,\n",
       "        -3.63504054e-01,  1.67824721e-01,  2.20260412e-01,\n",
       "         2.47526380e-01, -3.04736638e-01, -1.80242051e-01,\n",
       "         1.59367876e-01,  3.27751208e-01,  3.03973255e-01],\n",
       "       [-1.44836123e-01,  7.27531604e-02,  1.51532263e-01,\n",
       "         8.17079909e-04, -2.66584241e-01,  2.06243970e-01,\n",
       "        -1.96395391e-01, -1.32433682e-01, -1.88167645e-01,\n",
       "        -2.37061131e-01, -2.31954116e-01,  2.28583265e-01,\n",
       "        -7.46631095e-02, -2.12067524e-01, -3.33399731e-01,\n",
       "        -2.94459215e-02, -6.73756045e-03, -1.10979909e-01,\n",
       "         6.68359414e-02,  1.95103673e-01, -2.57753984e-01,\n",
       "        -4.41095035e-02,  3.34366519e-01,  2.60940041e-01,\n",
       "         1.87024495e-01,  2.23250858e-01, -2.61657603e-01,\n",
       "        -2.15105717e-02, -3.93790846e-02, -2.12936045e-01],\n",
       "       [ 2.77679161e-01,  2.01189508e-02, -1.92028293e-01,\n",
       "        -2.10628770e-01,  2.98433600e-01, -1.49688447e-01,\n",
       "         2.22339611e-01,  1.29389668e-01, -1.44974350e-01,\n",
       "         1.61689166e-01,  1.53578116e-01, -9.55872876e-02,\n",
       "         1.13957427e-01, -8.83186475e-02,  2.52311925e-01,\n",
       "        -3.26311400e-01,  2.29118879e-01,  3.18766291e-01,\n",
       "        -2.91162837e-01, -1.00134045e-01,  2.70530044e-01,\n",
       "        -2.82191931e-01,  2.78814581e-01,  1.91150919e-01,\n",
       "        -2.21273366e-01, -2.06780378e-01,  6.22991413e-02,\n",
       "         4.00010012e-03,  9.08212122e-02,  1.54085693e-01],\n",
       "       [ 7.80501597e-04, -1.06698628e-01, -7.07626001e-02,\n",
       "        -9.75635616e-02, -3.79073668e-01, -2.36662754e-01,\n",
       "        -1.45190420e-01, -2.01996143e-02, -5.74669060e-02,\n",
       "        -2.19943950e-01, -9.54238501e-02, -3.30986124e-01,\n",
       "         4.48195402e-02, -9.98932785e-02, -2.04523461e-01,\n",
       "        -3.08463654e-01, -2.63640726e-01,  2.04973249e-02,\n",
       "         2.94921198e-01, -2.15840288e-02,  2.35379674e-02,\n",
       "        -3.29367043e-01, -8.61786490e-02, -2.55221461e-01,\n",
       "         3.35911102e-01, -1.02240911e-01, -3.73021798e-01,\n",
       "         2.59725784e-02,  1.33770126e-01,  1.97186495e-01],\n",
       "       [-2.06310927e-01, -1.55225526e-01, -3.58676382e-01,\n",
       "        -2.92354150e-01,  9.75789142e-02, -2.73521133e-01,\n",
       "        -3.44857594e-02,  5.57863901e-02, -4.55770854e-02,\n",
       "        -1.50339343e-01, -4.01473922e-02,  1.77689625e-01,\n",
       "         7.64867077e-02, -2.63036244e-01,  2.49938035e-01,\n",
       "        -2.80763593e-01,  1.38848983e-01,  9.39587914e-02,\n",
       "         9.39053258e-02,  1.26722652e-01, -2.66293037e-01,\n",
       "        -2.58031771e-01, -1.71511502e-02,  1.76808787e-03,\n",
       "         3.67753484e-01,  2.65263908e-01,  1.26532299e-01,\n",
       "         1.84639687e-01,  3.45116140e-01,  3.29120861e-01],\n",
       "       [ 2.84613310e-01,  2.98756305e-01,  1.60551286e-01,\n",
       "        -6.16357280e-02, -2.75212348e-01,  9.06599580e-02,\n",
       "        -1.46112930e-01, -2.47932862e-01, -6.39498729e-02,\n",
       "         1.21462033e-01, -3.89089430e-01, -2.30945425e-01,\n",
       "        -3.38755679e-01,  2.33239852e-01, -1.93944569e-01,\n",
       "        -2.43823170e-01, -1.18912783e-01, -9.58648457e-02,\n",
       "         8.16009096e-02,  2.21543741e-01,  1.37233246e-01,\n",
       "         1.71366056e-01, -1.94114491e-01, -1.18943103e-01,\n",
       "         1.52344052e-01, -2.24745676e-01, -1.04315181e-01,\n",
       "        -4.16167924e-02,  1.33811249e-01, -2.41683196e-01],\n",
       "       [-3.05283292e-01,  3.56762216e-01, -2.10010283e-01,\n",
       "        -2.64025544e-01, -1.14899718e-01,  2.16811265e-01,\n",
       "         7.84764889e-02, -2.20144682e-01, -2.63645100e-01,\n",
       "         2.86175190e-01,  2.44080927e-02,  2.28423507e-01,\n",
       "        -1.52311788e-01,  2.19652664e-01, -1.60614605e-01,\n",
       "         4.33038738e-02, -1.76925490e-02, -1.89592884e-01,\n",
       "        -3.45007537e-02, -9.17439374e-02,  1.44321453e-01,\n",
       "        -2.26239850e-02,  1.45034941e-01, -1.15757313e-01,\n",
       "        -1.32471606e-01,  6.48921027e-02, -7.75881366e-02,\n",
       "         1.13778580e-01,  1.77015112e-01, -1.57854699e-01],\n",
       "       [ 3.86414622e-01, -3.30163566e-01,  1.00066674e-01,\n",
       "        -7.27776520e-02, -3.98896575e-01, -3.60021931e-01,\n",
       "         2.15169891e-01,  3.08759495e-01,  2.79511306e-02,\n",
       "         2.99475666e-01, -2.59469901e-01, -4.64014999e-02,\n",
       "        -3.36679388e-01,  6.09931373e-02, -2.46179974e-01,\n",
       "        -1.25467469e-01, -2.14615057e-01, -1.20676534e-02,\n",
       "         1.62177623e-01,  1.36313039e-01,  4.43471116e-02,\n",
       "         1.46087451e-02, -3.85825294e-03, -1.13538424e-01,\n",
       "         5.26335539e-02, -3.20921009e-01,  1.52852510e-01,\n",
       "        -2.41739498e-01,  4.03540132e-01,  2.30830217e-01],\n",
       "       [ 2.62707994e-01, -1.64985164e-01,  1.11839177e-01,\n",
       "         1.46999729e-01,  2.94960197e-01,  2.37734478e-01,\n",
       "         7.10036324e-02, -2.79820003e-01,  1.17168491e-01,\n",
       "         2.51748633e-01,  5.99822507e-02, -3.71447900e-01,\n",
       "         3.73144207e-02, -1.58303564e-02,  1.42021771e-01,\n",
       "         2.17537163e-01, -4.29995059e-03,  1.32680501e-01,\n",
       "        -3.73204792e-02, -2.61561048e-01,  7.62961359e-02,\n",
       "         1.61562599e-01,  1.35204871e-01, -2.46030645e-01,\n",
       "         1.40144744e-01,  2.17546968e-01, -3.05641870e-02,\n",
       "         1.96860203e-01, -8.66790785e-02,  1.98685593e-01],\n",
       "       [-3.94270803e-02, -1.32110468e-01, -3.26278800e-02,\n",
       "         1.38488686e-01, -2.82196682e-01,  3.16577383e-02,\n",
       "         1.76844820e-01, -6.11946394e-03, -9.35545703e-02,\n",
       "         3.13090453e-01,  1.01426240e-01,  9.98801320e-02,\n",
       "        -1.91601599e-03,  1.43195287e-01, -1.64088894e-01,\n",
       "        -2.52842298e-01,  1.32099638e-01, -1.05169847e-01,\n",
       "         9.70452908e-02, -1.77026293e-01, -1.01927492e-02,\n",
       "         4.50149727e-03,  4.54922967e-02, -1.30427423e-01,\n",
       "         3.30087576e-01,  6.62577609e-02, -3.51137279e-01,\n",
       "        -2.70683606e-01,  1.08035769e-02, -1.95147832e-01],\n",
       "       [ 1.86318603e-01, -1.20428636e-01, -3.35873785e-01,\n",
       "         3.68686440e-01, -1.87126647e-01,  2.38494563e-01,\n",
       "        -1.81777735e-01,  2.47844863e-01,  1.48489817e-01,\n",
       "        -9.44462545e-02, -3.18062744e-02,  1.42218654e-01,\n",
       "         3.26659272e-02,  1.08556255e-01, -2.59274407e-02,\n",
       "         7.95195145e-02, -3.39566527e-02, -1.01947385e-01,\n",
       "        -8.90847225e-02, -1.52709693e-01, -2.70115057e-01,\n",
       "         1.46532259e-01, -2.61890397e-01, -1.27824068e-01,\n",
       "         4.74045989e-02, -7.83821830e-02,  1.70829079e-01,\n",
       "        -2.65872742e-01,  8.37143489e-02,  3.50919724e-01],\n",
       "       [-2.27640804e-01,  3.11846174e-01, -2.55668250e-02,\n",
       "         3.51188025e-01, -2.99858481e-01,  2.69919929e-01,\n",
       "        -1.26995055e-01, -1.81831237e-01,  2.28204213e-01,\n",
       "        -1.06184201e-01, -1.85334894e-01, -3.29894256e-01,\n",
       "         1.70958388e-01,  1.56321803e-01,  1.37335010e-02,\n",
       "         2.45388309e-02, -3.59525860e-01, -2.45859616e-01,\n",
       "         4.27578075e-02,  6.91903000e-02,  2.51308246e-01,\n",
       "         2.45649220e-01,  2.30611719e-01,  1.92638457e-01,\n",
       "         5.01842693e-02,  1.43373768e-01, -2.55996748e-01,\n",
       "         1.38102484e-01, -2.20053495e-01,  2.42680347e-01],\n",
       "       [ 6.68241721e-02, -6.20820620e-02, -8.10560625e-02,\n",
       "         1.09687542e-01,  3.21350696e-01,  1.64890127e-01,\n",
       "         7.65163373e-02, -2.03622755e-02, -5.78170012e-02,\n",
       "        -3.14898651e-01, -1.35803533e-01,  1.19552848e-01,\n",
       "         2.80879034e-01, -8.37814315e-02, -2.48895819e-01,\n",
       "         2.19916275e-01, -2.00965200e-01,  6.57199320e-02,\n",
       "        -1.74105404e-01,  8.66735546e-02,  3.70209111e-01,\n",
       "         3.00986625e-01,  2.35995016e-01,  2.99317357e-02,\n",
       "        -2.05107244e-01, -1.88121542e-01,  3.23100416e-01,\n",
       "         2.81622571e-01, -3.83002613e-01,  3.88209633e-02],\n",
       "       [ 1.68135004e-02,  1.93423763e-01, -2.09036188e-01,\n",
       "        -9.56542234e-02, -3.35583504e-01,  1.43701297e-01,\n",
       "         1.47445151e-01,  3.55383892e-03,  2.29944994e-01,\n",
       "        -1.00178668e-01,  9.08111177e-02, -4.21752452e-03,\n",
       "        -3.00223117e-01, -1.78862242e-01, -8.61355352e-02,\n",
       "        -2.89137460e-01, -3.20846718e-01,  7.08861671e-02,\n",
       "         1.26375407e-01,  2.75595719e-01,  1.16859588e-01,\n",
       "         2.49154208e-02,  1.03005955e-01,  2.96482147e-01,\n",
       "        -9.59914220e-02, -1.42271965e-01, -2.38208099e-01,\n",
       "        -2.68954264e-01, -2.63559515e-01,  4.09487888e-02],\n",
       "       [-1.29616666e-01,  2.30106821e-01,  6.62130484e-02,\n",
       "         2.24782676e-01,  1.32006265e-01,  9.10577596e-03,\n",
       "        -1.83812622e-01, -1.49528194e-02,  1.15127785e-01,\n",
       "         1.61280043e-01, -3.16417506e-01, -8.47669377e-02,\n",
       "        -7.13440169e-02,  6.36767736e-02, -2.74889750e-01,\n",
       "        -1.28539614e-02, -1.97740300e-01, -2.85744700e-01,\n",
       "        -2.98516849e-02, -8.78104964e-03,  2.43441818e-02,\n",
       "        -1.13965457e-01,  1.61904314e-01,  2.51164212e-01,\n",
       "         2.57874061e-01, -6.03427145e-02,  1.64789131e-01,\n",
       "         1.96709746e-01,  2.58785873e-01,  3.68742561e-01],\n",
       "       [-1.81259465e-03, -2.73706779e-01,  1.18271076e-01,\n",
       "         7.64297002e-02, -1.60778965e-01,  1.56297791e-01,\n",
       "        -3.38490217e-01,  2.86706361e-01, -2.70167712e-01,\n",
       "         1.11161523e-01,  1.71612152e-01,  2.13339633e-01,\n",
       "         2.26927913e-01,  2.92736228e-01,  5.47120341e-02,\n",
       "        -2.50800184e-01, -1.31834762e-01, -1.32849937e-01,\n",
       "         1.61333847e-02,  7.49972262e-02,  6.17845654e-02,\n",
       "         3.27604075e-02, -2.32336549e-01, -2.84914625e-01,\n",
       "         1.80718681e-01,  1.95885321e-01,  6.15705345e-02,\n",
       "         3.54984630e-01, -2.82704854e-01,  1.20796446e-01],\n",
       "       [ 1.62562438e-02,  3.75391566e-01,  3.37103406e-01,\n",
       "        -1.17945272e-01, -7.83494508e-02, -1.29899464e-01,\n",
       "        -1.81384864e-01, -3.08332560e-01,  5.69379888e-02,\n",
       "         7.15973996e-02, -3.42276180e-02,  1.44360637e-01,\n",
       "         1.36889202e-01,  1.36298404e-02,  1.77409272e-02,\n",
       "        -2.74142498e-01, -1.46017715e-01,  8.54023304e-02,\n",
       "        -1.83692444e-01, -4.36283599e-02,  4.42159161e-02,\n",
       "         1.94558711e-01, -1.08865301e-01, -2.13281836e-01,\n",
       "        -1.33201247e-01,  9.01613023e-02,  3.23472359e-01,\n",
       "         2.96393551e-01,  1.61253493e-01, -6.02609106e-02],\n",
       "       [ 2.81747499e-01, -3.22939752e-01, -1.84168647e-01,\n",
       "        -1.92571111e-01, -4.81589267e-02, -2.63713990e-01,\n",
       "         1.60369064e-01,  2.97794709e-01,  1.82375519e-01,\n",
       "        -2.64200570e-01,  4.83507264e-02, -3.13422043e-01,\n",
       "        -1.44375369e-01,  1.04270613e-01,  4.58556070e-02,\n",
       "        -1.72326122e-01,  1.11229500e-01,  1.42194276e-01,\n",
       "         1.57570528e-02, -2.01572575e-01, -7.34026912e-02,\n",
       "         1.41878603e-01, -1.62774651e-02,  2.41212947e-01,\n",
       "         2.22072279e-01,  1.86967152e-01, -1.59427976e-01,\n",
       "        -1.59180872e-01, -1.71928687e-01,  2.47932925e-01],\n",
       "       [ 2.09177188e-01,  1.86122888e-01, -1.38055286e-01,\n",
       "        -4.41624098e-02, -1.51505966e-01, -4.38718684e-01,\n",
       "        -1.89539145e-01,  2.33102304e-01, -1.66186769e-01,\n",
       "         2.14100287e-01, -3.64062554e-01, -6.75496095e-02,\n",
       "         2.65125011e-01,  2.94684762e-01, -7.25466322e-02,\n",
       "        -2.30400142e-01,  1.15075458e-01,  3.46189959e-01,\n",
       "        -9.45003804e-02, -3.53668984e-01, -2.22677635e-01,\n",
       "         1.36536105e-01,  3.46531832e-01,  1.77112336e-01,\n",
       "         2.05471536e-01, -2.92808867e-01, -1.53895643e-01,\n",
       "        -1.83951189e-02,  3.62750931e-01,  1.82119513e-01],\n",
       "       [ 3.13091659e-01, -2.35852925e-01, -1.15051778e-01,\n",
       "         3.37314706e-01, -3.41309012e-01, -1.96186273e-01,\n",
       "         1.81987380e-01, -1.22818381e-01, -8.92400454e-02,\n",
       "         1.33824049e-01, -1.55079501e-01,  2.40463045e-02,\n",
       "        -4.00133281e-01,  3.37976467e-01,  1.10243264e-01,\n",
       "        -3.78846807e-01,  1.66106412e-01, -2.04693665e-01,\n",
       "        -1.31868871e-01,  2.83024407e-02,  2.03885113e-01,\n",
       "        -3.61507550e-01,  3.33267299e-01,  1.53923767e-01,\n",
       "         2.13818597e-02, -3.17006230e-01,  1.05471082e-01,\n",
       "        -2.17593397e-01, -1.17420994e-01,  2.81480231e-03],\n",
       "       [-1.67007220e-01, -4.52765782e-02, -3.12430394e-01,\n",
       "         1.63371378e-01, -4.37321936e-01, -1.58352909e-01,\n",
       "         3.08490746e-01, -2.78410024e-02,  1.62251421e-01,\n",
       "         1.80132732e-01,  9.14153832e-02, -1.39557110e-01,\n",
       "         8.65940955e-03, -1.42500786e-01,  2.39773839e-01,\n",
       "         1.98698634e-01, -2.77440751e-01,  7.27586838e-03,\n",
       "         8.44573298e-02,  2.66041723e-02,  2.20847680e-01,\n",
       "        -1.44007358e-01, -1.84967111e-01, -4.24764360e-02,\n",
       "         1.96361865e-01, -3.76482926e-02, -3.75268828e-01,\n",
       "        -2.57362545e-01,  2.17926936e-01,  1.83160460e-01],\n",
       "       [-4.42231987e-02, -2.69924089e-01, -1.19549173e-01,\n",
       "        -2.70931587e-01, -1.78629193e-01, -3.27220659e-02,\n",
       "         1.28248853e-01,  4.67121620e-02,  2.85727829e-01,\n",
       "        -2.04203961e-01, -1.11975265e-01, -8.09231845e-02,\n",
       "        -2.93357160e-01,  1.65919531e-01, -3.26969808e-01,\n",
       "         6.30516018e-02,  2.81384809e-01,  2.82811340e-01,\n",
       "        -1.90827426e-01,  8.40915605e-02, -3.97404565e-01,\n",
       "        -1.41210861e-01,  6.84515380e-02, -1.65304081e-01,\n",
       "         2.85279829e-01,  2.69587576e-01, -1.02313390e-01,\n",
       "         1.86864631e-01,  2.80905651e-01,  1.06629433e-01],\n",
       "       [ 3.07931187e-01,  2.68542670e-01,  6.89522503e-02,\n",
       "        -1.35507812e-01,  1.60786693e-02, -2.09539226e-01,\n",
       "        -5.31287760e-02, -3.53898683e-02, -1.30833131e-01,\n",
       "         9.67997355e-02,  1.15646172e-01,  2.44041166e-01,\n",
       "         3.26470697e-02,  3.15880990e-02,  2.05105882e-01,\n",
       "        -3.09650017e-01, -8.40480076e-03,  8.89337875e-02,\n",
       "         7.92567869e-02, -3.10332583e-01, -2.80543570e-01,\n",
       "        -1.14506886e-01, -9.77199898e-02, -8.19994953e-02,\n",
       "        -6.01613737e-02, -2.63716408e-01,  6.08445262e-02,\n",
       "         1.31965980e-02, -9.81341105e-03,  6.74992297e-03],\n",
       "       [-2.01737260e-01,  1.10719143e-01, -2.75150550e-01,\n",
       "         1.32211600e-03,  7.49072178e-02,  1.21284851e-02,\n",
       "        -2.17026737e-01, -1.98040687e-01, -1.92875974e-01,\n",
       "        -1.55535002e-01,  1.70642733e-02, -1.94952887e-01,\n",
       "         1.01476087e-02,  1.92167718e-01, -1.95281544e-01,\n",
       "        -2.32940617e-01,  1.38204721e-01, -1.15868338e-01,\n",
       "        -2.65269450e-01, -1.12690074e-01, -2.28489556e-04,\n",
       "         2.15616941e-01,  8.56537832e-02,  3.14972961e-01,\n",
       "         2.50948526e-01, -1.39426781e-01, -1.91954531e-01,\n",
       "         5.54097832e-03, -4.69386269e-02,  2.06803485e-01],\n",
       "       [-7.66715477e-02, -1.36801085e-02, -3.35012469e-01,\n",
       "         2.08213333e-01, -2.51319048e-02,  2.32430617e-01,\n",
       "         1.94239094e-01,  3.62807212e-01,  2.32135699e-01,\n",
       "        -1.33972871e-01,  6.73856093e-02, -7.81699045e-02,\n",
       "        -1.87404066e-01, -2.13476694e-01, -1.90309034e-01,\n",
       "         1.96693675e-01, -2.70823832e-01, -5.92419791e-02,\n",
       "        -8.36422284e-02, -6.12096283e-02, -2.29429322e-01,\n",
       "        -8.67692618e-02,  3.90055576e-02, -1.17393711e-01,\n",
       "         3.96300297e-01, -2.15983413e-01, -2.00882818e-01,\n",
       "        -1.99834754e-01,  1.20742726e-01,  5.56450079e-02],\n",
       "       [ 3.44195635e-01,  1.08807984e-01,  2.18421779e-03,\n",
       "         1.35781483e-01, -2.79863888e-01, -1.64931033e-02,\n",
       "         3.37051537e-01, -6.25261082e-02, -5.20546428e-02,\n",
       "         2.23434339e-01, -1.38390514e-01, -6.21900856e-02,\n",
       "         2.22653668e-01,  3.37476259e-01, -1.90271576e-01,\n",
       "         1.79898257e-01,  9.47176499e-02,  1.24749493e-01,\n",
       "         3.09856273e-01, -2.18599617e-01, -1.40807242e-01,\n",
       "        -3.01701386e-01,  2.74630566e-01,  1.79736767e-01,\n",
       "         1.88850098e-01,  1.99086285e-01,  1.15664075e-01,\n",
       "        -2.07266985e-01,  8.93915603e-02,  1.13264348e-01],\n",
       "       [-9.09239261e-02, -1.62631697e-02,  3.52162142e-02,\n",
       "        -1.81880981e-01,  2.02722123e-01, -1.02459388e-03,\n",
       "         2.35959828e-01,  2.14403037e-01,  1.35960047e-01,\n",
       "        -2.69676794e-01, -4.08304966e-01, -2.32255077e-01,\n",
       "         2.56880813e-01,  2.58289828e-01, -1.18596085e-02,\n",
       "        -3.43790814e-01,  1.87902544e-01, -7.71112041e-02,\n",
       "         2.16519948e-01,  3.10400463e-01,  1.71636056e-01,\n",
       "        -1.96216294e-01,  3.17615516e-01,  2.49016984e-01,\n",
       "         1.69541967e-02, -2.52325233e-01,  5.66620612e-02,\n",
       "        -1.03283797e-01,  6.69813389e-02, -1.93765701e-01]])"
      ]
     },
     "execution_count": 13,
     "metadata": {},
     "output_type": "execute_result"
    }
   ],
   "source": [
    "# Print the coefficient values and interpret it\n",
    "\n",
    "coefficients = mlp.coefs_[0]\n",
    "coefficients"
   ]
  },
  {
   "cell_type": "code",
   "execution_count": 14,
   "metadata": {},
   "outputs": [
    {
     "data": {
      "text/plain": [
       "30"
      ]
     },
     "execution_count": 14,
     "metadata": {},
     "output_type": "execute_result"
    }
   ],
   "source": [
    "len(coefficients)"
   ]
  },
  {
   "cell_type": "code",
   "execution_count": 15,
   "metadata": {},
   "outputs": [
    {
     "data": {
      "text/plain": [
       "array([ 0.2601649 ,  0.19751712,  0.22924852, -0.04097408,  0.19407671,\n",
       "       -0.09669076, -0.14411879,  0.3861132 , -0.07689121,  0.16068376,\n",
       "       -0.19028552,  0.02001402, -0.06931704,  0.05647909,  0.06633307,\n",
       "        0.21271881, -0.16759769, -0.18336963, -0.08017066, -0.11467018,\n",
       "        0.33614298, -0.18520528,  0.19741961,  0.17152835,  0.36039939,\n",
       "       -0.08611969,  0.14616534, -0.18519178, -0.04129569,  0.18278985])"
      ]
     },
     "execution_count": 15,
     "metadata": {},
     "output_type": "execute_result"
    }
   ],
   "source": [
    "# Print the intercepts values and interpret it\n",
    "\n",
    "interprets = mlp.intercepts_[0]\n",
    "interprets"
   ]
  },
  {
   "cell_type": "code",
   "execution_count": 16,
   "metadata": {},
   "outputs": [
    {
     "data": {
      "text/plain": [
       "30"
      ]
     },
     "execution_count": 16,
     "metadata": {},
     "output_type": "execute_result"
    }
   ],
   "source": [
    "len(interprets)"
   ]
  },
  {
   "cell_type": "markdown",
   "metadata": {},
   "source": [
    "**Q:** What do you understand from the two values?"
   ]
  }
 ],
 "metadata": {
  "kernelspec": {
   "display_name": "Python 3 (ipykernel)",
   "language": "python",
   "name": "python3"
  },
  "language_info": {
   "codemirror_mode": {
    "name": "ipython",
    "version": 3
   },
   "file_extension": ".py",
   "mimetype": "text/x-python",
   "name": "python",
   "nbconvert_exporter": "python",
   "pygments_lexer": "ipython3",
   "version": "3.10.9"
  }
 },
 "nbformat": 4,
 "nbformat_minor": 4
}
