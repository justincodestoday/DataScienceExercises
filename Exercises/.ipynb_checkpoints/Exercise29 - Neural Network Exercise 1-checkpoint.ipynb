{
 "cells": [
  {
   "cell_type": "markdown",
   "metadata": {},
   "source": [
    "<img src=\"https://i.imgur.com/FoKB5Z5.png\" align=\"left\" width=\"300\" height=\"250\" title=\"source: imgur.com\" /></a>"
   ]
  },
  {
   "cell_type": "markdown",
   "metadata": {},
   "source": [
    "## Program Code: J620-002-4:2020 \n",
    "\n",
    "## Program Name: FRONT-END SOFTWARE DEVELOPMENT\n",
    "\n",
    "## Title : Exe29 - Neural Network Exercise 1\n",
    "\n",
    "#### Name: \n",
    "\n",
    "#### IC Number:\n",
    "\n",
    "#### Date : 31/7/2023\n",
    "\n",
    "#### Introduction : \n",
    "\n",
    "\n",
    "\n",
    "#### Conclusion :\n",
    "\n",
    "\n",
    "\n",
    "\n"
   ]
  },
  {
   "cell_type": "markdown",
   "metadata": {},
   "source": [
    "## Neural Network Introduction\n",
    "\n",
    "This exercise is adapted from https://www.kdnuggets.com/2016/10/beginners-guide-neural-networks-python-scikit-learn.html"
   ]
  },
  {
   "cell_type": "markdown",
   "metadata": {},
   "source": [
    "We'll use SciKit Learn's built in Breast Cancer Data Set which has several features of tumors with a labeled class indicating whether the tumor was Malignant or Benign. We will try to create a neural network model that can take in these features and attempt to predict malignant or benign labels for tumors it has not seen before. Let's go ahead and start by getting the data!\n",
    "\n"
   ]
  },
  {
   "cell_type": "code",
   "execution_count": 1,
   "metadata": {},
   "outputs": [],
   "source": [
    "from sklearn.datasets import load_breast_cancer\n",
    "\n",
    "data = load_breast_cancer()"
   ]
  },
  {
   "cell_type": "markdown",
   "metadata": {},
   "source": [
    "This object is like a dictionary, it contains a description of the data and the features and targets:"
   ]
  },
  {
   "cell_type": "code",
   "execution_count": 2,
   "metadata": {},
   "outputs": [
    {
     "data": {
      "text/plain": [
       "dict_keys(['data', 'target', 'frame', 'target_names', 'DESCR', 'feature_names', 'filename', 'data_module'])"
      ]
     },
     "execution_count": 2,
     "metadata": {},
     "output_type": "execute_result"
    }
   ],
   "source": [
    "# find out the attributes in the dataset\n",
    "\n",
    "data.keys()"
   ]
  },
  {
   "cell_type": "code",
   "execution_count": 3,
   "metadata": {},
   "outputs": [
    {
     "data": {
      "text/plain": [
       "(569, 30)"
      ]
     },
     "execution_count": 3,
     "metadata": {},
     "output_type": "execute_result"
    }
   ],
   "source": [
    "# find out the total instances and number of features\n",
    "\n",
    "data.data.shape"
   ]
  },
  {
   "cell_type": "markdown",
   "metadata": {},
   "source": [
    "Set up the data (x) and labels (y)"
   ]
  },
  {
   "cell_type": "code",
   "execution_count": 4,
   "metadata": {},
   "outputs": [],
   "source": [
    "X = data.data\n",
    "y = data.target"
   ]
  },
  {
   "cell_type": "markdown",
   "metadata": {},
   "source": [
    "#### Train Test Split\n",
    " \n",
    "Let's split our data into training and testing sets, this is done easily with SciKit Learn's train_test_split function from model_selection:"
   ]
  },
  {
   "cell_type": "code",
   "execution_count": 5,
   "metadata": {},
   "outputs": [],
   "source": [
    "from sklearn.model_selection import train_test_split\n",
    "\n",
    "X_train, X_test, y_train, y_test = train_test_split(X, y)"
   ]
  },
  {
   "cell_type": "markdown",
   "metadata": {},
   "source": [
    "#### Data Preprocessing\n",
    " \n",
    "The neural network may have difficulty converging before the maximum number of iterations allowed if the data is not normalized. Multi-layer Perceptron is sensitive to feature scaling, so it is highly recommended to scale your data. Note that you must apply the same scaling to the test set for meaningful results. There are a lot of different methods for normalization of data, we will use the built-in StandardScaler for standardization."
   ]
  },
  {
   "cell_type": "code",
   "execution_count": 6,
   "metadata": {},
   "outputs": [
    {
     "data": {
      "text/html": [
       "<style>#sk-container-id-1 {color: black;background-color: white;}#sk-container-id-1 pre{padding: 0;}#sk-container-id-1 div.sk-toggleable {background-color: white;}#sk-container-id-1 label.sk-toggleable__label {cursor: pointer;display: block;width: 100%;margin-bottom: 0;padding: 0.3em;box-sizing: border-box;text-align: center;}#sk-container-id-1 label.sk-toggleable__label-arrow:before {content: \"▸\";float: left;margin-right: 0.25em;color: #696969;}#sk-container-id-1 label.sk-toggleable__label-arrow:hover:before {color: black;}#sk-container-id-1 div.sk-estimator:hover label.sk-toggleable__label-arrow:before {color: black;}#sk-container-id-1 div.sk-toggleable__content {max-height: 0;max-width: 0;overflow: hidden;text-align: left;background-color: #f0f8ff;}#sk-container-id-1 div.sk-toggleable__content pre {margin: 0.2em;color: black;border-radius: 0.25em;background-color: #f0f8ff;}#sk-container-id-1 input.sk-toggleable__control:checked~div.sk-toggleable__content {max-height: 200px;max-width: 100%;overflow: auto;}#sk-container-id-1 input.sk-toggleable__control:checked~label.sk-toggleable__label-arrow:before {content: \"▾\";}#sk-container-id-1 div.sk-estimator input.sk-toggleable__control:checked~label.sk-toggleable__label {background-color: #d4ebff;}#sk-container-id-1 div.sk-label input.sk-toggleable__control:checked~label.sk-toggleable__label {background-color: #d4ebff;}#sk-container-id-1 input.sk-hidden--visually {border: 0;clip: rect(1px 1px 1px 1px);clip: rect(1px, 1px, 1px, 1px);height: 1px;margin: -1px;overflow: hidden;padding: 0;position: absolute;width: 1px;}#sk-container-id-1 div.sk-estimator {font-family: monospace;background-color: #f0f8ff;border: 1px dotted black;border-radius: 0.25em;box-sizing: border-box;margin-bottom: 0.5em;}#sk-container-id-1 div.sk-estimator:hover {background-color: #d4ebff;}#sk-container-id-1 div.sk-parallel-item::after {content: \"\";width: 100%;border-bottom: 1px solid gray;flex-grow: 1;}#sk-container-id-1 div.sk-label:hover label.sk-toggleable__label {background-color: #d4ebff;}#sk-container-id-1 div.sk-serial::before {content: \"\";position: absolute;border-left: 1px solid gray;box-sizing: border-box;top: 0;bottom: 0;left: 50%;z-index: 0;}#sk-container-id-1 div.sk-serial {display: flex;flex-direction: column;align-items: center;background-color: white;padding-right: 0.2em;padding-left: 0.2em;position: relative;}#sk-container-id-1 div.sk-item {position: relative;z-index: 1;}#sk-container-id-1 div.sk-parallel {display: flex;align-items: stretch;justify-content: center;background-color: white;position: relative;}#sk-container-id-1 div.sk-item::before, #sk-container-id-1 div.sk-parallel-item::before {content: \"\";position: absolute;border-left: 1px solid gray;box-sizing: border-box;top: 0;bottom: 0;left: 50%;z-index: -1;}#sk-container-id-1 div.sk-parallel-item {display: flex;flex-direction: column;z-index: 1;position: relative;background-color: white;}#sk-container-id-1 div.sk-parallel-item:first-child::after {align-self: flex-end;width: 50%;}#sk-container-id-1 div.sk-parallel-item:last-child::after {align-self: flex-start;width: 50%;}#sk-container-id-1 div.sk-parallel-item:only-child::after {width: 0;}#sk-container-id-1 div.sk-dashed-wrapped {border: 1px dashed gray;margin: 0 0.4em 0.5em 0.4em;box-sizing: border-box;padding-bottom: 0.4em;background-color: white;}#sk-container-id-1 div.sk-label label {font-family: monospace;font-weight: bold;display: inline-block;line-height: 1.2em;}#sk-container-id-1 div.sk-label-container {text-align: center;}#sk-container-id-1 div.sk-container {/* jupyter's `normalize.less` sets `[hidden] { display: none; }` but bootstrap.min.css set `[hidden] { display: none !important; }` so we also need the `!important` here to be able to override the default hidden behavior on the sphinx rendered scikit-learn.org. See: https://github.com/scikit-learn/scikit-learn/issues/21755 */display: inline-block !important;position: relative;}#sk-container-id-1 div.sk-text-repr-fallback {display: none;}</style><div id=\"sk-container-id-1\" class=\"sk-top-container\"><div class=\"sk-text-repr-fallback\"><pre>StandardScaler()</pre><b>In a Jupyter environment, please rerun this cell to show the HTML representation or trust the notebook. <br />On GitHub, the HTML representation is unable to render, please try loading this page with nbviewer.org.</b></div><div class=\"sk-container\" hidden><div class=\"sk-item\"><div class=\"sk-estimator sk-toggleable\"><input class=\"sk-toggleable__control sk-hidden--visually\" id=\"sk-estimator-id-1\" type=\"checkbox\" checked><label for=\"sk-estimator-id-1\" class=\"sk-toggleable__label sk-toggleable__label-arrow\">StandardScaler</label><div class=\"sk-toggleable__content\"><pre>StandardScaler()</pre></div></div></div></div></div>"
      ],
      "text/plain": [
       "StandardScaler()"
      ]
     },
     "execution_count": 6,
     "metadata": {},
     "output_type": "execute_result"
    }
   ],
   "source": [
    "# Import the StandardScalar library\n",
    "from sklearn.preprocessing import StandardScaler\n",
    "\n",
    "sc = StandardScaler()\n",
    "\n",
    "# Fit only to the training data\n",
    "sc.fit(X_train)"
   ]
  },
  {
   "cell_type": "code",
   "execution_count": 7,
   "metadata": {},
   "outputs": [],
   "source": [
    "# Now apply the transformations to the data:\n",
    "X_train_transformed = sc.transform(X_train)\n",
    "X_test_transformed = sc.transform(X_test)"
   ]
  },
  {
   "cell_type": "markdown",
   "metadata": {},
   "source": [
    "#### Training the model\n",
    " \n",
    "Now it is time to train our model. SciKit Learn makes this incredibly easy, by using estimator objects. In this case we will import our estimator (the Multi-Layer Perceptron Classifier model) from the neural_network library of SciKit-Learn!"
   ]
  },
  {
   "cell_type": "code",
   "execution_count": 8,
   "metadata": {},
   "outputs": [],
   "source": [
    "from sklearn.neural_network import MLPClassifier"
   ]
  },
  {
   "cell_type": "markdown",
   "metadata": {},
   "source": [
    "Next we create an instance of the model, there are a lot of parameters you can choose to define and customize here, we will only define the hidden_layer_sizes. For this parameter you pass in a tuple consisting of the number of neurons you want at each layer, where the nth entry in the tuple represents the number of neurons in the nth layer of the MLP model. There are many ways to choose these numbers, but for simplicity we will choose 3 layers with the same number of neurons as there are features in our data set:"
   ]
  },
  {
   "cell_type": "code",
   "execution_count": 9,
   "metadata": {},
   "outputs": [],
   "source": [
    "# create a Multilayerperceptron classifier and call it mlp\n",
    "mlp = MLPClassifier(hidden_layer_sizes = (30, 30, 30))"
   ]
  },
  {
   "cell_type": "markdown",
   "metadata": {},
   "source": [
    "Now that the model has been made we can fit the training data to our model, remember that this data has already been processed and scaled:"
   ]
  },
  {
   "cell_type": "code",
   "execution_count": 10,
   "metadata": {},
   "outputs": [
    {
     "name": "stderr",
     "output_type": "stream",
     "text": [
      "C:\\Users\\user\\anaconda3\\envs\\python-dscourse\\lib\\site-packages\\sklearn\\neural_network\\_multilayer_perceptron.py:686: ConvergenceWarning: Stochastic Optimizer: Maximum iterations (200) reached and the optimization hasn't converged yet.\n",
      "  warnings.warn(\n"
     ]
    },
    {
     "data": {
      "text/html": [
       "<style>#sk-container-id-2 {color: black;background-color: white;}#sk-container-id-2 pre{padding: 0;}#sk-container-id-2 div.sk-toggleable {background-color: white;}#sk-container-id-2 label.sk-toggleable__label {cursor: pointer;display: block;width: 100%;margin-bottom: 0;padding: 0.3em;box-sizing: border-box;text-align: center;}#sk-container-id-2 label.sk-toggleable__label-arrow:before {content: \"▸\";float: left;margin-right: 0.25em;color: #696969;}#sk-container-id-2 label.sk-toggleable__label-arrow:hover:before {color: black;}#sk-container-id-2 div.sk-estimator:hover label.sk-toggleable__label-arrow:before {color: black;}#sk-container-id-2 div.sk-toggleable__content {max-height: 0;max-width: 0;overflow: hidden;text-align: left;background-color: #f0f8ff;}#sk-container-id-2 div.sk-toggleable__content pre {margin: 0.2em;color: black;border-radius: 0.25em;background-color: #f0f8ff;}#sk-container-id-2 input.sk-toggleable__control:checked~div.sk-toggleable__content {max-height: 200px;max-width: 100%;overflow: auto;}#sk-container-id-2 input.sk-toggleable__control:checked~label.sk-toggleable__label-arrow:before {content: \"▾\";}#sk-container-id-2 div.sk-estimator input.sk-toggleable__control:checked~label.sk-toggleable__label {background-color: #d4ebff;}#sk-container-id-2 div.sk-label input.sk-toggleable__control:checked~label.sk-toggleable__label {background-color: #d4ebff;}#sk-container-id-2 input.sk-hidden--visually {border: 0;clip: rect(1px 1px 1px 1px);clip: rect(1px, 1px, 1px, 1px);height: 1px;margin: -1px;overflow: hidden;padding: 0;position: absolute;width: 1px;}#sk-container-id-2 div.sk-estimator {font-family: monospace;background-color: #f0f8ff;border: 1px dotted black;border-radius: 0.25em;box-sizing: border-box;margin-bottom: 0.5em;}#sk-container-id-2 div.sk-estimator:hover {background-color: #d4ebff;}#sk-container-id-2 div.sk-parallel-item::after {content: \"\";width: 100%;border-bottom: 1px solid gray;flex-grow: 1;}#sk-container-id-2 div.sk-label:hover label.sk-toggleable__label {background-color: #d4ebff;}#sk-container-id-2 div.sk-serial::before {content: \"\";position: absolute;border-left: 1px solid gray;box-sizing: border-box;top: 0;bottom: 0;left: 50%;z-index: 0;}#sk-container-id-2 div.sk-serial {display: flex;flex-direction: column;align-items: center;background-color: white;padding-right: 0.2em;padding-left: 0.2em;position: relative;}#sk-container-id-2 div.sk-item {position: relative;z-index: 1;}#sk-container-id-2 div.sk-parallel {display: flex;align-items: stretch;justify-content: center;background-color: white;position: relative;}#sk-container-id-2 div.sk-item::before, #sk-container-id-2 div.sk-parallel-item::before {content: \"\";position: absolute;border-left: 1px solid gray;box-sizing: border-box;top: 0;bottom: 0;left: 50%;z-index: -1;}#sk-container-id-2 div.sk-parallel-item {display: flex;flex-direction: column;z-index: 1;position: relative;background-color: white;}#sk-container-id-2 div.sk-parallel-item:first-child::after {align-self: flex-end;width: 50%;}#sk-container-id-2 div.sk-parallel-item:last-child::after {align-self: flex-start;width: 50%;}#sk-container-id-2 div.sk-parallel-item:only-child::after {width: 0;}#sk-container-id-2 div.sk-dashed-wrapped {border: 1px dashed gray;margin: 0 0.4em 0.5em 0.4em;box-sizing: border-box;padding-bottom: 0.4em;background-color: white;}#sk-container-id-2 div.sk-label label {font-family: monospace;font-weight: bold;display: inline-block;line-height: 1.2em;}#sk-container-id-2 div.sk-label-container {text-align: center;}#sk-container-id-2 div.sk-container {/* jupyter's `normalize.less` sets `[hidden] { display: none; }` but bootstrap.min.css set `[hidden] { display: none !important; }` so we also need the `!important` here to be able to override the default hidden behavior on the sphinx rendered scikit-learn.org. See: https://github.com/scikit-learn/scikit-learn/issues/21755 */display: inline-block !important;position: relative;}#sk-container-id-2 div.sk-text-repr-fallback {display: none;}</style><div id=\"sk-container-id-2\" class=\"sk-top-container\"><div class=\"sk-text-repr-fallback\"><pre>MLPClassifier(hidden_layer_sizes=(30, 30, 30))</pre><b>In a Jupyter environment, please rerun this cell to show the HTML representation or trust the notebook. <br />On GitHub, the HTML representation is unable to render, please try loading this page with nbviewer.org.</b></div><div class=\"sk-container\" hidden><div class=\"sk-item\"><div class=\"sk-estimator sk-toggleable\"><input class=\"sk-toggleable__control sk-hidden--visually\" id=\"sk-estimator-id-2\" type=\"checkbox\" checked><label for=\"sk-estimator-id-2\" class=\"sk-toggleable__label sk-toggleable__label-arrow\">MLPClassifier</label><div class=\"sk-toggleable__content\"><pre>MLPClassifier(hidden_layer_sizes=(30, 30, 30))</pre></div></div></div></div></div>"
      ],
      "text/plain": [
       "MLPClassifier(hidden_layer_sizes=(30, 30, 30))"
      ]
     },
     "execution_count": 10,
     "metadata": {},
     "output_type": "execute_result"
    }
   ],
   "source": [
    "mlp.fit(X_train_transformed, y_train)"
   ]
  },
  {
   "cell_type": "markdown",
   "metadata": {},
   "source": [
    "**Q:** What do you see in the output? What does it tell you?"
   ]
  },
  {
   "cell_type": "markdown",
   "metadata": {},
   "source": [
    "#### Predictions and Evaluation\n",
    " \n",
    "Now that we have a model it is time to use it to get predictions! We can do this simply with the predict() method off of our fitted model:"
   ]
  },
  {
   "cell_type": "code",
   "execution_count": 11,
   "metadata": {},
   "outputs": [
    {
     "data": {
      "text/plain": [
       "array([1, 0, 0, 1, 0, 0, 1, 1, 1, 1, 1, 0, 1, 1, 0, 1, 1, 1, 0, 1, 1, 1,\n",
       "       1, 1, 0, 0, 0, 0, 0, 1, 1, 1, 0, 1, 1, 1, 1, 1, 1, 1, 1, 1, 1, 0,\n",
       "       0, 1, 1, 1, 1, 1, 1, 1, 0, 1, 1, 1, 1, 1, 1, 0, 1, 1, 1, 1, 1, 1,\n",
       "       1, 1, 1, 1, 0, 0, 0, 1, 1, 1, 1, 1, 1, 0, 1, 1, 0, 1, 1, 0, 1, 1,\n",
       "       0, 1, 0, 1, 1, 1, 1, 0, 1, 0, 1, 1, 0, 1, 0, 1, 0, 0, 1, 0, 1, 1,\n",
       "       0, 1, 0, 0, 1, 1, 0, 0, 1, 0, 1, 1, 0, 0, 0, 0, 1, 1, 1, 1, 1, 0,\n",
       "       1, 1, 1, 1, 1, 1, 0, 1, 1, 1, 0])"
      ]
     },
     "execution_count": 11,
     "metadata": {},
     "output_type": "execute_result"
    }
   ],
   "source": [
    "y_pred = mlp.predict(X_test_transformed)\n",
    "y_pred"
   ]
  },
  {
   "cell_type": "markdown",
   "metadata": {},
   "source": [
    "Now we can use SciKit-Learn's built in metrics such as a classification report and confusion matrix to evaluate how well our model performed:"
   ]
  },
  {
   "cell_type": "code",
   "execution_count": 12,
   "metadata": {},
   "outputs": [
    {
     "name": "stdout",
     "output_type": "stream",
     "text": [
      "[[45  1]\n",
      " [ 0 97]]\n",
      "              precision    recall  f1-score   support\n",
      "\n",
      "           0       1.00      0.98      0.99        46\n",
      "           1       0.99      1.00      0.99        97\n",
      "\n",
      "    accuracy                           0.99       143\n",
      "   macro avg       0.99      0.99      0.99       143\n",
      "weighted avg       0.99      0.99      0.99       143\n",
      "\n"
     ]
    }
   ],
   "source": [
    "from sklearn.metrics import classification_report,confusion_matrix\n",
    "\n",
    "print(confusion_matrix(y_test, y_pred))\n",
    "\n",
    "print(classification_report(y_test, y_pred))"
   ]
  },
  {
   "cell_type": "markdown",
   "metadata": {},
   "source": [
    "**Q:** what conclusion can you make from the confusion matrix?"
   ]
  },
  {
   "cell_type": "markdown",
   "metadata": {},
   "source": [
    "#### Weights and biases\n",
    "\n",
    "The downside however to using a Multi-Layer Preceptron model is how difficult it is to interpret the model itself. The weights and biases won't be easily interpretable in relation to which features are important to the model itself.\n",
    "\n",
    "To extract the MLP weights and biases after training your model, you use its public attributes coefs_ and intercepts_."
   ]
  },
  {
   "cell_type": "code",
   "execution_count": 25,
   "metadata": {},
   "outputs": [
    {
     "data": {
      "text/plain": [
       "array([[ 0.06577017,  0.11997905, -0.25364509, -0.12791488,  0.15983255,\n",
       "         0.09927296,  0.25255219, -0.31110133,  0.03525216,  0.1191722 ,\n",
       "        -0.10593639,  0.09932944, -0.00433453,  0.20797557,  0.12002597,\n",
       "         0.06779558, -0.22255912, -0.00139148, -0.1395007 , -0.14673446,\n",
       "         0.2083502 , -0.09787424, -0.10619602,  0.38186635, -0.14985516,\n",
       "        -0.22664976, -0.14078137,  0.20161953, -0.07984533,  0.0955727 ],\n",
       "       [-0.12058292,  0.27171838, -0.04207982, -0.35352904,  0.19628604,\n",
       "        -0.03578405, -0.00794412, -0.28573668,  0.3146806 , -0.12388153,\n",
       "        -0.20794054,  0.17799524,  0.2002876 , -0.12166954,  0.18741423,\n",
       "        -0.03507903, -0.14412333, -0.26912731,  0.26707052, -0.25560811,\n",
       "        -0.07171859,  0.25824476, -0.15375661,  0.27459701, -0.04601827,\n",
       "        -0.14393383, -0.32537921, -0.2011287 ,  0.28550042,  0.01502069],\n",
       "       [-0.34466397,  0.14415132,  0.04944907, -0.16047138, -0.1541221 ,\n",
       "        -0.14486866,  0.2040582 , -0.03003435,  0.21759329, -0.28206568,\n",
       "        -0.04924632,  0.12475655,  0.03959723, -0.02320742, -0.08523712,\n",
       "        -0.11997969, -0.3032483 ,  0.14368316, -0.0006729 ,  0.17867419,\n",
       "        -0.21503298,  0.26255536,  0.29464312, -0.07791779, -0.12906335,\n",
       "        -0.13812091,  0.09105637,  0.2082499 , -0.00957224, -0.07781385],\n",
       "       [-0.22686497, -0.25678076,  0.29919258, -0.21237109,  0.03614389,\n",
       "         0.33154763,  0.2854266 , -0.09113639, -0.08059241,  0.2285174 ,\n",
       "        -0.27557757,  0.14015601, -0.12377967, -0.08090529, -0.08037835,\n",
       "        -0.23767416, -0.01095517, -0.10517512, -0.31619563, -0.17933437,\n",
       "        -0.20682931,  0.20593431, -0.10915678,  0.07551452, -0.02884042,\n",
       "        -0.11349022,  0.31489524,  0.03740647,  0.20563826, -0.01262718],\n",
       "       [-0.22078964, -0.20405953,  0.0182012 ,  0.22568458, -0.21767149,\n",
       "         0.14643367,  0.14034741,  0.17851829, -0.14954895,  0.20591532,\n",
       "         0.21618625,  0.09451315,  0.13551187,  0.15064538, -0.09678299,\n",
       "         0.31927018, -0.27719454,  0.07110729, -0.17391544,  0.26057131,\n",
       "         0.38230909,  0.24446912, -0.08788977, -0.10389181,  0.13868535,\n",
       "         0.15357823,  0.06834695, -0.03230091,  0.01897943, -0.10224387],\n",
       "       [ 0.09607242, -0.0977277 ,  0.28980024, -0.28227629, -0.07686549,\n",
       "        -0.14742871,  0.16595586, -0.17077479,  0.02442328,  0.00807032,\n",
       "         0.17602449,  0.08779501,  0.01136781,  0.15012276,  0.22902927,\n",
       "        -0.24159325,  0.22544194,  0.23664917,  0.34931239, -0.17362307,\n",
       "         0.17053791, -0.20756948,  0.09696969,  0.29179364,  0.23922865,\n",
       "         0.04526872,  0.07441975,  0.14638876, -0.18307962, -0.22108101],\n",
       "       [ 0.26402603, -0.06745023, -0.03762889, -0.21110534,  0.09385703,\n",
       "        -0.02702975, -0.13885699, -0.1334119 ,  0.19330872, -0.39733165,\n",
       "        -0.35457871,  0.41684837,  0.16769728, -0.02644187, -0.0225265 ,\n",
       "        -0.29636998,  0.12568338, -0.2115651 , -0.18049505, -0.00927719,\n",
       "         0.34922258,  0.13102155,  0.27711107,  0.22393755, -0.33447631,\n",
       "        -0.21824923,  0.13741276, -0.11056635, -0.13601791,  0.18159935],\n",
       "       [ 0.09928622, -0.30874249,  0.0765776 ,  0.25594419, -0.09028141,\n",
       "         0.34352826,  0.33698976,  0.22832928,  0.22697657, -0.36781938,\n",
       "         0.01306697,  0.35938493, -0.11957012,  0.18105146, -0.286423  ,\n",
       "        -0.10020106, -0.21019213,  0.09504612, -0.29045309, -0.32836957,\n",
       "         0.22199939, -0.12879755,  0.20679901,  0.27061112, -0.31499273,\n",
       "        -0.21597508,  0.29883703,  0.03068738, -0.10535943,  0.18505625],\n",
       "       [-0.21810616, -0.0970556 , -0.13042378, -0.0552753 , -0.14608526,\n",
       "         0.1302066 ,  0.21372799, -0.17969821,  0.33100794, -0.03025569,\n",
       "         0.25518259, -0.25468259,  0.04917366,  0.11711311, -0.04168384,\n",
       "         0.15929074, -0.22314028,  0.12023298, -0.04372461, -0.08037015,\n",
       "         0.28925059, -0.21191651, -0.14700739,  0.34791038,  0.09932387,\n",
       "         0.162632  , -0.16324228,  0.31150628, -0.19983254, -0.07294185],\n",
       "       [ 0.28238575,  0.20710169, -0.3523949 ,  0.15969967, -0.4433437 ,\n",
       "        -0.01699184, -0.17501942, -0.27453881, -0.2431054 , -0.17274989,\n",
       "        -0.25952921, -0.28395555,  0.09873846,  0.12829765, -0.24451463,\n",
       "         0.25404403, -0.18298098,  0.17484814,  0.03106728, -0.27407975,\n",
       "         0.01226634,  0.16750227, -0.15997121, -0.26369789,  0.30155842,\n",
       "        -0.13044416, -0.24949085,  0.26478923,  0.18383732, -0.05789067],\n",
       "       [-0.36339145, -0.18673402, -0.43774707,  0.18586254, -0.44255997,\n",
       "         0.22820112,  0.05408961,  0.08099991,  0.03012126,  0.01317283,\n",
       "        -0.38576534, -0.19090975,  0.14435644, -0.08351855,  0.16700182,\n",
       "        -0.320446  ,  0.16904648, -0.07744179, -0.0713892 ,  0.16705496,\n",
       "         0.31903055,  0.22411129,  0.41333855,  0.22504054,  0.15325641,\n",
       "        -0.36891851, -0.23748104, -0.07011284, -0.19743753,  0.24113159],\n",
       "       [ 0.08351887, -0.0999412 , -0.06912637,  0.10582509, -0.2611423 ,\n",
       "        -0.1148056 ,  0.31519766,  0.06433976, -0.07067852,  0.17582629,\n",
       "        -0.15725644, -0.34945735, -0.23057727, -0.27297184,  0.2372236 ,\n",
       "        -0.25088781,  0.07714738,  0.27428006, -0.22333597, -0.28743353,\n",
       "        -0.24854466, -0.09383749, -0.25749838, -0.36751252,  0.18056831,\n",
       "        -0.03540041, -0.0111587 ,  0.00584916,  0.06120823,  0.09316078],\n",
       "       [-0.07949097, -0.025395  , -0.43051906, -0.22937433, -0.10753654,\n",
       "         0.33926501, -0.06107035,  0.06543923, -0.25694194, -0.27754993,\n",
       "        -0.00369255, -0.09762009,  0.20429095,  0.06574519, -0.25684229,\n",
       "         0.07905782,  0.18547091, -0.10384189, -0.00873791, -0.0525299 ,\n",
       "        -0.12457157,  0.30180492,  0.11569716,  0.3362653 , -0.20372242,\n",
       "        -0.05833974, -0.22416664,  0.17154414, -0.17113939,  0.13481308],\n",
       "       [-0.14568371,  0.2336984 , -0.37718859,  0.19151869, -0.30832899,\n",
       "        -0.07291673,  0.17002984,  0.08137427, -0.05792883, -0.1175499 ,\n",
       "         0.09791969,  0.33661158, -0.32670719, -0.26505477, -0.36955133,\n",
       "         0.12626461, -0.20637674,  0.08123935, -0.41752422,  0.25806469,\n",
       "         0.11939052,  0.07463196,  0.34267698, -0.2285679 , -0.4635577 ,\n",
       "         0.04837196, -0.14234195, -0.17286082, -0.20584768,  0.23722429],\n",
       "       [ 0.33869598,  0.14069167, -0.22446519, -0.06983078,  0.12341933,\n",
       "         0.38490524,  0.35650886,  0.03556504, -0.04217252,  0.0697081 ,\n",
       "        -0.16628433,  0.30203946,  0.18548401,  0.16547804, -0.22903748,\n",
       "         0.0112923 ,  0.14606632,  0.07754935,  0.15110253,  0.21142011,\n",
       "         0.10655647, -0.07087911, -0.19038877,  0.24370775,  0.06339941,\n",
       "         0.01417109,  0.10832899, -0.19597521,  0.13832161,  0.04790402],\n",
       "       [-0.00467821,  0.02991643,  0.29592245,  0.15766495, -0.39704991,\n",
       "         0.03126813, -0.16830758, -0.35926087,  0.25401351, -0.20456734,\n",
       "        -0.20768277,  0.04910129,  0.2670682 ,  0.0658317 , -0.09408435,\n",
       "         0.18299506, -0.12029015,  0.054487  , -0.1181225 , -0.04506041,\n",
       "         0.22796838,  0.26772936, -0.13664805, -0.22035202, -0.10882777,\n",
       "        -0.20774185,  0.07892759,  0.03883924, -0.16699611, -0.28086929],\n",
       "       [-0.03127806,  0.28931771,  0.15709353,  0.25417045,  0.23230819,\n",
       "         0.1697235 ,  0.17436748, -0.24541061, -0.08827807, -0.33979813,\n",
       "         0.05592984, -0.20309437,  0.30446964, -0.25166359,  0.04805222,\n",
       "        -0.03067246, -0.05330535,  0.02332282,  0.08178043,  0.21325438,\n",
       "         0.05235613, -0.06336112,  0.14093289,  0.21785661,  0.30762235,\n",
       "        -0.07178687, -0.30401333,  0.07307236,  0.21569866,  0.03305333],\n",
       "       [ 0.20816415,  0.34629155, -0.11893524,  0.15615755, -0.24000811,\n",
       "         0.1697872 , -0.07453861,  0.01798802,  0.08336667, -0.27329493,\n",
       "         0.04497638, -0.20372137, -0.03409814, -0.07045118, -0.19715779,\n",
       "         0.19762581, -0.06771055,  0.388836  , -0.24808224, -0.08892616,\n",
       "         0.03736441,  0.03585954, -0.21885292, -0.12956732, -0.20251442,\n",
       "         0.20710517, -0.15308968,  0.30030531, -0.15667562,  0.01856681],\n",
       "       [ 0.25219944, -0.33778106,  0.13598539, -0.26867883, -0.00135474,\n",
       "        -0.13619655,  0.11809557, -0.0594741 , -0.13804085,  0.12640917,\n",
       "         0.03266168, -0.28027043,  0.15942869,  0.21386205, -0.26075223,\n",
       "        -0.15543845,  0.26993725,  0.36534059, -0.06478462, -0.15389534,\n",
       "         0.38019922, -0.37794828, -0.21582658,  0.18948823,  0.11050012,\n",
       "         0.15896445,  0.13775648,  0.28994124, -0.26024774, -0.32355086],\n",
       "       [ 0.09781626, -0.0285704 , -0.17304774,  0.11922402, -0.29529662,\n",
       "        -0.20336314, -0.07203527, -0.33698352, -0.10442025,  0.04733694,\n",
       "        -0.2602695 , -0.32581327, -0.06795273,  0.25666822, -0.23749913,\n",
       "         0.20346375, -0.17014429, -0.08810655,  0.3194453 ,  0.24545827,\n",
       "         0.05366275,  0.18874977, -0.31541   , -0.02795711,  0.32179171,\n",
       "        -0.13905416, -0.0475465 , -0.16068974, -0.00365801,  0.22125613],\n",
       "       [-0.12774759,  0.29120803, -0.04398141, -0.38247121,  0.22482668,\n",
       "         0.16029386,  0.20701803,  0.34986059,  0.11461865,  0.08965498,\n",
       "         0.04020227,  0.19499203, -0.18858211,  0.08033585, -0.21199364,\n",
       "         0.06073099, -0.25781466,  0.06040233, -0.23221423, -0.23600765,\n",
       "         0.1124958 , -0.20736153,  0.16314848,  0.38747498, -0.08468263,\n",
       "        -0.04000775, -0.27836052, -0.13597713,  0.01354688,  0.06652378],\n",
       "       [-0.35868627,  0.08873993, -0.0456686 , -0.34875725,  0.03402581,\n",
       "         0.00921677,  0.21515013, -0.14185687, -0.13511256,  0.25304231,\n",
       "        -0.12667855,  0.25030828,  0.15221735,  0.26793387, -0.18320441,\n",
       "        -0.2127075 , -0.28963629, -0.27702952, -0.19115722, -0.08792616,\n",
       "        -0.17825979, -0.31793955,  0.24299897,  0.00754642,  0.14289651,\n",
       "        -0.22422639, -0.34689597,  0.06502846,  0.21151431,  0.15118797],\n",
       "       [-0.2609928 , -0.24466019,  0.21363362, -0.02974585, -0.39981602,\n",
       "         0.02909741,  0.34110623,  0.34895838, -0.0650624 , -0.03865966,\n",
       "         0.10637587,  0.06941911, -0.3333197 ,  0.18401775, -0.26008048,\n",
       "        -0.28170841, -0.30234891,  0.22523744,  0.15397715, -0.3187596 ,\n",
       "         0.09377884,  0.13638343,  0.22679925, -0.12168373, -0.15500833,\n",
       "        -0.29947548, -0.14779916,  0.09836633, -0.03938332, -0.11460289],\n",
       "       [-0.34102102,  0.12374017,  0.09249805,  0.14663478, -0.3180367 ,\n",
       "        -0.1079751 , -0.04083486, -0.18403546,  0.21298097, -0.21039049,\n",
       "        -0.20359447, -0.02759892, -0.14274867,  0.05447554, -0.38760556,\n",
       "        -0.30793752,  0.06086364, -0.11071687, -0.05185477, -0.145036  ,\n",
       "        -0.11511788, -0.05299664,  0.1099335 ,  0.2314275 ,  0.01240853,\n",
       "         0.00638442, -0.08525883,  0.19805195,  0.39034703, -0.02948589],\n",
       "       [ 0.01710027,  0.07419526,  0.11526643, -0.23777484, -0.06563172,\n",
       "        -0.18576652, -0.18772979,  0.21138021,  0.13620176,  0.06224812,\n",
       "        -0.35780397,  0.18149178, -0.48612897, -0.25905386, -0.10535253,\n",
       "         0.01888722, -0.26129086, -0.28838149, -0.39033185, -0.19073899,\n",
       "         0.38677549,  0.06935305, -0.1917232 ,  0.25010144,  0.11417797,\n",
       "         0.1554125 ,  0.21705472, -0.05455642,  0.22501198, -0.13407389],\n",
       "       [-0.16382913, -0.3933653 , -0.35866425, -0.03940629, -0.17965498,\n",
       "         0.04364326,  0.16499906,  0.26383065,  0.32511205, -0.35857436,\n",
       "        -0.28479324, -0.04882896,  0.32956286, -0.14299999,  0.16839085,\n",
       "        -0.08710284,  0.24351461,  0.21532351,  0.22063537, -0.28352686,\n",
       "         0.2584407 , -0.13911973, -0.17163473,  0.3058087 ,  0.14633583,\n",
       "        -0.23547216, -0.10830137, -0.02343799,  0.03526799, -0.37333398],\n",
       "       [ 0.18816273, -0.19640201, -0.37661407, -0.32745952, -0.0322808 ,\n",
       "        -0.06003742,  0.1784041 , -0.20137607,  0.21532275, -0.37664893,\n",
       "         0.1913153 , -0.20383063, -0.06174841, -0.17791176, -0.23561076,\n",
       "         0.00702338, -0.12147001, -0.04923091, -0.23692852,  0.1040123 ,\n",
       "         0.1969029 , -0.3660241 , -0.14189956,  0.25829266,  0.06964467,\n",
       "        -0.38779633, -0.2001599 , -0.18346186,  0.26630805,  0.20183271],\n",
       "       [-0.26343755, -0.16317644, -0.24161621,  0.06530629, -0.20485593,\n",
       "         0.20981461, -0.21525068, -0.01822979,  0.11302009, -0.07356523,\n",
       "        -0.04623058,  0.27141208, -0.0998623 , -0.01809738, -0.16531351,\n",
       "         0.13072538, -0.35725264,  0.33391963, -0.05937826, -0.23956218,\n",
       "         0.07336969, -0.18303404, -0.22474683,  0.01258769, -0.09472718,\n",
       "         0.21769268,  0.14344069,  0.02381034,  0.33438867, -0.29397383],\n",
       "       [ 0.02295682, -0.20810517, -0.0316336 ,  0.10807722,  0.23345741,\n",
       "         0.33632238,  0.31358704, -0.40705434, -0.15173495, -0.1292687 ,\n",
       "         0.17313708,  0.26002453, -0.32132131,  0.26126902, -0.15379159,\n",
       "         0.17270523, -0.12294906,  0.27417063, -0.07809854, -0.30543033,\n",
       "         0.04137981,  0.22838396,  0.33973393,  0.10113226, -0.19640808,\n",
       "        -0.00777273,  0.07462716,  0.1901999 ,  0.34490377,  0.27265349],\n",
       "       [ 0.21621017,  0.02700324, -0.4331137 , -0.41151549, -0.19046015,\n",
       "         0.19949994,  0.22300926,  0.35881661,  0.14021261, -0.18114927,\n",
       "        -0.32265618,  0.08692812,  0.05404422,  0.14162586, -0.25966533,\n",
       "        -0.08283427, -0.15609609,  0.17751794,  0.25199829, -0.04621325,\n",
       "        -0.18339621, -0.27887879,  0.19442894, -0.00386038, -0.05191898,\n",
       "        -0.13820093, -0.16274996, -0.26308649, -0.1648351 , -0.26249805]])"
      ]
     },
     "execution_count": 25,
     "metadata": {},
     "output_type": "execute_result"
    }
   ],
   "source": [
    "# Print the coefficient values and interpret it\n",
    "\n",
    "coefficients = mlp.coefs_[0]\n",
    "coefficients"
   ]
  },
  {
   "cell_type": "code",
   "execution_count": 26,
   "metadata": {},
   "outputs": [
    {
     "data": {
      "text/plain": [
       "30"
      ]
     },
     "execution_count": 26,
     "metadata": {},
     "output_type": "execute_result"
    }
   ],
   "source": [
    "len(coefficients)"
   ]
  },
  {
   "cell_type": "code",
   "execution_count": 27,
   "metadata": {},
   "outputs": [
    {
     "data": {
      "text/plain": [
       "array([-0.2209587 ,  0.13267237,  0.16138207,  0.38705243,  0.12884354,\n",
       "        0.12277161,  0.02108023,  0.17872624, -0.05118211,  0.21523233,\n",
       "       -0.06793977,  0.11790846,  0.27154239,  0.09272028, -0.04170527,\n",
       "       -0.20850946,  0.13953098,  0.02554676,  0.10024842, -0.11670543,\n",
       "       -0.01040197,  0.20332629, -0.22186275, -0.02773236, -0.03734913,\n",
       "        0.17773506,  0.10170562, -0.1528537 , -0.13256409,  0.07744743])"
      ]
     },
     "execution_count": 27,
     "metadata": {},
     "output_type": "execute_result"
    }
   ],
   "source": [
    "# Print the intercepts values and interpret it\n",
    "\n",
    "interprets = mlp.intercepts_[0]\n",
    "interprets"
   ]
  },
  {
   "cell_type": "code",
   "execution_count": 28,
   "metadata": {},
   "outputs": [
    {
     "data": {
      "text/plain": [
       "30"
      ]
     },
     "execution_count": 28,
     "metadata": {},
     "output_type": "execute_result"
    }
   ],
   "source": [
    "len(interprets)"
   ]
  },
  {
   "cell_type": "markdown",
   "metadata": {},
   "source": [
    "**Q:** What do you understand from the two values?"
   ]
  }
 ],
 "metadata": {
  "kernelspec": {
   "display_name": "Python 3 (ipykernel)",
   "language": "python",
   "name": "python3"
  },
  "language_info": {
   "codemirror_mode": {
    "name": "ipython",
    "version": 3
   },
   "file_extension": ".py",
   "mimetype": "text/x-python",
   "name": "python",
   "nbconvert_exporter": "python",
   "pygments_lexer": "ipython3",
   "version": "3.10.11"
  }
 },
 "nbformat": 4,
 "nbformat_minor": 4
}
