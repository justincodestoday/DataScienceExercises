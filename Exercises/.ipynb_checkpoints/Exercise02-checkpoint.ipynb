{
 "cells": [
  {
   "cell_type": "markdown",
   "metadata": {},
   "source": [
    "<img src=\"https://i.imgur.com/FoKB5Z5.png\" align=\"left\" width=\"300\" height=\"250\" title=\"source: imgur.com\" /></a>"
   ]
  },
  {
   "cell_type": "markdown",
   "metadata": {},
   "source": [
    "## Program Code: J620-002-4:2020 \n",
    "\n",
    "## Program Name: FRONT-END SOFTWARE DEVELOPMENT\n",
    "\n",
    "## Title : Exercise 2\n",
    "\n",
    "#### Name: Justin Chong Mun Chen\n",
    "\n",
    "#### IC Number: 960327-07-5097\n",
    "\n",
    "#### Date : 21/6/2023\n",
    "\n",
    "#### Introduction : Learning to familiarise with build-in functions in Python.\n",
    "\n",
    "\n",
    "\n",
    "#### Conclusion : This practice has allowed me to use the build-in functions a lot better in my expressions.\n",
    "\n",
    "\n",
    "\n",
    "\n"
   ]
  },
  {
   "cell_type": "markdown",
   "metadata": {},
   "source": [
    "EXERCISE 2\n",
    "==\n",
    "RUN ME\n",
    "==\n",
    "\n",
    "Please run the code snippet below. It is required for running tests for your solution."
   ]
  },
  {
   "cell_type": "code",
   "execution_count": 1,
   "metadata": {},
   "outputs": [],
   "source": [
    "def test(got, expected):\n",
    "    if got == expected:\n",
    "        prefix = ' OK '\n",
    "    else:\n",
    "        prefix = '  FAIL '\n",
    "    print(('%s got: %s expected: %s' % (prefix, repr(got), repr(expected))))"
   ]
  },
  {
   "cell_type": "markdown",
   "metadata": {},
   "source": [
    "Question 1\n",
    "=="
   ]
  },
  {
   "cell_type": "code",
   "execution_count": 2,
   "metadata": {},
   "outputs": [
    {
     "name": "stdout",
     "output_type": "stream",
     "text": [
      "verbing\n",
      " OK  got: 'hailing' expected: 'hailing'\n",
      " OK  got: 'swimingly' expected: 'swimingly'\n",
      " OK  got: 'do' expected: 'do'\n"
     ]
    }
   ],
   "source": [
    "# D. verbing\n",
    "# Given a string, if its length is at least 3,\n",
    "# add 'ing' to its end.\n",
    "# Unless it already ends in 'ing', in which case\n",
    "# add 'ly' instead.\n",
    "# If the string length is less than 3, leave it unchanged.\n",
    "# Return the resulting string.\n",
    "def verbing(s):\n",
    "   #++ your code here ++\n",
    "    \n",
    "    return s if len(s) < 3 else s + \"ly\" if \"ing\" in s else s + \"ing\"\n",
    "    \n",
    "print('verbing')\n",
    "test(verbing('hail'), 'hailing')\n",
    "test(verbing('swiming'), 'swimingly')\n",
    "test(verbing('do'), 'do')"
   ]
  },
  {
   "cell_type": "markdown",
   "metadata": {},
   "source": [
    "Question 2\n",
    "=="
   ]
  },
  {
   "cell_type": "code",
   "execution_count": 3,
   "metadata": {},
   "outputs": [
    {
     "name": "stdout",
     "output_type": "stream",
     "text": [
      "\n",
      "not_bad\n",
      " OK  got: 'This movie is good' expected: 'This movie is good'\n",
      " OK  got: 'This dinner is good!' expected: 'This dinner is good!'\n",
      " OK  got: 'This tea is not hot' expected: 'This tea is not hot'\n",
      " OK  got: \"It's bad yet not\" expected: \"It's bad yet not\"\n"
     ]
    }
   ],
   "source": [
    "# E. not_bad\n",
    "# Given a string, find the first appearance of the\n",
    "# substring 'not' and 'bad'. If the 'bad' follows\n",
    "# the 'not', replace the whole 'not'...'bad' substring\n",
    "# with 'good'.\n",
    "# Return the resulting string.\n",
    "# So 'This dinner is not that bad!' yields:\n",
    "# This dinner is good!\n",
    "def not_bad(s):\n",
    "    #++ your code here ++\n",
    "    \n",
    "    notIndex = s.find(\"not\")\n",
    "    badIndex = s.find(\"bad\")\n",
    "    \n",
    "    if (notIndex == -1 and badIndex == -1 or badIndex < notIndex):\n",
    "        return s\n",
    "    \n",
    "    return s.replace(s[notIndex : badIndex + 3], \"good\")\n",
    "    \n",
    "\n",
    "print()\n",
    "print('not_bad')\n",
    "test(not_bad('This movie is not so bad'), 'This movie is good')\n",
    "test(not_bad('This dinner is not that bad!'), 'This dinner is good!')\n",
    "test(not_bad('This tea is not hot'), 'This tea is not hot')\n",
    "test(not_bad(\"It's bad yet not\"), \"It's bad yet not\")"
   ]
  },
  {
   "cell_type": "markdown",
   "metadata": {},
   "source": [
    "Question 3\n",
    "=="
   ]
  },
  {
   "cell_type": "code",
   "execution_count": 4,
   "metadata": {
    "scrolled": true
   },
   "outputs": [
    {
     "name": "stdout",
     "output_type": "stream",
     "text": [
      "\n",
      "front_back\n",
      " OK  got: 'abxcdy' expected: 'abxcdy'\n",
      " OK  got: 'abcxydez' expected: 'abcxydez'\n",
      " OK  got: 'KitDontenut' expected: 'KitDontenut'\n"
     ]
    }
   ],
   "source": [
    "import math\n",
    "\n",
    "# F. front_back\n",
    "# Consider dividing a string into two halves.\n",
    "# If the length is even, the front and back halves are the same length.\n",
    "# If the length is odd, we'll say that the extra char goes in the front half.\n",
    "# e.g. 'abcde', the front half is 'abc', the back half 'de'.\n",
    "# Given 2 strings, a and b, return a string of the form\n",
    "#  a-front + b-front + a-back + b-back\n",
    "def front_back(a, b):\n",
    "    #++ your code here ++\n",
    "    \n",
    "    frontHalf = math.ceil(len(a) / 2)\n",
    "    backHalf = math.ceil(len(b) / 2)\n",
    "    \n",
    "    return a[0 : frontHalf] + b[0 : backHalf] + a[frontHalf : ] + b[backHalf : ]\n",
    "    \n",
    "#     if frontLen % 2 == 0:\n",
    "#         if backLen % 2 == 0:\n",
    "#             return a[0 : halfFront] + b[0 : halfBack] + a[halfFront : ] + b[halfBack : ]\n",
    "#         else:\n",
    "#             return a[0 : halfFront] + b[0 : halfBack + 1] + a[halfFront : ] + b[halfBack + 1 : ]\n",
    "#     else:\n",
    "#         if backLen % 2 == 0:\n",
    "#             return a[0 : halfFront + 1] + b[0 : halfBack] + a[halfFront + 1 : ] + b[halfBack : ]\n",
    "#         else:\n",
    "#             return a[0 : halfFront + 1] + b[0 : halfBack + 1] + a[halfFront + 1 : ] + b[halfBack + 1 : ]\n",
    "    \n",
    "print()\n",
    "print('front_back')\n",
    "test(front_back('abcd', 'xy'), 'abxcdy')\n",
    "test(front_back('abcde', 'xyz'), 'abcxydez')\n",
    "test(front_back('Kitten', 'Donut'), 'KitDontenut')"
   ]
  },
  {
   "cell_type": "markdown",
   "metadata": {},
   "source": [
    "Question 4\n",
    "=="
   ]
  },
  {
   "cell_type": "code",
   "execution_count": 5,
   "metadata": {},
   "outputs": [
    {
     "name": "stdout",
     "output_type": "stream",
     "text": [
      "False\n",
      "True\n",
      "False\n"
     ]
    }
   ],
   "source": [
    "# Define a procedure weekend which takes a string as its input, and\n",
    "# returns the boolean True if it's 'Saturday' or 'Sunday' and False otherwise.\n",
    "def weekend(day):\n",
    "    return True if day == 'Saturday' or day == 'Sunday' else False\n",
    "    \n",
    "print(weekend('Monday'))\n",
    "#>>> False\n",
    "\n",
    "print(weekend('Saturday'))\n",
    "#>>> True\n",
    "\n",
    "print(weekend('July'))\n",
    "#>>> False"
   ]
  },
  {
   "cell_type": "markdown",
   "metadata": {},
   "source": [
    "Question 5\n",
    "=="
   ]
  },
  {
   "cell_type": "code",
   "execution_count": 12,
   "metadata": {},
   "outputs": [
    {
     "name": "stdout",
     "output_type": "stream",
     "text": [
      " OK  got: 'Calvin is one of an extremely rare species. He is a leap year baby!' expected: 'Calvin is one of an extremely rare species. He is a leap year baby!'\n",
      "None\n",
      " OK  got: \"There's nothing special about Garfield's birthday. He is not a leap year baby!\" expected: \"There's nothing special about Garfield's birthday. He is not a leap year baby!\"\n",
      "None\n",
      " OK  got: 'Hobbes is one of an extremely rare species. He is a leap year baby!' expected: 'Hobbes is one of an extremely rare species. He is a leap year baby!'\n",
      "None\n",
      " OK  got: \"There's nothing special about Charlie Brown's birthday. He is not a leap year baby!\" expected: \"There's nothing special about Charlie Brown's birthday. He is not a leap year baby!\"\n",
      "None\n",
      " OK  got: \"There's nothing special about Odie's birthday. He is not a leap year baby!\" expected: \"There's nothing special about Odie's birthday. He is not a leap year baby!\"\n",
      "None\n"
     ]
    }
   ],
   "source": [
    "# By Ashwath from Udacity forums\n",
    "\n",
    "# A leap year baby is a baby born on Feb 29, which occurs only on a leap year.\n",
    "\n",
    "# Define a procedure is_leap_baby that takes 3 inputs: day, month and year\n",
    "# and returns True if the date is a leap day (Feb 29 in a valid leap year)\n",
    "# and False otherwise.\n",
    "\n",
    "# A year that is a multiple of 4 is a leap year unless the year is\n",
    "# divisible by 100 but not a multiple of 400 (so, 1900 is not a leap\n",
    "# year but 2000 and 2004 are).\n",
    "\n",
    "def is_leap_baby(day,month,year):\n",
    "    # Write your code after this line.\n",
    "    \n",
    "    if month == 2 and day == 29:\n",
    "        if year % 4 == 0 or year % 400 == 0:\n",
    "            if year == 2000:\n",
    "                return True\n",
    "            \n",
    "            if year % 100 == 0:\n",
    "                return False\n",
    "            \n",
    "            return True\n",
    "    else:\n",
    "        return False\n",
    "        \n",
    "# The function 'output' prints one of two statements based on whether \n",
    "# the is_leap_baby function returned True or False.\n",
    "\n",
    "def output(status,name):\n",
    "    if status:\n",
    "        return \"%s is one of an extremely rare species. He is a leap year baby!\" % name\n",
    "    else:\n",
    "        return \"There's nothing special about %s's birthday. He is not a leap year baby!\" % name\n",
    "\n",
    "# Test Cases\n",
    "\n",
    "print(test(output(is_leap_baby(29, 2, 1996), 'Calvin'),\"Calvin is one of an extremely rare species. He is a leap year baby!\"))\n",
    "print(test(output(is_leap_baby(19, 6, 1978), 'Garfield'),\"There's nothing special about Garfield's birthday. He is not a leap year baby!\"))\n",
    "print(test(output(is_leap_baby(29, 2, 2000), 'Hobbes'),\"Hobbes is one of an extremely rare species. He is a leap year baby!\"))\n",
    "print(test(output(is_leap_baby(29, 2, 1900), 'Charlie Brown'),\"There's nothing special about Charlie Brown's birthday. He is not a leap year baby!\"))\n",
    "print(test(output(is_leap_baby(28, 2, 1976), 'Odie'),\"There's nothing special about Odie's birthday. He is not a leap year baby!\"))\n",
    "# print(test(output(is_leap_baby(29, 2, 2004), \"Justin\"), \"Justin is one of an extremely rare species. He is a leap year baby!\"))"
   ]
  }
 ],
 "metadata": {
  "kernelspec": {
   "display_name": "Python 3 (ipykernel)",
   "language": "python",
   "name": "python3"
  },
  "language_info": {
   "codemirror_mode": {
    "name": "ipython",
    "version": 3
   },
   "file_extension": ".py",
   "mimetype": "text/x-python",
   "name": "python",
   "nbconvert_exporter": "python",
   "pygments_lexer": "ipython3",
   "version": "3.10.11"
  }
 },
 "nbformat": 4,
 "nbformat_minor": 1
}
