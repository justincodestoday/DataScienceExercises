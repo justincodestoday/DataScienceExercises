{
 "cells": [
  {
   "cell_type": "markdown",
   "metadata": {},
   "source": [
    "<img src=\"https://i.imgur.com/FoKB5Z5.png\" align=\"left\" width=\"300\" height=\"250\" title=\"source: imgur.com\" /></a>"
   ]
  },
  {
   "cell_type": "markdown",
   "metadata": {},
   "source": [
    "## Program Code: J620-002-4:2020 \n",
    "\n",
    "## Program Name: FRONT-END SOFTWARE DEVELOPMENT\n",
    "\n",
    "## Title :  Webscrapping and Data Visualization\n",
    "\n",
    "#### Name: Joel Michael Seah Quan Shen\n",
    "\n",
    "#### IC Number: 940528 - 07 - 5183\n",
    "\n",
    "#### Date : 25/12/2021\n",
    "\n",
    "#### Introduction : Project to use WebScrapping and Data Visualization methods\n",
    "\n",
    "\n",
    "\n",
    "#### Conclusion :\n",
    "- import libraries for webscrapping, data analysis and data visualization\n",
    "- use selenium to get data from url\n",
    "- use beautiful soup to read the text\n",
    "- use pandas to process the data into a dataframe\n",
    "- change object to integer to perform operations\n",
    "- use matplotlib and seaborn to plot various data visualization charts\n",
    "- create a texttable\n",
    "\n",
    "\n",
    "\n",
    "\n"
   ]
  },
  {
   "cell_type": "markdown",
   "metadata": {},
   "source": [
    "## Mini Project 2 \n",
    "\n",
    "## Webscraping and Data Visualization\n",
    "\n",
    "Dataset: https://www.worldometers.info/coronavirus/countries-where-coronavirus-has-spread/\n",
    "\n",
    "In this project, you are encouraged to use Worldometers to extract the number of COVID cases and then you will do data analysis and create some visualizations."
   ]
  },
  {
   "cell_type": "markdown",
   "metadata": {},
   "source": [
    "1)  Import required libraries and write code to do webscraping\n"
   ]
  },
  {
   "cell_type": "code",
   "execution_count": null,
   "metadata": {},
   "outputs": [],
   "source": [
    "import texttable as tt\n",
    "import requests\n",
    "from requests import get\n",
    "from bs4 import BeautifulSoup\n",
    "import pandas as pd\n",
    "import numpy as np\n",
    "import time\n",
    "from selenium import webdriver\n",
    "import matplotlib\n",
    "import matplotlib.pyplot as plt\n",
    "import seaborn as sns\n",
    "%matplotlib inline"
   ]
  },
  {
   "cell_type": "code",
   "execution_count": null,
   "metadata": {
    "scrolled": true
   },
   "outputs": [],
   "source": [
    "options = webdriver.ChromeOptions()\n",
    "options.add_argument('--ignore-certificate-errors')\n",
    "options.add_argument('--incognito')\n",
    "driver = webdriver.Chrome('chromedriver', chrome_options = options)\n",
    "\n",
    "path = ('https://www.worldometers.info/coronavirus/countries-where-coronavirus-has-spread/')\n",
    "driver.get(path)\n",
    "headers = {'Accept-Language' : 'en-US, en;q=0.5'}\n",
    "results = requests.get(path, headers=headers)\n",
    "\n",
    "soup = BeautifulSoup(results.text, 'html.parser')\n",
    "soup"
   ]
  },
  {
   "cell_type": "code",
   "execution_count": null,
   "metadata": {},
   "outputs": [],
   "source": [
    "countries = [ ]\n",
    "cases = [ ]\n",
    "deaths = [ ]\n",
    "continents = [ ]\n",
    "\n",
    "table = soup.find('table', attrs = {'id' : 'table3'})\n",
    "table = table.find('tbody')\n",
    "table_rows = table.find_all('tr')"
   ]
  },
  {
   "cell_type": "code",
   "execution_count": null,
   "metadata": {},
   "outputs": [],
   "source": [
    "for rows in table_rows:\n",
    "    td = rows.find_all('td')\n",
    "    \n",
    "    country = td[0].text\n",
    "    if country == None:\n",
    "        country = '-'\n",
    "    countries.append(country)\n",
    "    \n",
    "    case = td[1].text\n",
    "    if case == None:\n",
    "        case = '-'\n",
    "    cases.append(case)\n",
    "    \n",
    "    death = td[2].text\n",
    "    if death == None:\n",
    "        death = '-'\n",
    "    deaths.append(death)\n",
    "    \n",
    "    continent = td[3].text\n",
    "    if continent == None:\n",
    "        continent = '-'\n",
    "    continents.append(continent)"
   ]
  },
  {
   "cell_type": "markdown",
   "metadata": {},
   "source": [
    "2) After running above code you are able to extract the data from the website, now we will be creating a pandas data frame for further analysis."
   ]
  },
  {
   "cell_type": "markdown",
   "metadata": {},
   "source": [
    "\n",
    "\n",
    "<img src=\"https://i.imgur.com/OgcCBss.png\">"
   ]
  },
  {
   "cell_type": "code",
   "execution_count": null,
   "metadata": {},
   "outputs": [],
   "source": [
    "data = pd.DataFrame({'Country' : countries,\n",
    "    'Cases' : cases, 'Deaths' : deaths, 'Continent' : continents})\n",
    "data.isnull().sum()"
   ]
  },
  {
   "cell_type": "code",
   "execution_count": null,
   "metadata": {},
   "outputs": [],
   "source": [
    "data"
   ]
  },
  {
   "cell_type": "markdown",
   "metadata": {},
   "source": [
    "3) Data Type\n",
    "\n",
    "<img src=\"https://i.imgur.com/YccV35I.png\">"
   ]
  },
  {
   "cell_type": "code",
   "execution_count": null,
   "metadata": {
    "scrolled": true
   },
   "outputs": [],
   "source": [
    "data.info()"
   ]
  },
  {
   "cell_type": "code",
   "execution_count": null,
   "metadata": {},
   "outputs": [],
   "source": [
    "data['Cases'] = data['Cases'].str.replace(',' , '').astype(int)\n",
    "data['Deaths'] = data['Deaths'].str.replace(',' , '').astype(int)"
   ]
  },
  {
   "cell_type": "code",
   "execution_count": null,
   "metadata": {
    "scrolled": false
   },
   "outputs": [],
   "source": [
    "data.info()"
   ]
  },
  {
   "cell_type": "code",
   "execution_count": null,
   "metadata": {},
   "outputs": [],
   "source": [
    "data"
   ]
  },
  {
   "cell_type": "markdown",
   "metadata": {},
   "source": [
    "4) Creating a new column Death_rate\n",
    "\n",
    "Hint: Death_rate = 100*(Death/Number of cases) "
   ]
  },
  {
   "cell_type": "code",
   "execution_count": null,
   "metadata": {},
   "outputs": [],
   "source": [
    "case = data['Cases']\n",
    "death = data['Deaths']\n",
    "deathrates = [ ]\n",
    "for x, y in enumerate(case):\n",
    "    deathrate = 100*(death[x]/case[x])\n",
    "    deathrates.append(deathrate)\n",
    "\n",
    "deathrates\n",
    "data['Death_rate'] = deathrates\n",
    "data.rename(columns = {'Cases' : 'Number of Cases'}, inplace = True)"
   ]
  },
  {
   "cell_type": "code",
   "execution_count": null,
   "metadata": {},
   "outputs": [],
   "source": [
    "data = data[data.Continent != '']\n",
    "data"
   ]
  },
  {
   "cell_type": "markdown",
   "metadata": {},
   "source": [
    "5) Data Visualization - Pairplot\n",
    "\n",
    "<img src=\"https://i.imgur.com/ChYp5AF.png\">"
   ]
  },
  {
   "cell_type": "code",
   "execution_count": null,
   "metadata": {},
   "outputs": [],
   "source": [
    "sns.pairplot(data, hue = 'Continent')"
   ]
  },
  {
   "cell_type": "markdown",
   "metadata": {},
   "source": [
    "6) Data Visualization - barplot\n",
    "\n",
    "<img src=\"https://i.imgur.com/BipzQ1w.png\">"
   ]
  },
  {
   "cell_type": "code",
   "execution_count": null,
   "metadata": {},
   "outputs": [],
   "source": [
    "plt.figure(figsize = (15,8))\n",
    "plt.bar(data['Country'].head(10), \n",
    "        data['Number of Cases'].head(10), \n",
    "        color = ['red', 'black', 'blue', 'yellow', 'green',\n",
    "                'orange', 'cyan', 'magenta', 'grey', 'purple'])\n",
    "plt.ticklabel_format(useOffset = False, style = 'plain', axis = 'y')\n",
    "plt.xlabel('Country', fontsize = 12)\n",
    "plt.ylabel('Number of Cases', fontsize = 12)\n",
    "plt.show()"
   ]
  },
  {
   "cell_type": "markdown",
   "metadata": {},
   "source": [
    "7) Data Visualization - regplot\n",
    "\n",
    "<img src=\"https://i.imgur.com/zMbQnVU.png\">"
   ]
  },
  {
   "cell_type": "code",
   "execution_count": null,
   "metadata": {},
   "outputs": [],
   "source": [
    "plt.figure(figsize = (10, 5))\n",
    "sns.regplot(x = data['Deaths'], y = data['Number of Cases'], data = data)"
   ]
  },
  {
   "cell_type": "markdown",
   "metadata": {},
   "source": [
    "8) Data Visualization - scatterplot\n",
    "\n",
    "<img src=\"https://i.imgur.com/DXrhNSN.png\">"
   ]
  },
  {
   "cell_type": "code",
   "execution_count": null,
   "metadata": {},
   "outputs": [],
   "source": [
    "plt.figure(figsize = (8, 4))\n",
    "sns.scatterplot(x = data['Deaths'], y = data['Number of Cases'], \n",
    "        data = data, hue = 'Continent')"
   ]
  },
  {
   "cell_type": "markdown",
   "metadata": {},
   "source": [
    "9) Data Visualization - boxplot\n",
    "\n",
    "<img src=\"https://i.imgur.com/jdnbzuf.png\">"
   ]
  },
  {
   "cell_type": "code",
   "execution_count": null,
   "metadata": {},
   "outputs": [],
   "source": [
    "plt.figure(figsize = (10, 5))\n",
    "sns.boxplot(x = data['Country'].head(10), \n",
    "    y = data['Deaths'].head(10), data = data, hue = 'Continent')"
   ]
  },
  {
   "cell_type": "markdown",
   "metadata": {},
   "source": [
    "10) Write code to show the table as below\n",
    "\n",
    "<img src=\"https://i.imgur.com/3mSmbKJ.png\">"
   ]
  },
  {
   "cell_type": "code",
   "execution_count": null,
   "metadata": {},
   "outputs": [],
   "source": [
    "newdata = data.groupby('Continent')[['Number of Cases', \n",
    "                                     'Deaths', 'Death_rate']].sum().reset_index()\n",
    "case = newdata['Number of Cases']\n",
    "death = newdata['Deaths']\n",
    "deathrates = [ ]\n",
    "for x, y in enumerate(case):\n",
    "    deathrate = 100*(death[x]/case[x])\n",
    "    deathrates.append(deathrate)\n",
    "\n",
    "newdata['Death_rate'] = deathrates\n",
    "newdata.index = np.arange(1, len(newdata) + 1)\n",
    "newdata = newdata.sort_values(by = 'Death_rate', ascending= False)\n",
    "newdata"
   ]
  },
  {
   "cell_type": "markdown",
   "metadata": {},
   "source": [
    "11) Data Visualization - barplot with death rate\n",
    "\n",
    "<img src=\"https://i.imgur.com/lxA1NiM.png\">"
   ]
  },
  {
   "cell_type": "code",
   "execution_count": null,
   "metadata": {},
   "outputs": [],
   "source": [
    "plt.figure(figsize = (15,8))\n",
    "plt.bar(newdata['Continent'], newdata['Death_rate'], \n",
    "        color = ['red', 'black', 'blue', 'yellow', 'green',\n",
    "                'orange'])\n",
    "plt.ticklabel_format(useOffset = False, style = 'plain', axis = 'y')\n",
    "plt.xlabel('Continent', fontsize = 15)\n",
    "plt.ylabel('Death Rate (unit)', fontsize = 15)\n",
    "plt.show()"
   ]
  },
  {
   "cell_type": "markdown",
   "metadata": {},
   "source": [
    "12) Create texttable \n",
    "\n",
    "Hint: \n",
    "import texttable as tt\n",
    "\n",
    "table = tt.Texttable() \n",
    "table.add_rows([(None, None, None, None)] + data)  # Add an empty row at the beginning for the headers \n",
    "\n",
    "<img src=\"https://i.imgur.com/r4LZ1aW.png\">"
   ]
  },
  {
   "cell_type": "code",
   "execution_count": null,
   "metadata": {},
   "outputs": [],
   "source": [
    "data = data.head(10)\n",
    "table = tt.Texttable()\n",
    "table.set_cols_align(['c', 'c', 'c', 'c'])\n",
    "table.set_cols_valign(['m', 'm', 'm', 'm'])\n",
    "cases = data['Number of Cases']\n",
    "deaths = data['Deaths']\n",
    "continent = data['Continent']\n",
    "country = data['Country']\n",
    "rows = [['Country', 'Number of Cases', 'Deaths', 'Continent']]\n",
    "\n",
    "for x in range(10):\n",
    "    rows.append([country[x], cases[x], deaths[x], continent[x]])\n",
    "    \n",
    "table.add_rows(rows)\n",
    "\n",
    "print(table.draw())"
   ]
  }
 ],
 "metadata": {
  "kernelspec": {
   "display_name": "Python 3 (ipykernel)",
   "language": "python",
   "name": "python3"
  },
  "language_info": {
   "codemirror_mode": {
    "name": "ipython",
    "version": 3
   },
   "file_extension": ".py",
   "mimetype": "text/x-python",
   "name": "python",
   "nbconvert_exporter": "python",
   "pygments_lexer": "ipython3",
   "version": "3.10.11"
  }
 },
 "nbformat": 4,
 "nbformat_minor": 4
}
