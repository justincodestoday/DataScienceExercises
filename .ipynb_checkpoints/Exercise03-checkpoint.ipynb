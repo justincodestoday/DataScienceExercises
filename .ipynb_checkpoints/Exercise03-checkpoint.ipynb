{
 "cells": [
  {
   "cell_type": "markdown",
   "metadata": {},
   "source": [
    "<img src=\"https://i.imgur.com/FoKB5Z5.png\" align=\"left\" width=\"300\" height=\"250\" title=\"source: imgur.com\" /></a>"
   ]
  },
  {
   "cell_type": "markdown",
   "metadata": {},
   "source": [
    "## Program Code: J620-002-4:2020 \n",
    "\n",
    "## Program Name: FRONT-END SOFTWARE DEVELOPMENT\n",
    "\n",
    "## Title : Exercise 3 - List Comprehension & Lambda\n",
    "\n",
    "#### Name: Justin Chong Mun Chen\n",
    "\n",
    "#### IC Number: 960327-07-5097\n",
    "\n",
    "#### Date : 21/6/2023\n",
    "\n",
    "#### Introduction : To get familiarized with list comprehension and lambda function as well as map() and filter() methods that work with lambda function.\n",
    "\n",
    "\n",
    "\n",
    "#### Conclusion : I now know a lot more about the distinction between using list comprehension and lambda function.\n",
    "\n",
    "\n",
    "\n",
    "\n"
   ]
  },
  {
   "cell_type": "markdown",
   "metadata": {},
   "source": [
    "EXERCISE 3\n",
    "==\n",
    "## List Comprehension & Lambda Exercise"
   ]
  },
  {
   "cell_type": "code",
   "execution_count": 26,
   "metadata": {},
   "outputs": [
    {
     "name": "stdout",
     "output_type": "stream",
     "text": [
      "[5, 5, 3, 5, 4, 4, 3]\n"
     ]
    }
   ],
   "source": [
    "# write list comprehension to determine the length of each word\n",
    "# except 'the' and store as 'word_lengths'\n",
    "sentence = \"the quick brown fox jumps over the lazy dog\"\n",
    "\n",
    "word_lengths = [len(word) for word in sentence.split() if word != 'the']\n",
    "\n",
    "print(word_lengths)"
   ]
  },
  {
   "cell_type": "code",
   "execution_count": 27,
   "metadata": {},
   "outputs": [
    {
     "name": "stdout",
     "output_type": "stream",
     "text": [
      "[-203.4, -68.3, -12.2]\n"
     ]
    }
   ],
   "source": [
    "# write a list comprehension to extract the \n",
    "# negative numbers from the list as integers and store as newlist\n",
    "numbers = [34.6, -203.4, 44.9, -68.3, -12.2, 44.6, 12.7]\n",
    "\n",
    "newList = [integer for integer in numbers if integer < 0]\n",
    "\n",
    "print(newList)"
   ]
  },
  {
   "cell_type": "code",
   "execution_count": 29,
   "metadata": {},
   "outputs": [
    {
     "name": "stdout",
     "output_type": "stream",
     "text": [
      "[(0, 0), (0, 1), (1, 0), (1, 1), (2, 0), (2, 1), (3, 0), (3, 1)]\n",
      "[(0, 0), (0, 1), (1, 0), (1, 1), (2, 0), (2, 1), (3, 0), (3, 1)]\n"
     ]
    }
   ],
   "source": [
    "# Convert the following code to list comprehension\n",
    "\n",
    "coords = []\n",
    "for x in range(4):\n",
    "    for y in range(2):\n",
    "        coordinate = (x, y)\n",
    "        coords.append(coordinate)\n",
    "print(coords)\n",
    "\n",
    "newCoords = [(x, y) for x in range(4) for y in range(2)]\n",
    "\n",
    "print(newCoords)"
   ]
  },
  {
   "cell_type": "code",
   "execution_count": 35,
   "metadata": {},
   "outputs": [
    {
     "name": "stdout",
     "output_type": "stream",
     "text": [
      "[('ball', 'cake'), ('ball', 'rice'), ('ball', 'ham'), ('cheese', 'cake'), ('cheese', 'rice'), ('cheese', 'ham'), ('round', 'cake'), ('round', 'rice'), ('round', 'ham')]\n"
     ]
    }
   ],
   "source": [
    "# write a list comprehension to list all the combinations\n",
    "# for the two sets of words\n",
    "\n",
    "set1 = ['ball','cheese','round']\n",
    "set2 = ['cake','rice','ham']\n",
    "\n",
    "combination = [(word1, word2) for word1 in set1 for word2 in set2]\n",
    "\n",
    "print(combination)"
   ]
  },
  {
   "cell_type": "code",
   "execution_count": 62,
   "metadata": {},
   "outputs": [
    {
     "name": "stdout",
     "output_type": "stream",
     "text": [
      "[1, 9, 25, 49, 81, 121, 169, 225, 289, 361, 441, 529, 625, 729, 841, 961, 1089, 1225, 1369, 1521, 1681, 1849, 2025, 2209, 2401, 2601, 2809, 3025, 3249, 3481, 3721, 3969, 4225, 4489, 4761, 5041, 5329, 5625, 5929, 6241, 6561, 6889, 7225, 7569, 7921, 8281, 8649, 9025, 9409, 9801]\n"
     ]
    }
   ],
   "source": [
    "# write a lambda function that squares the number\n",
    "# for all odd numbers from 1 to 100\n",
    "x = range(1,101)\n",
    "\n",
    "oddSquares = list(map(lambda number : number ** 2, filter(lambda integer : integer % 2 != 0, x)))\n",
    "\n",
    "print(oddSquares)"
   ]
  },
  {
   "cell_type": "code",
   "execution_count": 63,
   "metadata": {},
   "outputs": [
    {
     "name": "stdout",
     "output_type": "stream",
     "text": [
      "[1, 9, 25, 49, 81, 121, 169, 225, 289, 361, 441, 529, 625, 729, 841, 961, 1089, 1225, 1369, 1521, 1681, 1849, 2025, 2209, 2401, 2601, 2809, 3025, 3249, 3481, 3721, 3969, 4225, 4489, 4761, 5041, 5329, 5625, 5929, 6241, 6561, 6889, 7225, 7569, 7921, 8281, 8649, 9025, 9409, 9801]\n"
     ]
    }
   ],
   "source": [
    "# write a list comprehension that squares number\n",
    "# for all odd numbers from 1 to 100\n",
    "x = range(1,101)\n",
    "\n",
    "oddSquares = [number ** 2 for number in x if number % 2 != 0]\n",
    "\n",
    "print(oddSquares)"
   ]
  },
  {
   "cell_type": "code",
   "execution_count": 68,
   "metadata": {},
   "outputs": [
    {
     "name": "stdout",
     "output_type": "stream",
     "text": [
      "['Bob', 'Barbara']\n"
     ]
    }
   ],
   "source": [
    "# write a lambda function to extract names that begin with 'A'\n",
    "names = ['Anne', 'Amy', 'Bob', 'David', 'Carrie', 'Barbara', 'Zach']\n",
    "\n",
    "bNames = list(map(lambda name : name, filter(lambda name : name[0] == 'B', names)))\n",
    "\n",
    "print(bNames)"
   ]
  },
  {
   "cell_type": "code",
   "execution_count": 67,
   "metadata": {},
   "outputs": [
    {
     "name": "stdout",
     "output_type": "stream",
     "text": [
      "['Bob', 'Barbara']\n"
     ]
    }
   ],
   "source": [
    "# write a list comprehension to extract names that begin with 'B'\n",
    "names = ['Anne', 'Amy', 'Bob', 'David', 'Carrie', 'Barbara', 'Zach']\n",
    "\n",
    "bNames = [name for name in names if name[0] == 'B']\n",
    "\n",
    "print(bNames)"
   ]
  }
 ],
 "metadata": {
  "kernelspec": {
   "display_name": "Python 3 (ipykernel)",
   "language": "python",
   "name": "python3"
  },
  "language_info": {
   "codemirror_mode": {
    "name": "ipython",
    "version": 3
   },
   "file_extension": ".py",
   "mimetype": "text/x-python",
   "name": "python",
   "nbconvert_exporter": "python",
   "pygments_lexer": "ipython3",
   "version": "3.10.9"
  }
 },
 "nbformat": 4,
 "nbformat_minor": 2
}
