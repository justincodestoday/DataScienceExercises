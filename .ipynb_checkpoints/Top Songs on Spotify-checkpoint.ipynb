{
 "cells": [
  {
   "cell_type": "markdown",
   "id": "df095513",
   "metadata": {},
   "source": [
    "# Top Songs on Spotify"
   ]
  },
  {
   "cell_type": "code",
   "execution_count": null,
   "id": "253c3368",
   "metadata": {},
   "outputs": [],
   "source": [
    "# Importing all the Required Libraries\n",
    "\n",
    "import pandas as pd\n",
    "import numpy as np\n",
    "import matplotlib.pyplot as plt\n",
    "import plotly.express as px\n",
    "import plotly.graph_objects as go\n",
    "from plotly.subplots import make_subplots\n",
    "from plotly.offline import init_notebook_mode\n",
    "import seaborn as sns\n",
    "import datetime as dt\n",
    "import warnings\n",
    "warnings.filterwarnings('ignore')\n",
    "pd.set_option('display.max_columns',None)\n",
    "init_notebook_mode(connected=True)"
   ]
  },
  {
   "cell_type": "markdown",
   "id": "095a3590",
   "metadata": {},
   "source": [
    "Extract from the dataset."
   ]
  },
  {
   "cell_type": "code",
   "execution_count": null,
   "id": "8295da07",
   "metadata": {},
   "outputs": [],
   "source": [
    "df=pd.read_csv('/kaggle/input/top-hits-spotify-from-20002019/songs_normalize.csv')"
   ]
  }
 ],
 "metadata": {
  "kernelspec": {
   "display_name": "Python 3 (ipykernel)",
   "language": "python",
   "name": "python3"
  },
  "language_info": {
   "codemirror_mode": {
    "name": "ipython",
    "version": 3
   },
   "file_extension": ".py",
   "mimetype": "text/x-python",
   "name": "python",
   "nbconvert_exporter": "python",
   "pygments_lexer": "ipython3",
   "version": "3.10.11"
  }
 },
 "nbformat": 4,
 "nbformat_minor": 5
}
